{
 "cells": [
  {
   "cell_type": "markdown",
   "id": "860621b0",
   "metadata": {},
   "source": [
    "# uniCOX"
   ]
  },
  {
   "cell_type": "code",
   "execution_count": 1,
   "id": "b9a5192b",
   "metadata": {
    "collapsed": true
   },
   "outputs": [
    {
     "name": "stderr",
     "output_type": "stream",
     "text": [
      "\n",
      "Attaching package: 'dplyr'\n",
      "\n",
      "\n",
      "The following objects are masked from 'package:stats':\n",
      "\n",
      "    filter, lag\n",
      "\n",
      "\n",
      "The following objects are masked from 'package:base':\n",
      "\n",
      "    intersect, setdiff, setequal, union\n",
      "\n",
      "\n",
      "------------------------------------------------------------------------------\n",
      "\n",
      "You have loaded plyr after dplyr - this is likely to cause problems.\n",
      "If you need functions from both plyr and dplyr, please load plyr first, then dplyr:\n",
      "library(plyr); library(dplyr)\n",
      "\n",
      "------------------------------------------------------------------------------\n",
      "\n",
      "\n",
      "Attaching package: 'plyr'\n",
      "\n",
      "\n",
      "The following objects are masked from 'package:dplyr':\n",
      "\n",
      "    arrange, count, desc, failwith, id, mutate, rename, summarise,\n",
      "    summarize\n",
      "\n",
      "\n",
      "\n",
      "Attaching package: 'MASS'\n",
      "\n",
      "\n",
      "The following object is masked from 'package:dplyr':\n",
      "\n",
      "    select\n",
      "\n",
      "\n",
      "Loading required package: grid\n",
      "\n",
      "Loading required package: magrittr\n",
      "\n",
      "Loading required package: checkmate\n",
      "\n"
     ]
    }
   ],
   "source": [
    "setwd(\"E:/notebook/childhood_pneumonia\")\n",
    "library(dplyr)\n",
    "library(survival)\n",
    "library(plyr)\n",
    "library(MASS)\n",
    "library(forestplot)\n",
    "library(pheatmap)"
   ]
  },
  {
   "cell_type": "code",
   "execution_count": 2,
   "id": "22199af8",
   "metadata": {},
   "outputs": [
    {
     "data": {
      "text/html": [
       "<table class=\"dataframe\">\n",
       "<caption>A data.frame: 2 × 90</caption>\n",
       "<thead>\n",
       "\t<tr><th></th><th scope=col>SUBJECT_ID</th><th scope=col>ADMI_AGE</th><th scope=col>GENDER</th><th scope=col>Time</th><th scope=col>EXPIRE_FLAG</th><th scope=col>X5013.PARAINFLUENZA.VIRUS.TYPE.2</th><th scope=col>X5015.RSV</th><th scope=col>X5205.HIV.Antibody</th><th scope=col>X5333.starch.granules</th><th scope=col>X5370.WBC.pus.cell</th><th scope=col>⋯</th><th scope=col>X5493.Basophils.Count</th><th scope=col>X5626.C.Reactive.Protein</th><th scope=col>X6236.Cholinesterase</th><th scope=col>X6261.Cystatin.C</th><th scope=col>X6316.Monocyte.Count</th><th scope=col>X6317.Monocytes</th><th scope=col>X6318.Eosinophil.Count</th><th scope=col>X6471.Serum.hemolytic.index</th><th scope=col>X6472.Serum..icteric.index</th><th scope=col>X6473.Lipase</th></tr>\n",
       "\t<tr><th></th><th scope=col>&lt;int&gt;</th><th scope=col>&lt;int&gt;</th><th scope=col>&lt;chr&gt;</th><th scope=col>&lt;int&gt;</th><th scope=col>&lt;int&gt;</th><th scope=col>&lt;chr&gt;</th><th scope=col>&lt;chr&gt;</th><th scope=col>&lt;chr&gt;</th><th scope=col>&lt;chr&gt;</th><th scope=col>&lt;chr&gt;</th><th scope=col>⋯</th><th scope=col>&lt;dbl&gt;</th><th scope=col>&lt;dbl&gt;</th><th scope=col>&lt;int&gt;</th><th scope=col>&lt;dbl&gt;</th><th scope=col>&lt;dbl&gt;</th><th scope=col>&lt;dbl&gt;</th><th scope=col>&lt;dbl&gt;</th><th scope=col>&lt;int&gt;</th><th scope=col>&lt;int&gt;</th><th scope=col>&lt;int&gt;</th></tr>\n",
       "</thead>\n",
       "<tbody>\n",
       "\t<tr><th scope=row>1</th><td>628</td><td>198</td><td>F</td><td>15</td><td>0</td><td>Negative</td><td>Negative</td><td>NA</td><td>Negative</td><td>Negative</td><td>⋯</td><td>0.03</td><td>NA</td><td>5381</td><td>0.62</td><td>0.14</td><td>1.9</td><td>0.01</td><td>19</td><td> 1</td><td> 8</td></tr>\n",
       "\t<tr><th scope=row>2</th><td>643</td><td> 48</td><td>F</td><td>17</td><td>0</td><td>Negative</td><td>Positive</td><td>NA</td><td>NA      </td><td>NA      </td><td>⋯</td><td>0.01</td><td>16</td><td>  NA</td><td>  NA</td><td>0.12</td><td>2.0</td><td>0.03</td><td>NA</td><td>NA</td><td>NA</td></tr>\n",
       "</tbody>\n",
       "</table>\n"
      ],
      "text/latex": [
       "A data.frame: 2 × 90\n",
       "\\begin{tabular}{r|lllllllllllllllllllll}\n",
       "  & SUBJECT\\_ID & ADMI\\_AGE & GENDER & Time & EXPIRE\\_FLAG & X5013.PARAINFLUENZA.VIRUS.TYPE.2 & X5015.RSV & X5205.HIV.Antibody & X5333.starch.granules & X5370.WBC.pus.cell & ⋯ & X5493.Basophils.Count & X5626.C.Reactive.Protein & X6236.Cholinesterase & X6261.Cystatin.C & X6316.Monocyte.Count & X6317.Monocytes & X6318.Eosinophil.Count & X6471.Serum.hemolytic.index & X6472.Serum..icteric.index & X6473.Lipase\\\\\n",
       "  & <int> & <int> & <chr> & <int> & <int> & <chr> & <chr> & <chr> & <chr> & <chr> & ⋯ & <dbl> & <dbl> & <int> & <dbl> & <dbl> & <dbl> & <dbl> & <int> & <int> & <int>\\\\\n",
       "\\hline\n",
       "\t1 & 628 & 198 & F & 15 & 0 & Negative & Negative & NA & Negative & Negative & ⋯ & 0.03 & NA & 5381 & 0.62 & 0.14 & 1.9 & 0.01 & 19 &  1 &  8\\\\\n",
       "\t2 & 643 &  48 & F & 17 & 0 & Negative & Positive & NA & NA       & NA       & ⋯ & 0.01 & 16 &   NA &   NA & 0.12 & 2.0 & 0.03 & NA & NA & NA\\\\\n",
       "\\end{tabular}\n"
      ],
      "text/markdown": [
       "\n",
       "A data.frame: 2 × 90\n",
       "\n",
       "| <!--/--> | SUBJECT_ID &lt;int&gt; | ADMI_AGE &lt;int&gt; | GENDER &lt;chr&gt; | Time &lt;int&gt; | EXPIRE_FLAG &lt;int&gt; | X5013.PARAINFLUENZA.VIRUS.TYPE.2 &lt;chr&gt; | X5015.RSV &lt;chr&gt; | X5205.HIV.Antibody &lt;chr&gt; | X5333.starch.granules &lt;chr&gt; | X5370.WBC.pus.cell &lt;chr&gt; | ⋯ ⋯ | X5493.Basophils.Count &lt;dbl&gt; | X5626.C.Reactive.Protein &lt;dbl&gt; | X6236.Cholinesterase &lt;int&gt; | X6261.Cystatin.C &lt;dbl&gt; | X6316.Monocyte.Count &lt;dbl&gt; | X6317.Monocytes &lt;dbl&gt; | X6318.Eosinophil.Count &lt;dbl&gt; | X6471.Serum.hemolytic.index &lt;int&gt; | X6472.Serum..icteric.index &lt;int&gt; | X6473.Lipase &lt;int&gt; |\n",
       "|---|---|---|---|---|---|---|---|---|---|---|---|---|---|---|---|---|---|---|---|---|---|\n",
       "| 1 | 628 | 198 | F | 15 | 0 | Negative | Negative | NA | Negative | Negative | ⋯ | 0.03 | NA | 5381 | 0.62 | 0.14 | 1.9 | 0.01 | 19 |  1 |  8 |\n",
       "| 2 | 643 |  48 | F | 17 | 0 | Negative | Positive | NA | NA       | NA       | ⋯ | 0.01 | 16 |   NA |   NA | 0.12 | 2.0 | 0.03 | NA | NA | NA |\n",
       "\n"
      ],
      "text/plain": [
       "  SUBJECT_ID ADMI_AGE GENDER Time EXPIRE_FLAG X5013.PARAINFLUENZA.VIRUS.TYPE.2\n",
       "1 628        198      F      15   0           Negative                        \n",
       "2 643         48      F      17   0           Negative                        \n",
       "  X5015.RSV X5205.HIV.Antibody X5333.starch.granules X5370.WBC.pus.cell ⋯\n",
       "1 Negative  NA                 Negative              Negative           ⋯\n",
       "2 Positive  NA                 NA                    NA                 ⋯\n",
       "  X5493.Basophils.Count X5626.C.Reactive.Protein X6236.Cholinesterase\n",
       "1 0.03                  NA                       5381                \n",
       "2 0.01                  16                         NA                \n",
       "  X6261.Cystatin.C X6316.Monocyte.Count X6317.Monocytes X6318.Eosinophil.Count\n",
       "1 0.62             0.14                 1.9             0.01                  \n",
       "2   NA             0.12                 2.0             0.03                  \n",
       "  X6471.Serum.hemolytic.index X6472.Serum..icteric.index X6473.Lipase\n",
       "1 19                           1                          8          \n",
       "2 NA                          NA                         NA          "
      ]
     },
     "metadata": {},
     "output_type": "display_data"
    }
   ],
   "source": [
    "data<-read.csv(\"./Temps/1.finalData.csv\",stringsAsFactors = F)\n",
    "Cox_sx<-read.csv(\"./Results/1.dataBeforeCox.csv\",stringsAsFactors = F)\n",
    "head(Cox_sx,2)"
   ]
  },
  {
   "cell_type": "code",
   "execution_count": 3,
   "id": "044fac38",
   "metadata": {},
   "outputs": [],
   "source": [
    "UniCox_Data<-Cox_sx[,-c(1,4,5)]\n",
    "UniCox_Data$GENDER<-as.factor(UniCox_Data$GENDER)\n",
    "surv<-Surv(time = Cox_sx$Time,event = Cox_sx$EXPIRE_FLAG)\n",
    "UniCox_Data$surv=surv"
   ]
  },
  {
   "cell_type": "code",
   "execution_count": 4,
   "id": "fa245c19",
   "metadata": {},
   "outputs": [],
   "source": [
    "#unicox function\n",
    "UniCox<-function(x){\n",
    "  FML<-as.formula(paste0(\"surv~\",x))\n",
    "  Cox<-coxph(FML,data = UniCox_Data) \n",
    "  Sum<-summary(Cox)\n",
    "  CI<-paste0(round(Sum$conf.int[,3:4],3),collapse = \"-\") \n",
    "  Pvalue<-round(Sum$coefficients[,5],3)\n",
    "  HR<-round(Sum$coefficients[,2],3)\n",
    "  Unicox<-data.frame(\"Characteristics\"=x,\n",
    "                     \"Hazard Ratio\"=HR,\n",
    "                     \"CI95\"=CI,\n",
    "                     \"P value\"=Pvalue)\n",
    "  return(Unicox)\n",
    "}"
   ]
  },
  {
   "cell_type": "code",
   "execution_count": 5,
   "id": "0f2edbeb",
   "metadata": {},
   "outputs": [
    {
     "data": {
      "text/html": [
       "<table class=\"dataframe\">\n",
       "<caption>A data.frame: 2 × 88</caption>\n",
       "<thead>\n",
       "\t<tr><th></th><th scope=col>ADMI_AGE</th><th scope=col>GENDER</th><th scope=col>X5013.PARAINFLUENZA.VIRUS.TYPE.2</th><th scope=col>X5015.RSV</th><th scope=col>X5205.HIV.Antibody</th><th scope=col>X5333.starch.granules</th><th scope=col>X5370.WBC.pus.cell</th><th scope=col>X5371.mucus</th><th scope=col>X5378.Other.cells</th><th scope=col>X5379.RBC</th><th scope=col>⋯</th><th scope=col>X5626.C.Reactive.Protein</th><th scope=col>X6236.Cholinesterase</th><th scope=col>X6261.Cystatin.C</th><th scope=col>X6316.Monocyte.Count</th><th scope=col>X6317.Monocytes</th><th scope=col>X6318.Eosinophil.Count</th><th scope=col>X6471.Serum.hemolytic.index</th><th scope=col>X6472.Serum..icteric.index</th><th scope=col>X6473.Lipase</th><th scope=col>surv</th></tr>\n",
       "\t<tr><th></th><th scope=col>&lt;int&gt;</th><th scope=col>&lt;fct&gt;</th><th scope=col>&lt;chr&gt;</th><th scope=col>&lt;chr&gt;</th><th scope=col>&lt;chr&gt;</th><th scope=col>&lt;chr&gt;</th><th scope=col>&lt;chr&gt;</th><th scope=col>&lt;chr&gt;</th><th scope=col>&lt;chr&gt;</th><th scope=col>&lt;chr&gt;</th><th scope=col>⋯</th><th scope=col>&lt;dbl&gt;</th><th scope=col>&lt;int&gt;</th><th scope=col>&lt;dbl&gt;</th><th scope=col>&lt;dbl&gt;</th><th scope=col>&lt;dbl&gt;</th><th scope=col>&lt;dbl&gt;</th><th scope=col>&lt;int&gt;</th><th scope=col>&lt;int&gt;</th><th scope=col>&lt;int&gt;</th><th scope=col>&lt;Surv&gt;</th></tr>\n",
       "</thead>\n",
       "<tbody>\n",
       "\t<tr><th scope=row>1</th><td>198</td><td>F</td><td>Negative</td><td>Negative</td><td>NA</td><td>Negative</td><td>Negative</td><td>Negative</td><td>Negative</td><td>Negative</td><td>⋯</td><td>NA</td><td>5381</td><td>0.62</td><td>0.14</td><td>1.9</td><td>0.01</td><td>19</td><td> 1</td><td> 8</td><td>15, 0</td></tr>\n",
       "\t<tr><th scope=row>2</th><td> 48</td><td>F</td><td>Negative</td><td>Positive</td><td>NA</td><td>NA      </td><td>NA      </td><td>NA      </td><td>NA      </td><td>NA      </td><td>⋯</td><td>16</td><td>  NA</td><td>  NA</td><td>0.12</td><td>2.0</td><td>0.03</td><td>NA</td><td>NA</td><td>NA</td><td>17, 0</td></tr>\n",
       "</tbody>\n",
       "</table>\n"
      ],
      "text/latex": [
       "A data.frame: 2 × 88\n",
       "\\begin{tabular}{r|lllllllllllllllllllll}\n",
       "  & ADMI\\_AGE & GENDER & X5013.PARAINFLUENZA.VIRUS.TYPE.2 & X5015.RSV & X5205.HIV.Antibody & X5333.starch.granules & X5370.WBC.pus.cell & X5371.mucus & X5378.Other.cells & X5379.RBC & ⋯ & X5626.C.Reactive.Protein & X6236.Cholinesterase & X6261.Cystatin.C & X6316.Monocyte.Count & X6317.Monocytes & X6318.Eosinophil.Count & X6471.Serum.hemolytic.index & X6472.Serum..icteric.index & X6473.Lipase & surv\\\\\n",
       "  & <int> & <fct> & <chr> & <chr> & <chr> & <chr> & <chr> & <chr> & <chr> & <chr> & ⋯ & <dbl> & <int> & <dbl> & <dbl> & <dbl> & <dbl> & <int> & <int> & <int> & <Surv>\\\\\n",
       "\\hline\n",
       "\t1 & 198 & F & Negative & Negative & NA & Negative & Negative & Negative & Negative & Negative & ⋯ & NA & 5381 & 0.62 & 0.14 & 1.9 & 0.01 & 19 &  1 &  8 & 15, 0\\\\\n",
       "\t2 &  48 & F & Negative & Positive & NA & NA       & NA       & NA       & NA       & NA       & ⋯ & 16 &   NA &   NA & 0.12 & 2.0 & 0.03 & NA & NA & NA & 17, 0\\\\\n",
       "\\end{tabular}\n"
      ],
      "text/markdown": [
       "\n",
       "A data.frame: 2 × 88\n",
       "\n",
       "| <!--/--> | ADMI_AGE &lt;int&gt; | GENDER &lt;fct&gt; | X5013.PARAINFLUENZA.VIRUS.TYPE.2 &lt;chr&gt; | X5015.RSV &lt;chr&gt; | X5205.HIV.Antibody &lt;chr&gt; | X5333.starch.granules &lt;chr&gt; | X5370.WBC.pus.cell &lt;chr&gt; | X5371.mucus &lt;chr&gt; | X5378.Other.cells &lt;chr&gt; | X5379.RBC &lt;chr&gt; | ⋯ ⋯ | X5626.C.Reactive.Protein &lt;dbl&gt; | X6236.Cholinesterase &lt;int&gt; | X6261.Cystatin.C &lt;dbl&gt; | X6316.Monocyte.Count &lt;dbl&gt; | X6317.Monocytes &lt;dbl&gt; | X6318.Eosinophil.Count &lt;dbl&gt; | X6471.Serum.hemolytic.index &lt;int&gt; | X6472.Serum..icteric.index &lt;int&gt; | X6473.Lipase &lt;int&gt; | surv &lt;Surv&gt; |\n",
       "|---|---|---|---|---|---|---|---|---|---|---|---|---|---|---|---|---|---|---|---|---|---|\n",
       "| 1 | 198 | F | Negative | Negative | NA | Negative | Negative | Negative | Negative | Negative | ⋯ | NA | 5381 | 0.62 | 0.14 | 1.9 | 0.01 | 19 |  1 |  8 | 15, 0 |\n",
       "| 2 |  48 | F | Negative | Positive | NA | NA       | NA       | NA       | NA       | NA       | ⋯ | 16 |   NA |   NA | 0.12 | 2.0 | 0.03 | NA | NA | NA | 17, 0 |\n",
       "\n"
      ],
      "text/plain": [
       "  ADMI_AGE GENDER X5013.PARAINFLUENZA.VIRUS.TYPE.2 X5015.RSV X5205.HIV.Antibody\n",
       "1 198      F      Negative                         Negative  NA                \n",
       "2  48      F      Negative                         Positive  NA                \n",
       "  X5333.starch.granules X5370.WBC.pus.cell X5371.mucus X5378.Other.cells\n",
       "1 Negative              Negative           Negative    Negative         \n",
       "2 NA                    NA                 NA          NA               \n",
       "  X5379.RBC ⋯ X5626.C.Reactive.Protein X6236.Cholinesterase X6261.Cystatin.C\n",
       "1 Negative  ⋯ NA                       5381                 0.62            \n",
       "2 NA        ⋯ 16                         NA                   NA            \n",
       "  X6316.Monocyte.Count X6317.Monocytes X6318.Eosinophil.Count\n",
       "1 0.14                 1.9             0.01                  \n",
       "2 0.12                 2.0             0.03                  \n",
       "  X6471.Serum.hemolytic.index X6472.Serum..icteric.index X6473.Lipase surv \n",
       "1 19                           1                          8           15, 0\n",
       "2 NA                          NA                         NA           17, 0"
      ]
     },
     "metadata": {},
     "output_type": "display_data"
    }
   ],
   "source": [
    "head(UniCox_Data,2)"
   ]
  },
  {
   "cell_type": "code",
   "execution_count": 6,
   "id": "30f2cc9b",
   "metadata": {
    "collapsed": true
   },
   "outputs": [
    {
     "data": {
      "text/html": [
       "87"
      ],
      "text/latex": [
       "87"
      ],
      "text/markdown": [
       "87"
      ],
      "text/plain": [
       "[1] 87"
      ]
     },
     "metadata": {},
     "output_type": "display_data"
    },
    {
     "name": "stderr",
     "output_type": "stream",
     "text": [
      "next...\n",
      "\n",
      "next...\n",
      "\n",
      "Error @ X5013.PARAINFLUENZA.VIRUS.TYPE.2\n",
      "\n",
      "next...\n",
      "\n",
      "Warning message in coxph.fit(X, Y, istrat, offset, init, control, weights = weights, :\n",
      "\"Loglik converged before variable  1,2 ; coefficient may be infinite. \"\n",
      "next...\n",
      "\n",
      "Error @ X5205.HIV.Antibody\n",
      "\n",
      "next...\n",
      "\n",
      "next...\n",
      "\n",
      "Warning message in coxph.fit(X, Y, istrat, offset, init, control, weights = weights, :\n",
      "\"Loglik converged before variable  3,4 ; coefficient may be infinite. \"\n",
      "next...\n",
      "\n",
      "Warning message in coxph.fit(X, Y, istrat, offset, init, control, weights = weights, :\n",
      "\"Loglik converged before variable  1 ; coefficient may be infinite. \"\n",
      "next...\n",
      "\n",
      "next...\n",
      "\n",
      "Error @ X5379.RBC\n",
      "\n",
      "next...\n",
      "\n",
      "Error @ X5407.Blood\n",
      "\n",
      "next...\n",
      "\n",
      "Warning message in coxph.fit(X, Y, istrat, offset, init, control, weights = weights, :\n",
      "\"Loglik converged before variable  2 ; coefficient may be infinite. \"\n",
      "next...\n",
      "\n",
      "Warning message in coxph.fit(X, Y, istrat, offset, init, control, weights = weights, :\n",
      "\"Loglik converged before variable  1,2,3,4,5,6,7 ; coefficient may be infinite. \"\n",
      "next...\n",
      "\n",
      "Warning message in coxph.fit(X, Y, istrat, offset, init, control, weights = weights, :\n",
      "\"Loglik converged before variable  2 ; coefficient may be infinite. \"\n",
      "next...\n",
      "\n",
      "Error @ X5866.HBV.pre.S1.antigen\n",
      "\n",
      "next...\n",
      "\n",
      "Warning message in coxph.fit(X, Y, istrat, offset, init, control, weights = weights, :\n",
      "\"Loglik converged before variable  1 ; coefficient may be infinite. \"\n",
      "next...\n",
      "\n",
      "Warning message in coxph.fit(X, Y, istrat, offset, init, control, weights = weights, :\n",
      "\"Loglik converged before variable  2 ; coefficient may be infinite. \"\n",
      "next...\n",
      "\n",
      "next...\n",
      "\n",
      "next...\n",
      "\n",
      "next...\n",
      "\n",
      "next...\n",
      "\n",
      "next...\n",
      "\n",
      "next...\n",
      "\n",
      "next...\n",
      "\n",
      "next...\n",
      "\n",
      "next...\n",
      "\n",
      "next...\n",
      "\n",
      "next...\n",
      "\n",
      "next...\n",
      "\n",
      "next...\n",
      "\n",
      "next...\n",
      "\n",
      "next...\n",
      "\n",
      "next...\n",
      "\n",
      "next...\n",
      "\n",
      "next...\n",
      "\n",
      "next...\n",
      "\n",
      "next...\n",
      "\n",
      "next...\n",
      "\n",
      "next...\n",
      "\n",
      "next...\n",
      "\n",
      "next...\n",
      "\n",
      "next...\n",
      "\n",
      "next...\n",
      "\n",
      "next...\n",
      "\n",
      "next...\n",
      "\n",
      "next...\n",
      "\n",
      "next...\n",
      "\n",
      "next...\n",
      "\n",
      "next...\n",
      "\n",
      "next...\n",
      "\n",
      "next...\n",
      "\n",
      "next...\n",
      "\n",
      "next...\n",
      "\n",
      "next...\n",
      "\n",
      "next...\n",
      "\n",
      "next...\n",
      "\n",
      "next...\n",
      "\n",
      "next...\n",
      "\n",
      "next...\n",
      "\n",
      "next...\n",
      "\n",
      "next...\n",
      "\n",
      "next...\n",
      "\n",
      "next...\n",
      "\n",
      "next...\n",
      "\n",
      "next...\n",
      "\n",
      "next...\n",
      "\n",
      "next...\n",
      "\n",
      "next...\n",
      "\n",
      "next...\n",
      "\n",
      "next...\n",
      "\n",
      "next...\n",
      "\n",
      "next...\n",
      "\n",
      "next...\n",
      "\n",
      "next...\n",
      "\n",
      "next...\n",
      "\n",
      "next...\n",
      "\n",
      "next...\n",
      "\n",
      "next...\n",
      "\n",
      "next...\n",
      "\n",
      "next...\n",
      "\n",
      "next...\n",
      "\n",
      "next...\n",
      "\n",
      "next...\n",
      "\n",
      "next...\n",
      "\n",
      "next...\n",
      "\n",
      "next...\n",
      "\n",
      "next...\n",
      "\n"
     ]
    }
   ],
   "source": [
    "varNames<-colnames(UniCox_Data)[1:87] \n",
    "length(varNames)\n",
    "UniVar<-list()\n",
    "for (nm in varNames){\n",
    "  temp <- tryCatch(\n",
    "    { UniCox(nm) },\n",
    "    error = function(e) { message('Error @ ',nm) ; return(NA) },\n",
    "    finally = { message('next...') \n",
    "    }\n",
    "  )\n",
    "  UniVar[[nm]] <- temp\n",
    "}\n",
    "\n"
   ]
  },
  {
   "cell_type": "code",
   "execution_count": 7,
   "id": "d40ba47a",
   "metadata": {
    "scrolled": true
   },
   "outputs": [],
   "source": [
    "UniVar<-ldply(UniVar,data.frame)\n",
    "UniVar<-UniVar[,2:5]\n",
    "UniVar<-na.omit(UniVar)\n",
    "#write.csv(UniVar,\"./Results/2.unicoxResults.csv\",row.names = F)\n"
   ]
  },
  {
   "cell_type": "code",
   "execution_count": 8,
   "id": "613e046a",
   "metadata": {},
   "outputs": [],
   "source": [
    "Cox_Item<-UniVar$Characteristics[UniVar$P.value<0.05]\n",
    "Cox_data<-data[,c(which(colnames(data) %in% Cox_Item))]\n",
    "Cox_data<-Cox_data %>%filter(!if_all(.fns = is.na))\n",
    "p_id<-data$SUBJECT_ID[as.numeric(rownames(Cox_data))] "
   ]
  },
  {
   "cell_type": "code",
   "execution_count": 9,
   "id": "382cd1fa",
   "metadata": {},
   "outputs": [
    {
     "data": {
      "text/plain": [
       "\n",
       "  0   1 \n",
       "536  95 "
      ]
     },
     "metadata": {},
     "output_type": "display_data"
    },
    {
     "data": {
      "text/html": [
       "<table class=\"dataframe\">\n",
       "<caption>A data.frame: 2 × 27</caption>\n",
       "<thead>\n",
       "\t<tr><th></th><th scope=col>SUBJECT_ID</th><th scope=col>Time</th><th scope=col>EXPIRE_FLAG</th><th scope=col>X5409.Hardness</th><th scope=col>X5002.Eosinophils</th><th scope=col>X5022.adenosine.deaminase</th><th scope=col>X5033.Urea</th><th scope=col>X5034.Calcium..Total</th><th scope=col>X5045.Gamma.Glutamyltransferase</th><th scope=col>X5055.Bilirubin..Indirect</th><th scope=col>⋯</th><th scope=col>X5224.Calculated.Bicarbonate..Whole.Blood</th><th scope=col>X5227.Lactate</th><th scope=col>X5237.pH</th><th scope=col>X5239.pO2</th><th scope=col>X5248.Bicarbonate</th><th scope=col>X5249.Base.Excess</th><th scope=col>X5252.Oxygen.Saturation</th><th scope=col>X6317.Monocytes</th><th scope=col>X6471.Serum.hemolytic.index</th><th scope=col>X6473.Lipase</th></tr>\n",
       "\t<tr><th></th><th scope=col>&lt;int&gt;</th><th scope=col>&lt;int&gt;</th><th scope=col>&lt;int&gt;</th><th scope=col>&lt;chr&gt;</th><th scope=col>&lt;dbl&gt;</th><th scope=col>&lt;dbl&gt;</th><th scope=col>&lt;dbl&gt;</th><th scope=col>&lt;dbl&gt;</th><th scope=col>&lt;int&gt;</th><th scope=col>&lt;dbl&gt;</th><th scope=col>⋯</th><th scope=col>&lt;dbl&gt;</th><th scope=col>&lt;dbl&gt;</th><th scope=col>&lt;dbl&gt;</th><th scope=col>&lt;dbl&gt;</th><th scope=col>&lt;dbl&gt;</th><th scope=col>&lt;dbl&gt;</th><th scope=col>&lt;dbl&gt;</th><th scope=col>&lt;dbl&gt;</th><th scope=col>&lt;int&gt;</th><th scope=col>&lt;int&gt;</th></tr>\n",
       "</thead>\n",
       "<tbody>\n",
       "\t<tr><th scope=row>1</th><td>628</td><td>15</td><td>0</td><td>Pasty</td><td>0.1</td><td>52</td><td>5.13</td><td>2.09</td><td>308</td><td>3.9</td><td>⋯</td><td>23.9</td><td>1.4</td><td>7.280</td><td>51.9</td><td>22.3</td><td>-1.9</td><td>81.6</td><td>1.9</td><td>19</td><td> 8</td></tr>\n",
       "\t<tr><th scope=row>2</th><td>643</td><td>17</td><td>0</td><td>NA   </td><td>0.6</td><td>NA</td><td>  NA</td><td>  NA</td><td> NA</td><td> NA</td><td>⋯</td><td>28.0</td><td>1.3</td><td>7.312</td><td>52.7</td><td>26.5</td><td> 2.4</td><td>90.9</td><td>2.0</td><td>NA</td><td>NA</td></tr>\n",
       "</tbody>\n",
       "</table>\n"
      ],
      "text/latex": [
       "A data.frame: 2 × 27\n",
       "\\begin{tabular}{r|lllllllllllllllllllll}\n",
       "  & SUBJECT\\_ID & Time & EXPIRE\\_FLAG & X5409.Hardness & X5002.Eosinophils & X5022.adenosine.deaminase & X5033.Urea & X5034.Calcium..Total & X5045.Gamma.Glutamyltransferase & X5055.Bilirubin..Indirect & ⋯ & X5224.Calculated.Bicarbonate..Whole.Blood & X5227.Lactate & X5237.pH & X5239.pO2 & X5248.Bicarbonate & X5249.Base.Excess & X5252.Oxygen.Saturation & X6317.Monocytes & X6471.Serum.hemolytic.index & X6473.Lipase\\\\\n",
       "  & <int> & <int> & <int> & <chr> & <dbl> & <dbl> & <dbl> & <dbl> & <int> & <dbl> & ⋯ & <dbl> & <dbl> & <dbl> & <dbl> & <dbl> & <dbl> & <dbl> & <dbl> & <int> & <int>\\\\\n",
       "\\hline\n",
       "\t1 & 628 & 15 & 0 & Pasty & 0.1 & 52 & 5.13 & 2.09 & 308 & 3.9 & ⋯ & 23.9 & 1.4 & 7.280 & 51.9 & 22.3 & -1.9 & 81.6 & 1.9 & 19 &  8\\\\\n",
       "\t2 & 643 & 17 & 0 & NA    & 0.6 & NA &   NA &   NA &  NA &  NA & ⋯ & 28.0 & 1.3 & 7.312 & 52.7 & 26.5 &  2.4 & 90.9 & 2.0 & NA & NA\\\\\n",
       "\\end{tabular}\n"
      ],
      "text/markdown": [
       "\n",
       "A data.frame: 2 × 27\n",
       "\n",
       "| <!--/--> | SUBJECT_ID &lt;int&gt; | Time &lt;int&gt; | EXPIRE_FLAG &lt;int&gt; | X5409.Hardness &lt;chr&gt; | X5002.Eosinophils &lt;dbl&gt; | X5022.adenosine.deaminase &lt;dbl&gt; | X5033.Urea &lt;dbl&gt; | X5034.Calcium..Total &lt;dbl&gt; | X5045.Gamma.Glutamyltransferase &lt;int&gt; | X5055.Bilirubin..Indirect &lt;dbl&gt; | ⋯ ⋯ | X5224.Calculated.Bicarbonate..Whole.Blood &lt;dbl&gt; | X5227.Lactate &lt;dbl&gt; | X5237.pH &lt;dbl&gt; | X5239.pO2 &lt;dbl&gt; | X5248.Bicarbonate &lt;dbl&gt; | X5249.Base.Excess &lt;dbl&gt; | X5252.Oxygen.Saturation &lt;dbl&gt; | X6317.Monocytes &lt;dbl&gt; | X6471.Serum.hemolytic.index &lt;int&gt; | X6473.Lipase &lt;int&gt; |\n",
       "|---|---|---|---|---|---|---|---|---|---|---|---|---|---|---|---|---|---|---|---|---|---|\n",
       "| 1 | 628 | 15 | 0 | Pasty | 0.1 | 52 | 5.13 | 2.09 | 308 | 3.9 | ⋯ | 23.9 | 1.4 | 7.280 | 51.9 | 22.3 | -1.9 | 81.6 | 1.9 | 19 |  8 |\n",
       "| 2 | 643 | 17 | 0 | NA    | 0.6 | NA |   NA |   NA |  NA |  NA | ⋯ | 28.0 | 1.3 | 7.312 | 52.7 | 26.5 |  2.4 | 90.9 | 2.0 | NA | NA |\n",
       "\n"
      ],
      "text/plain": [
       "  SUBJECT_ID Time EXPIRE_FLAG X5409.Hardness X5002.Eosinophils\n",
       "1 628        15   0           Pasty          0.1              \n",
       "2 643        17   0           NA             0.6              \n",
       "  X5022.adenosine.deaminase X5033.Urea X5034.Calcium..Total\n",
       "1 52                        5.13       2.09                \n",
       "2 NA                          NA         NA                \n",
       "  X5045.Gamma.Glutamyltransferase X5055.Bilirubin..Indirect ⋯\n",
       "1 308                             3.9                       ⋯\n",
       "2  NA                              NA                       ⋯\n",
       "  X5224.Calculated.Bicarbonate..Whole.Blood X5227.Lactate X5237.pH X5239.pO2\n",
       "1 23.9                                      1.4           7.280    51.9     \n",
       "2 28.0                                      1.3           7.312    52.7     \n",
       "  X5248.Bicarbonate X5249.Base.Excess X5252.Oxygen.Saturation X6317.Monocytes\n",
       "1 22.3              -1.9              81.6                    1.9            \n",
       "2 26.5               2.4              90.9                    2.0            \n",
       "  X6471.Serum.hemolytic.index X6473.Lipase\n",
       "1 19                           8          \n",
       "2 NA                          NA          "
      ]
     },
     "metadata": {},
     "output_type": "display_data"
    }
   ],
   "source": [
    "Cox_all<-cbind(SUBJECT_ID=data$SUBJECT_ID, Time=data$Time, EXPIRE_FLAG=data$EXPIRE_FLAG)\n",
    "Cox_all<-as.data.frame(Cox_all[which(Cox_all[,1]%in% p_id),]) \n",
    "heat_fac <- Cox_data %>% select_if(is.character)\n",
    "heat_num <- Cox_data %>% select_if(is.numeric)\n",
    "Cox_all<-cbind(Cox_all,heat_fac,heat_num)\n",
    "table(Cox_all$EXPIRE_FLAG)\n",
    "head(Cox_all,2)"
   ]
  },
  {
   "cell_type": "markdown",
   "id": "b241e8be",
   "metadata": {},
   "source": [
    "# mutiCOX"
   ]
  },
  {
   "cell_type": "code",
   "execution_count": 10,
   "id": "f3ce826d",
   "metadata": {},
   "outputs": [
    {
     "name": "stderr",
     "output_type": "stream",
     "text": [
      "Warning message in coxph.fit(X, Y, istrat, offset, init, control, weights = weights, :\n",
      "\"Loglik converged before variable  2 ; coefficient may be infinite. \"\n"
     ]
    },
    {
     "data": {
      "text/plain": [
       "Call:\n",
       "coxph(formula = FML, data = UniCox_var)\n",
       "\n",
       "  n= 466, number of events= 57 \n",
       "\n",
       "                                                coef  exp(coef)   se(coef)\n",
       "X5409.HardnessSoft                         8.219e-01  2.275e+00  3.629e-01\n",
       "X5409.HardnessThin                        -1.382e+01  9.972e-07  2.932e+03\n",
       "X5002.Eosinophils                         -1.471e-01  8.632e-01  5.454e-01\n",
       "X5022.adenosine.deaminase                 -1.668e-02  9.835e-01  1.047e-02\n",
       "X5033.Urea                                -2.049e-01  8.147e-01  7.621e-02\n",
       "X5034.Calcium..Total                      -8.389e-01  4.322e-01  5.879e-01\n",
       "X5045.Gamma.Glutamyltransferase           -3.560e-03  9.964e-01  3.221e-03\n",
       "X5055.Bilirubin..Indirect                  3.426e-03  1.003e+00  5.358e-03\n",
       "X5083.Uric.Acid..Urine                     4.759e-03  1.005e+00  1.491e-03\n",
       "X5095.Neutrophils..                        8.187e-02  1.085e+00  5.109e-01\n",
       "X5099.Hemoglobin                          -2.047e-02  9.797e-01  9.224e-03\n",
       "X5111.Lymphocytes..Percent                 7.650e-02  1.080e+00  5.129e-01\n",
       "X5114.MCHC                                -4.795e-03  9.952e-01  1.003e-02\n",
       "X5211.Base.Excess                         -1.357e+00  2.573e-01  7.863e-01\n",
       "X5223.Glucose                             -4.925e-03  9.951e-01  5.106e-02\n",
       "X5224.Calculated.Bicarbonate..Whole.Blood -2.781e+00  6.196e-02  1.722e+00\n",
       "X5227.Lactate                             -2.131e-02  9.789e-01  9.366e-02\n",
       "X5237.pH                                  -3.234e+01  9.025e-15  2.323e+01\n",
       "X5239.pO2                                 -7.278e-04  9.993e-01  4.103e-03\n",
       "X5248.Bicarbonate                          4.420e-01  1.556e+00  4.232e-01\n",
       "X5249.Base.Excess                          3.885e+00  4.867e+01  2.178e+00\n",
       "X5252.Oxygen.Saturation                   -4.279e-02  9.581e-01  1.429e-02\n",
       "X6317.Monocytes                            8.876e-02  1.093e+00  5.204e-01\n",
       "X6471.Serum.hemolytic.index                9.647e-04  1.001e+00  3.908e-03\n",
       "X6473.Lipase                               3.324e-02  1.034e+00  1.658e-02\n",
       "                                               z Pr(>|z|)   \n",
       "X5409.HardnessSoft                         2.265  0.02352 * \n",
       "X5409.HardnessThin                        -0.005  0.99624   \n",
       "X5002.Eosinophils                         -0.270  0.78744   \n",
       "X5022.adenosine.deaminase                 -1.593  0.11107   \n",
       "X5033.Urea                                -2.689  0.00717 **\n",
       "X5034.Calcium..Total                      -1.427  0.15357   \n",
       "X5045.Gamma.Glutamyltransferase           -1.105  0.26907   \n",
       "X5055.Bilirubin..Indirect                  0.639  0.52260   \n",
       "X5083.Uric.Acid..Urine                     3.192  0.00141 **\n",
       "X5095.Neutrophils..                        0.160  0.87268   \n",
       "X5099.Hemoglobin                          -2.219  0.02649 * \n",
       "X5111.Lymphocytes..Percent                 0.149  0.88143   \n",
       "X5114.MCHC                                -0.478  0.63266   \n",
       "X5211.Base.Excess                         -1.726  0.08426 . \n",
       "X5223.Glucose                             -0.096  0.92316   \n",
       "X5224.Calculated.Bicarbonate..Whole.Blood -1.615  0.10621   \n",
       "X5227.Lactate                             -0.228  0.82001   \n",
       "X5237.pH                                  -1.392  0.16384   \n",
       "X5239.pO2                                 -0.177  0.85922   \n",
       "X5248.Bicarbonate                          1.044  0.29633   \n",
       "X5249.Base.Excess                          1.784  0.07446 . \n",
       "X5252.Oxygen.Saturation                   -2.994  0.00275 **\n",
       "X6317.Monocytes                            0.171  0.86455   \n",
       "X6471.Serum.hemolytic.index                0.247  0.80502   \n",
       "X6473.Lipase                               2.005  0.04499 * \n",
       "---\n",
       "Signif. codes:  0 '***' 0.001 '**' 0.01 '*' 0.05 '.' 0.1 ' ' 1\n",
       "\n",
       "                                          exp(coef) exp(-coef) lower .95\n",
       "X5409.HardnessSoft                        2.275e+00  4.396e-01 1.117e+00\n",
       "X5409.HardnessThin                        9.972e-07  1.003e+06 0.000e+00\n",
       "X5002.Eosinophils                         8.632e-01  1.158e+00 2.964e-01\n",
       "X5022.adenosine.deaminase                 9.835e-01  1.017e+00 9.635e-01\n",
       "X5033.Urea                                8.147e-01  1.227e+00 7.017e-01\n",
       "X5034.Calcium..Total                      4.322e-01  2.314e+00 1.365e-01\n",
       "X5045.Gamma.Glutamyltransferase           9.964e-01  1.004e+00 9.902e-01\n",
       "X5055.Bilirubin..Indirect                 1.003e+00  9.966e-01 9.929e-01\n",
       "X5083.Uric.Acid..Urine                    1.005e+00  9.953e-01 1.002e+00\n",
       "X5095.Neutrophils..                       1.085e+00  9.214e-01 3.987e-01\n",
       "X5099.Hemoglobin                          9.797e-01  1.021e+00 9.622e-01\n",
       "X5111.Lymphocytes..Percent                1.080e+00  9.264e-01 3.950e-01\n",
       "X5114.MCHC                                9.952e-01  1.005e+00 9.758e-01\n",
       "X5211.Base.Excess                         2.573e-01  3.886e+00 5.511e-02\n",
       "X5223.Glucose                             9.951e-01  1.005e+00 9.003e-01\n",
       "X5224.Calculated.Bicarbonate..Whole.Blood 6.196e-02  1.614e+01 2.121e-03\n",
       "X5227.Lactate                             9.789e-01  1.022e+00 8.148e-01\n",
       "X5237.pH                                  9.025e-15  1.108e+14 1.528e-34\n",
       "X5239.pO2                                 9.993e-01  1.001e+00 9.913e-01\n",
       "X5248.Bicarbonate                         1.556e+00  6.428e-01 6.787e-01\n",
       "X5249.Base.Excess                         4.867e+01  2.055e-02 6.813e-01\n",
       "X5252.Oxygen.Saturation                   9.581e-01  1.044e+00 9.316e-01\n",
       "X6317.Monocytes                           1.093e+00  9.151e-01 3.941e-01\n",
       "X6471.Serum.hemolytic.index               1.001e+00  9.990e-01 9.933e-01\n",
       "X6473.Lipase                              1.034e+00  9.673e-01 1.001e+00\n",
       "                                          upper .95\n",
       "X5409.HardnessSoft                        4.632e+00\n",
       "X5409.HardnessThin                              Inf\n",
       "X5002.Eosinophils                         2.514e+00\n",
       "X5022.adenosine.deaminase                 1.004e+00\n",
       "X5033.Urea                                9.460e-01\n",
       "X5034.Calcium..Total                      1.368e+00\n",
       "X5045.Gamma.Glutamyltransferase           1.003e+00\n",
       "X5055.Bilirubin..Indirect                 1.014e+00\n",
       "X5083.Uric.Acid..Urine                    1.008e+00\n",
       "X5095.Neutrophils..                       2.954e+00\n",
       "X5099.Hemoglobin                          9.976e-01\n",
       "X5111.Lymphocytes..Percent                2.950e+00\n",
       "X5114.MCHC                                1.015e+00\n",
       "X5211.Base.Excess                         1.202e+00\n",
       "X5223.Glucose                             1.100e+00\n",
       "X5224.Calculated.Bicarbonate..Whole.Blood 1.810e+00\n",
       "X5227.Lactate                             1.176e+00\n",
       "X5237.pH                                  5.330e+05\n",
       "X5239.pO2                                 1.007e+00\n",
       "X5248.Bicarbonate                         3.566e+00\n",
       "X5249.Base.Excess                         3.477e+03\n",
       "X5252.Oxygen.Saturation                   9.853e-01\n",
       "X6317.Monocytes                           3.030e+00\n",
       "X6471.Serum.hemolytic.index               1.009e+00\n",
       "X6473.Lipase                              1.068e+00\n",
       "\n",
       "Concordance= 0.776  (se = 0.039 )\n",
       "Likelihood ratio test= 63.35  on 25 df,   p=4e-05\n",
       "Wald test            = 40.96  on 25 df,   p=0.02\n",
       "Score (logrank) test = 80.43  on 25 df,   p=1e-07\n"
      ]
     },
     "metadata": {},
     "output_type": "display_data"
    }
   ],
   "source": [
    "UniCox_var<-cbind( Time=Cox_all$Time, EXPIRE_FLAG=Cox_all$EXPIRE_FLAG,\n",
    "                  X5409.Hardness=Cox_all[,4],\n",
    "                   Cox_all[,c(5:27)])\n",
    "UniCox_var<-na.omit(UniCox_var)\n",
    "items<-colnames(UniCox_var)[-(1:2)]\n",
    "s<-paste(items,collapse=\"+\")\n",
    "FML<-as.formula(paste0(\"Surv(Time, EXPIRE_FLAG)~\",s))\n",
    "res.cox <- coxph(FML, data = UniCox_var)\n",
    "mucox<-summary(res.cox)\n",
    "mucox"
   ]
  },
  {
   "cell_type": "code",
   "execution_count": 13,
   "id": "5d8dd0ff",
   "metadata": {},
   "outputs": [
    {
     "data": {
      "text/html": [
       "<table class=\"dataframe\">\n",
       "<caption>A matrix: 25 × 5 of type dbl</caption>\n",
       "<thead>\n",
       "\t<tr><th></th><th scope=col>coef</th><th scope=col>exp(coef)</th><th scope=col>se(coef)</th><th scope=col>z</th><th scope=col>Pr(&gt;|z|)</th></tr>\n",
       "</thead>\n",
       "<tbody>\n",
       "\t<tr><th scope=row>X5409.HardnessSoft</th><td> 8.218527e-01</td><td>2.274710e+00</td><td>3.628704e-01</td><td> 2.264865349</td><td>0.02352094</td></tr>\n",
       "\t<tr><th scope=row>X5409.HardnessThin</th><td>-1.381833e+01</td><td>9.971837e-07</td><td>2.931949e+03</td><td>-0.004713019</td><td>0.99623957</td></tr>\n",
       "\t<tr><th scope=row>X5002.Eosinophils</th><td>-1.470516e-01</td><td>8.632494e-01</td><td>5.453795e-01</td><td>-0.269631781</td><td>0.78744355</td></tr>\n",
       "\t<tr><th scope=row>X5022.adenosine.deaminase</th><td>-1.668362e-02</td><td>9.834548e-01</td><td>1.047032e-02</td><td>-1.593420660</td><td>0.11106585</td></tr>\n",
       "\t<tr><th scope=row>X5033.Urea</th><td>-2.049271e-01</td><td>8.147067e-01</td><td>7.621405e-02</td><td>-2.688836635</td><td>0.00717015</td></tr>\n",
       "\t<tr><th scope=row>X5034.Calcium..Total</th><td>-8.389048e-01</td><td>4.321836e-01</td><td>5.878667e-01</td><td>-1.427032304</td><td>0.15357058</td></tr>\n",
       "\t<tr><th scope=row>X5045.Gamma.Glutamyltransferase</th><td>-3.560192e-03</td><td>9.964461e-01</td><td>3.221310e-03</td><td>-1.105200268</td><td>0.26907282</td></tr>\n",
       "\t<tr><th scope=row>X5055.Bilirubin..Indirect</th><td> 3.425842e-03</td><td>1.003432e+00</td><td>5.358407e-03</td><td> 0.639339688</td><td>0.52260198</td></tr>\n",
       "\t<tr><th scope=row>X5083.Uric.Acid..Urine</th><td> 4.758955e-03</td><td>1.004770e+00</td><td>1.490778e-03</td><td> 3.192262488</td><td>0.00141163</td></tr>\n",
       "\t<tr><th scope=row>X5095.Neutrophils..</th><td> 8.186810e-02</td><td>1.085313e+00</td><td>5.108764e-01</td><td> 0.160250301</td><td>0.87268391</td></tr>\n",
       "\t<tr><th scope=row>X5099.Hemoglobin</th><td>-2.046785e-02</td><td>9.797402e-01</td><td>9.224335e-03</td><td>-2.218896851</td><td>0.02649374</td></tr>\n",
       "\t<tr><th scope=row>X5111.Lymphocytes..Percent</th><td> 7.650048e-02</td><td>1.079503e+00</td><td>5.128963e-01</td><td> 0.149153885</td><td>0.88143221</td></tr>\n",
       "\t<tr><th scope=row>X5114.MCHC</th><td>-4.795354e-03</td><td>9.952161e-01</td><td>1.003235e-02</td><td>-0.477989033</td><td>0.63265801</td></tr>\n",
       "\t<tr><th scope=row>X5211.Base.Excess</th><td>-1.357438e+00</td><td>2.573191e-01</td><td>7.862556e-01</td><td>-1.726459170</td><td>0.08426484</td></tr>\n",
       "\t<tr><th scope=row>X5223.Glucose</th><td>-4.924802e-03</td><td>9.950873e-01</td><td>5.106095e-02</td><td>-0.096449485</td><td>0.92316359</td></tr>\n",
       "\t<tr><th scope=row>X5224.Calculated.Bicarbonate..Whole.Blood</th><td>-2.781293e+00</td><td>6.195836e-02</td><td>1.721648e+00</td><td>-1.615482386</td><td>0.10620627</td></tr>\n",
       "\t<tr><th scope=row>X5227.Lactate</th><td>-2.130935e-02</td><td>9.789161e-01</td><td>9.365592e-02</td><td>-0.227528105</td><td>0.82001312</td></tr>\n",
       "\t<tr><th scope=row>X5237.pH</th><td>-3.233877e+01</td><td>9.025049e-15</td><td>2.322753e+01</td><td>-1.392260609</td><td>0.16384350</td></tr>\n",
       "\t<tr><th scope=row>X5239.pO2</th><td>-7.277809e-04</td><td>9.992725e-01</td><td>4.103112e-03</td><td>-0.177372888</td><td>0.85921550</td></tr>\n",
       "\t<tr><th scope=row>X5248.Bicarbonate</th><td> 4.419885e-01</td><td>1.555798e+00</td><td>4.232243e-01</td><td> 1.044336513</td><td>0.29632973</td></tr>\n",
       "\t<tr><th scope=row>X5249.Base.Excess</th><td> 3.885130e+00</td><td>4.867327e+01</td><td>2.178036e+00</td><td> 1.783776514</td><td>0.07445999</td></tr>\n",
       "\t<tr><th scope=row>X5252.Oxygen.Saturation</th><td>-4.279288e-02</td><td>9.581098e-01</td><td>1.429118e-02</td><td>-2.994355846</td><td>0.00275025</td></tr>\n",
       "\t<tr><th scope=row>X6317.Monocytes</th><td> 8.876123e-02</td><td>1.092820e+00</td><td>5.203524e-01</td><td> 0.170579053</td><td>0.86455477</td></tr>\n",
       "\t<tr><th scope=row>X6471.Serum.hemolytic.index</th><td> 9.646649e-04</td><td>1.000965e+00</td><td>3.907802e-03</td><td> 0.246856158</td><td>0.80501955</td></tr>\n",
       "\t<tr><th scope=row>X6473.Lipase</th><td> 3.324493e-02</td><td>1.033804e+00</td><td>1.658347e-02</td><td> 2.004703209</td><td>0.04499479</td></tr>\n",
       "</tbody>\n",
       "</table>\n"
      ],
      "text/latex": [
       "A matrix: 25 × 5 of type dbl\n",
       "\\begin{tabular}{r|lllll}\n",
       "  & coef & exp(coef) & se(coef) & z & Pr(>\\textbar{}z\\textbar{})\\\\\n",
       "\\hline\n",
       "\tX5409.HardnessSoft &  8.218527e-01 & 2.274710e+00 & 3.628704e-01 &  2.264865349 & 0.02352094\\\\\n",
       "\tX5409.HardnessThin & -1.381833e+01 & 9.971837e-07 & 2.931949e+03 & -0.004713019 & 0.99623957\\\\\n",
       "\tX5002.Eosinophils & -1.470516e-01 & 8.632494e-01 & 5.453795e-01 & -0.269631781 & 0.78744355\\\\\n",
       "\tX5022.adenosine.deaminase & -1.668362e-02 & 9.834548e-01 & 1.047032e-02 & -1.593420660 & 0.11106585\\\\\n",
       "\tX5033.Urea & -2.049271e-01 & 8.147067e-01 & 7.621405e-02 & -2.688836635 & 0.00717015\\\\\n",
       "\tX5034.Calcium..Total & -8.389048e-01 & 4.321836e-01 & 5.878667e-01 & -1.427032304 & 0.15357058\\\\\n",
       "\tX5045.Gamma.Glutamyltransferase & -3.560192e-03 & 9.964461e-01 & 3.221310e-03 & -1.105200268 & 0.26907282\\\\\n",
       "\tX5055.Bilirubin..Indirect &  3.425842e-03 & 1.003432e+00 & 5.358407e-03 &  0.639339688 & 0.52260198\\\\\n",
       "\tX5083.Uric.Acid..Urine &  4.758955e-03 & 1.004770e+00 & 1.490778e-03 &  3.192262488 & 0.00141163\\\\\n",
       "\tX5095.Neutrophils.. &  8.186810e-02 & 1.085313e+00 & 5.108764e-01 &  0.160250301 & 0.87268391\\\\\n",
       "\tX5099.Hemoglobin & -2.046785e-02 & 9.797402e-01 & 9.224335e-03 & -2.218896851 & 0.02649374\\\\\n",
       "\tX5111.Lymphocytes..Percent &  7.650048e-02 & 1.079503e+00 & 5.128963e-01 &  0.149153885 & 0.88143221\\\\\n",
       "\tX5114.MCHC & -4.795354e-03 & 9.952161e-01 & 1.003235e-02 & -0.477989033 & 0.63265801\\\\\n",
       "\tX5211.Base.Excess & -1.357438e+00 & 2.573191e-01 & 7.862556e-01 & -1.726459170 & 0.08426484\\\\\n",
       "\tX5223.Glucose & -4.924802e-03 & 9.950873e-01 & 5.106095e-02 & -0.096449485 & 0.92316359\\\\\n",
       "\tX5224.Calculated.Bicarbonate..Whole.Blood & -2.781293e+00 & 6.195836e-02 & 1.721648e+00 & -1.615482386 & 0.10620627\\\\\n",
       "\tX5227.Lactate & -2.130935e-02 & 9.789161e-01 & 9.365592e-02 & -0.227528105 & 0.82001312\\\\\n",
       "\tX5237.pH & -3.233877e+01 & 9.025049e-15 & 2.322753e+01 & -1.392260609 & 0.16384350\\\\\n",
       "\tX5239.pO2 & -7.277809e-04 & 9.992725e-01 & 4.103112e-03 & -0.177372888 & 0.85921550\\\\\n",
       "\tX5248.Bicarbonate &  4.419885e-01 & 1.555798e+00 & 4.232243e-01 &  1.044336513 & 0.29632973\\\\\n",
       "\tX5249.Base.Excess &  3.885130e+00 & 4.867327e+01 & 2.178036e+00 &  1.783776514 & 0.07445999\\\\\n",
       "\tX5252.Oxygen.Saturation & -4.279288e-02 & 9.581098e-01 & 1.429118e-02 & -2.994355846 & 0.00275025\\\\\n",
       "\tX6317.Monocytes &  8.876123e-02 & 1.092820e+00 & 5.203524e-01 &  0.170579053 & 0.86455477\\\\\n",
       "\tX6471.Serum.hemolytic.index &  9.646649e-04 & 1.000965e+00 & 3.907802e-03 &  0.246856158 & 0.80501955\\\\\n",
       "\tX6473.Lipase &  3.324493e-02 & 1.033804e+00 & 1.658347e-02 &  2.004703209 & 0.04499479\\\\\n",
       "\\end{tabular}\n"
      ],
      "text/markdown": [
       "\n",
       "A matrix: 25 × 5 of type dbl\n",
       "\n",
       "| <!--/--> | coef | exp(coef) | se(coef) | z | Pr(&gt;|z|) |\n",
       "|---|---|---|---|---|---|\n",
       "| X5409.HardnessSoft |  8.218527e-01 | 2.274710e+00 | 3.628704e-01 |  2.264865349 | 0.02352094 |\n",
       "| X5409.HardnessThin | -1.381833e+01 | 9.971837e-07 | 2.931949e+03 | -0.004713019 | 0.99623957 |\n",
       "| X5002.Eosinophils | -1.470516e-01 | 8.632494e-01 | 5.453795e-01 | -0.269631781 | 0.78744355 |\n",
       "| X5022.adenosine.deaminase | -1.668362e-02 | 9.834548e-01 | 1.047032e-02 | -1.593420660 | 0.11106585 |\n",
       "| X5033.Urea | -2.049271e-01 | 8.147067e-01 | 7.621405e-02 | -2.688836635 | 0.00717015 |\n",
       "| X5034.Calcium..Total | -8.389048e-01 | 4.321836e-01 | 5.878667e-01 | -1.427032304 | 0.15357058 |\n",
       "| X5045.Gamma.Glutamyltransferase | -3.560192e-03 | 9.964461e-01 | 3.221310e-03 | -1.105200268 | 0.26907282 |\n",
       "| X5055.Bilirubin..Indirect |  3.425842e-03 | 1.003432e+00 | 5.358407e-03 |  0.639339688 | 0.52260198 |\n",
       "| X5083.Uric.Acid..Urine |  4.758955e-03 | 1.004770e+00 | 1.490778e-03 |  3.192262488 | 0.00141163 |\n",
       "| X5095.Neutrophils.. |  8.186810e-02 | 1.085313e+00 | 5.108764e-01 |  0.160250301 | 0.87268391 |\n",
       "| X5099.Hemoglobin | -2.046785e-02 | 9.797402e-01 | 9.224335e-03 | -2.218896851 | 0.02649374 |\n",
       "| X5111.Lymphocytes..Percent |  7.650048e-02 | 1.079503e+00 | 5.128963e-01 |  0.149153885 | 0.88143221 |\n",
       "| X5114.MCHC | -4.795354e-03 | 9.952161e-01 | 1.003235e-02 | -0.477989033 | 0.63265801 |\n",
       "| X5211.Base.Excess | -1.357438e+00 | 2.573191e-01 | 7.862556e-01 | -1.726459170 | 0.08426484 |\n",
       "| X5223.Glucose | -4.924802e-03 | 9.950873e-01 | 5.106095e-02 | -0.096449485 | 0.92316359 |\n",
       "| X5224.Calculated.Bicarbonate..Whole.Blood | -2.781293e+00 | 6.195836e-02 | 1.721648e+00 | -1.615482386 | 0.10620627 |\n",
       "| X5227.Lactate | -2.130935e-02 | 9.789161e-01 | 9.365592e-02 | -0.227528105 | 0.82001312 |\n",
       "| X5237.pH | -3.233877e+01 | 9.025049e-15 | 2.322753e+01 | -1.392260609 | 0.16384350 |\n",
       "| X5239.pO2 | -7.277809e-04 | 9.992725e-01 | 4.103112e-03 | -0.177372888 | 0.85921550 |\n",
       "| X5248.Bicarbonate |  4.419885e-01 | 1.555798e+00 | 4.232243e-01 |  1.044336513 | 0.29632973 |\n",
       "| X5249.Base.Excess |  3.885130e+00 | 4.867327e+01 | 2.178036e+00 |  1.783776514 | 0.07445999 |\n",
       "| X5252.Oxygen.Saturation | -4.279288e-02 | 9.581098e-01 | 1.429118e-02 | -2.994355846 | 0.00275025 |\n",
       "| X6317.Monocytes |  8.876123e-02 | 1.092820e+00 | 5.203524e-01 |  0.170579053 | 0.86455477 |\n",
       "| X6471.Serum.hemolytic.index |  9.646649e-04 | 1.000965e+00 | 3.907802e-03 |  0.246856158 | 0.80501955 |\n",
       "| X6473.Lipase |  3.324493e-02 | 1.033804e+00 | 1.658347e-02 |  2.004703209 | 0.04499479 |\n",
       "\n"
      ],
      "text/plain": [
       "                                          coef          exp(coef)   \n",
       "X5409.HardnessSoft                         8.218527e-01 2.274710e+00\n",
       "X5409.HardnessThin                        -1.381833e+01 9.971837e-07\n",
       "X5002.Eosinophils                         -1.470516e-01 8.632494e-01\n",
       "X5022.adenosine.deaminase                 -1.668362e-02 9.834548e-01\n",
       "X5033.Urea                                -2.049271e-01 8.147067e-01\n",
       "X5034.Calcium..Total                      -8.389048e-01 4.321836e-01\n",
       "X5045.Gamma.Glutamyltransferase           -3.560192e-03 9.964461e-01\n",
       "X5055.Bilirubin..Indirect                  3.425842e-03 1.003432e+00\n",
       "X5083.Uric.Acid..Urine                     4.758955e-03 1.004770e+00\n",
       "X5095.Neutrophils..                        8.186810e-02 1.085313e+00\n",
       "X5099.Hemoglobin                          -2.046785e-02 9.797402e-01\n",
       "X5111.Lymphocytes..Percent                 7.650048e-02 1.079503e+00\n",
       "X5114.MCHC                                -4.795354e-03 9.952161e-01\n",
       "X5211.Base.Excess                         -1.357438e+00 2.573191e-01\n",
       "X5223.Glucose                             -4.924802e-03 9.950873e-01\n",
       "X5224.Calculated.Bicarbonate..Whole.Blood -2.781293e+00 6.195836e-02\n",
       "X5227.Lactate                             -2.130935e-02 9.789161e-01\n",
       "X5237.pH                                  -3.233877e+01 9.025049e-15\n",
       "X5239.pO2                                 -7.277809e-04 9.992725e-01\n",
       "X5248.Bicarbonate                          4.419885e-01 1.555798e+00\n",
       "X5249.Base.Excess                          3.885130e+00 4.867327e+01\n",
       "X5252.Oxygen.Saturation                   -4.279288e-02 9.581098e-01\n",
       "X6317.Monocytes                            8.876123e-02 1.092820e+00\n",
       "X6471.Serum.hemolytic.index                9.646649e-04 1.000965e+00\n",
       "X6473.Lipase                               3.324493e-02 1.033804e+00\n",
       "                                          se(coef)     z            Pr(>|z|)  \n",
       "X5409.HardnessSoft                        3.628704e-01  2.264865349 0.02352094\n",
       "X5409.HardnessThin                        2.931949e+03 -0.004713019 0.99623957\n",
       "X5002.Eosinophils                         5.453795e-01 -0.269631781 0.78744355\n",
       "X5022.adenosine.deaminase                 1.047032e-02 -1.593420660 0.11106585\n",
       "X5033.Urea                                7.621405e-02 -2.688836635 0.00717015\n",
       "X5034.Calcium..Total                      5.878667e-01 -1.427032304 0.15357058\n",
       "X5045.Gamma.Glutamyltransferase           3.221310e-03 -1.105200268 0.26907282\n",
       "X5055.Bilirubin..Indirect                 5.358407e-03  0.639339688 0.52260198\n",
       "X5083.Uric.Acid..Urine                    1.490778e-03  3.192262488 0.00141163\n",
       "X5095.Neutrophils..                       5.108764e-01  0.160250301 0.87268391\n",
       "X5099.Hemoglobin                          9.224335e-03 -2.218896851 0.02649374\n",
       "X5111.Lymphocytes..Percent                5.128963e-01  0.149153885 0.88143221\n",
       "X5114.MCHC                                1.003235e-02 -0.477989033 0.63265801\n",
       "X5211.Base.Excess                         7.862556e-01 -1.726459170 0.08426484\n",
       "X5223.Glucose                             5.106095e-02 -0.096449485 0.92316359\n",
       "X5224.Calculated.Bicarbonate..Whole.Blood 1.721648e+00 -1.615482386 0.10620627\n",
       "X5227.Lactate                             9.365592e-02 -0.227528105 0.82001312\n",
       "X5237.pH                                  2.322753e+01 -1.392260609 0.16384350\n",
       "X5239.pO2                                 4.103112e-03 -0.177372888 0.85921550\n",
       "X5248.Bicarbonate                         4.232243e-01  1.044336513 0.29632973\n",
       "X5249.Base.Excess                         2.178036e+00  1.783776514 0.07445999\n",
       "X5252.Oxygen.Saturation                   1.429118e-02 -2.994355846 0.00275025\n",
       "X6317.Monocytes                           5.203524e-01  0.170579053 0.86455477\n",
       "X6471.Serum.hemolytic.index               3.907802e-03  0.246856158 0.80501955\n",
       "X6473.Lipase                              1.658347e-02  2.004703209 0.04499479"
      ]
     },
     "metadata": {},
     "output_type": "display_data"
    }
   ],
   "source": [
    "formatFit<-function(fit){\n",
    "  p_val<-summary(fit)$coefficients[,5]\n",
    "  wald<-summary(fit)$coefficients[,4]^2\n",
    "  valueB<-summary(fit)$coefficients[,1]\n",
    "  valueOR<-summary(fit)$coefficients[,2]\n",
    "  confitOR<-exp(confint(fit))\n",
    "  data.frame(\n",
    "    OR_with_CI=paste(round(valueOR,3),\"(\",\n",
    "                     round(confitOR[,1],3),\"-\",round(confitOR[,2],3),\")\",sep=\"\"),\n",
    "    P=round(p_val,3),\n",
    "    coef=round(valueB,3),\n",
    "    Wald=round(wald,3),\n",
    "    exp.coef=round(valueOR,3),\n",
    "    lower=round(confitOR[,1],3),\n",
    "    upper=round(confitOR[,2],3)\n",
    "  )\n",
    "}\n",
    "summary(res.cox)$coefficients\n",
    "data_f=formatFit(res.cox)\n",
    "write.csv(data_f,\"./Temps/2. forestplot_muti.csv\")#your need to add a title"
   ]
  },
  {
   "cell_type": "code",
   "execution_count": 15,
   "id": "8417c4d9",
   "metadata": {},
   "outputs": [
    {
     "data": {
      "text/html": [
       "<strong>png:</strong> 2"
      ],
      "text/latex": [
       "\\textbf{png:} 2"
      ],
      "text/markdown": [
       "**png:** 2"
      ],
      "text/plain": [
       "png \n",
       "  2 "
      ]
     },
     "metadata": {},
     "output_type": "display_data"
    },
    {
     "data": {
      "image/png": "[encoded data removed]",
      "text/plain": [
       "plot without title"
      ]
     },
     "metadata": {
      "image/png": {
       "height": 420,
       "width": 420
      }
     },
     "output_type": "display_data"
    }
   ],
   "source": [
    "data=read.csv(\"./Temps/2. forestplot_muti.csv\")\n",
    "f<-forestplot(as.matrix(data[,c(1:3)]),data$exp.coef,data$lower,\n",
    "           data$upper,zero = 1,xlog = F,\n",
    "           clip = c(0,5),\n",
    "           colgap = unit(5,\"mm\"),graphwidth=unit(60,\"mm\"),\n",
    "           lineheight = unit(0.8,\"cm\"),graph.pos = 3,\n",
    "           col = fpColors(box=\"blue\", lines=\"blue\", zero = \"grey\"),boxsize = 0.3,\n",
    "           ci.vertices = T,ci.vertices.height = 0.2,\n",
    "           lty.ci = 7,lwd.zero=0.4,lwd.ci = 3,\n",
    "           txt_gp=fpTxtGp(label = gpar(cex=0.8),\n",
    "                          ticks = gpar(cex=0.8)) ,\n",
    "           is.summary=c(TRUE,rep(FALSE,100))\n",
    "    )\n",
    "f\n",
    "pdf(\"./Figs/2. forestPlot.pdf\",width=10, height=12)\n",
    "f\n",
    "dev.off()"
   ]
  },
  {
   "cell_type": "code",
   "execution_count": 12,
   "id": "f38c98d7",
   "metadata": {},
   "outputs": [
    {
     "name": "stdout",
     "output_type": "stream",
     "text": [
      "hardness: 107 ; urea: 11 ; uric Acid: 13 ;\n",
      " hemoglobin: 10 ; oxygenSaturation: 3 ; lipase: 13"
     ]
    }
   ],
   "source": [
    "#NA num\n",
    "hardness<-length(which(is.na(Cox_all$X5409.Hardness)==T))\n",
    "urea<-length(which(is.na(Cox_all$X5033.Urea)==T))\n",
    "uricAcid<-length(which(is.na(Cox_all$X5083.Uric.Acid..Urine)==T)) \n",
    "hemoglobin<-length(which(is.na(Cox_all$X5099.Hemoglobin)==T)) \n",
    "oxygenSaturation<-length(which(is.na(Cox_all$X5252.Oxygen.Saturation)==T)) \n",
    "lipase<-length(which(is.na(Cox_all$X6473.Lipase)==T)) \n",
    "cat(\"hardness:\",hardness,\"; urea:\",urea,\"; uric Acid:\",uricAcid,\";\\n hemoglobin:\",hemoglobin,\n",
    "    \"; oxygenSaturation:\",oxygenSaturation,\"; lipase:\",lipase)\n"
   ]
  },
  {
   "cell_type": "code",
   "execution_count": 13,
   "id": "f38b43bd",
   "metadata": {},
   "outputs": [
    {
     "data": {
      "text/html": [
       "<table class=\"dataframe\">\n",
       "<caption>A data.frame: 2 × 7</caption>\n",
       "<thead>\n",
       "\t<tr><th></th><th scope=col>survival</th><th scope=col>Time</th><th scope=col>X5033.Urea</th><th scope=col>X5083.Uric.Acid..Urine</th><th scope=col>X5099.Hemoglobin</th><th scope=col>X5252.Oxygen.Saturation</th><th scope=col>X6473.Lipase</th></tr>\n",
       "\t<tr><th></th><th scope=col>&lt;int&gt;</th><th scope=col>&lt;int&gt;</th><th scope=col>&lt;dbl&gt;</th><th scope=col>&lt;dbl&gt;</th><th scope=col>&lt;int&gt;</th><th scope=col>&lt;dbl&gt;</th><th scope=col>&lt;int&gt;</th></tr>\n",
       "</thead>\n",
       "<tbody>\n",
       "\t<tr><th scope=row>1</th><td>0</td><td>15</td><td>5.13</td><td>460</td><td>91</td><td>81.6</td><td> 8</td></tr>\n",
       "\t<tr><th scope=row>2</th><td>0</td><td>17</td><td>  NA</td><td> NA</td><td>NA</td><td>90.9</td><td>NA</td></tr>\n",
       "</tbody>\n",
       "</table>\n"
      ],
      "text/latex": [
       "A data.frame: 2 × 7\n",
       "\\begin{tabular}{r|lllllll}\n",
       "  & survival & Time & X5033.Urea & X5083.Uric.Acid..Urine & X5099.Hemoglobin & X5252.Oxygen.Saturation & X6473.Lipase\\\\\n",
       "  & <int> & <int> & <dbl> & <dbl> & <int> & <dbl> & <int>\\\\\n",
       "\\hline\n",
       "\t1 & 0 & 15 & 5.13 & 460 & 91 & 81.6 &  8\\\\\n",
       "\t2 & 0 & 17 &   NA &  NA & NA & 90.9 & NA\\\\\n",
       "\\end{tabular}\n"
      ],
      "text/markdown": [
       "\n",
       "A data.frame: 2 × 7\n",
       "\n",
       "| <!--/--> | survival &lt;int&gt; | Time &lt;int&gt; | X5033.Urea &lt;dbl&gt; | X5083.Uric.Acid..Urine &lt;dbl&gt; | X5099.Hemoglobin &lt;int&gt; | X5252.Oxygen.Saturation &lt;dbl&gt; | X6473.Lipase &lt;int&gt; |\n",
       "|---|---|---|---|---|---|---|---|\n",
       "| 1 | 0 | 15 | 5.13 | 460 | 91 | 81.6 |  8 |\n",
       "| 2 | 0 | 17 |   NA |  NA | NA | 90.9 | NA |\n",
       "\n"
      ],
      "text/plain": [
       "  survival Time X5033.Urea X5083.Uric.Acid..Urine X5099.Hemoglobin\n",
       "1 0        15   5.13       460                    91              \n",
       "2 0        17     NA        NA                    NA              \n",
       "  X5252.Oxygen.Saturation X6473.Lipase\n",
       "1 81.6                     8          \n",
       "2 90.9                    NA          "
      ]
     },
     "metadata": {},
     "output_type": "display_data"
    }
   ],
   "source": [
    "mucox_items<-names(which(mucox$coefficients[,5]<0.05) )\n",
    "mucox_data<-Cox_all[,which(colnames(Cox_all)%in%mucox_items)]\n",
    "mucox_data<-cbind(survival=Cox_all$EXPIRE_FLAG,Time=Cox_all$Time,mucox_data)\n",
    "mucox_data$X5099.Hemoglobin[which(mucox_data$X5099.Hemoglobin==0)]<-NA #erro num change to NA\n",
    "head(mucox_data,2)\n",
    "#write.csv(mucox_data,\"./Results/2.model_data.csv\",row.names = F)"
   ]
  },
  {
   "cell_type": "markdown",
   "id": "32bd8261",
   "metadata": {},
   "source": [
    "## heatmap"
   ]
  },
  {
   "cell_type": "code",
   "execution_count": 10,
   "id": "abd3168d",
   "metadata": {},
   "outputs": [
    {
     "data": {
      "text/plain": [
       " Survival  Hardness  \n",
       " 0:409    Pasty:394  \n",
       " 1: 57    Soft : 69  \n",
       "          Thin :  3  "
      ]
     },
     "metadata": {},
     "output_type": "display_data"
    },
    {
     "data": {
      "image/png": "[encoded data removed]",
      "text/plain": [
       "Plot with title \"Histogram of linshi\""
      ]
     },
     "metadata": {
      "image/png": {
       "height": 420,
       "width": 420
      }
     },
     "output_type": "display_data"
    }
   ],
   "source": [
    "Cox_all<-na.omit(Cox_all)\n",
    "Cox_all<-Cox_all[order(Cox_all$EXPIRE_FLAG),]\n",
    "heat_cli=Cox_all[,3:4]#factor\n",
    "heat_exp=Cox_all[,5:27]#num\n",
    "annotation_col = data.frame(Survival=as.factor(heat_cli[,1]),\n",
    "                            Hardness = as.factor(heat_cli[,2]))\n",
    "summary(annotation_col)\n",
    "rownames(annotation_col) <- Cox_all$SUBJECT_ID\n",
    "ann_colors = list(\n",
    "  Survival=c(\"0\"=\"#2E94B9\",\"1\"=\"#de4307\"),\n",
    "  Hardness = c( \"Pasty\"=\"#A6CEE3\" ,\"Soft\"=\"#1F78B4\",\"Thin\"=\"#B2DF8A\"))\n",
    "red <- rgb(255,0,0,maxColorValue = 255)\n",
    "blue <- rgb(0,0,255,maxColorValue = 255)\n",
    "white <- rgb(255,255,255,maxColorValue = 255)\n",
    "linshi <- scale(heat_exp[,1:23])\n",
    "rownames(linshi) <- Cox_all$SUBJECT_ID\n",
    "linshi<-t(linshi)\n",
    "hist(linshi)\n"
   ]
  },
  {
   "cell_type": "code",
   "execution_count": 12,
   "id": "0d9f59dc",
   "metadata": {},
   "outputs": [
    {
     "data": {
      "text/html": [
       "<strong>png:</strong> 2"
      ],
      "text/latex": [
       "\\textbf{png:} 2"
      ],
      "text/markdown": [
       "**png:** 2"
      ],
      "text/plain": [
       "png \n",
       "  2 "
      ]
     },
     "metadata": {},
     "output_type": "display_data"
    },
    {
     "data": {
      "image/png": "[encoded data removed]",
      "text/plain": [
       "plot without title"
      ]
     },
     "metadata": {
      "image/png": {
       "height": 420,
       "width": 420
      }
     },
     "output_type": "display_data"
    }
   ],
   "source": [
    "linshi[linshi>2] <- 2\n",
    "linshi[linshi<(-2)] <- c(-2)\n",
    "p<-pheatmap(linshi,fontsize=6,cutree_col = 4,#cellheight = 2,cellwidth = 1 ,\n",
    "         color  = colorRampPalette(c(blue,white,red))(100),\n",
    "         annotation_col = annotation_col,\n",
    "         annotation_colors = ann_colors,\n",
    "         clustering_method = \"ward.D2\",\n",
    "         border_color = \"grey60\",\n",
    "         cluster_cols = F, cluster_rows = F,\n",
    "         show_rownames = T, show_colnames = F\n",
    "    )\n",
    "p\n",
    "pdf(\"./Figs/2. heatmap.pdf\")\n",
    "p\n",
    "dev.off()"
   ]
  },
  {
   "cell_type": "code",
   "execution_count": null,
   "id": "1db23ae1",
   "metadata": {},
   "outputs": [],
   "source": []
  }
 ],
 "metadata": {
  "kernelspec": {
   "display_name": "R",
   "language": "R",
   "name": "ir"
  },
  "language_info": {
   "codemirror_mode": "r",
   "file_extension": ".r",
   "mimetype": "text/x-r-source",
   "name": "R",
   "pygments_lexer": "r",
   "version": "4.2.1"
  }
 },
 "nbformat": 4,
 "nbformat_minor": 5
}
