{
 "cells": [
  {
   "cell_type": "code",
   "execution_count": 1,
   "id": "1002779a",
   "metadata": {
    "collapsed": true
   },
   "outputs": [
    {
     "name": "stderr",
     "output_type": "stream",
     "text": [
      "Loading required package: ggplot2\n",
      "\n",
      "Loading required package: ggpubr\n",
      "\n",
      "\n",
      "Attaching package: 'survival'\n",
      "\n",
      "\n",
      "The following object is masked from 'package:survminer':\n",
      "\n",
      "    myeloma\n",
      "\n",
      "\n",
      "\n",
      "Attaching package: 'cowplot'\n",
      "\n",
      "\n",
      "The following object is masked from 'package:ggpubr':\n",
      "\n",
      "    get_legend\n",
      "\n",
      "\n"
     ]
    }
   ],
   "source": [
    "setwd(\"E:/notebook/childhood_pneumonia\")\n",
    "library(survminer)\n",
    "library(survival)\n",
    "library(regplot)\n",
    "library(cowplot)"
   ]
  },
  {
   "cell_type": "code",
   "execution_count": 2,
   "id": "6953cf6b",
   "metadata": {},
   "outputs": [
    {
     "data": {
      "text/html": [
       "<table class=\"dataframe\">\n",
       "<caption>A data.frame: 2 × 7</caption>\n",
       "<thead>\n",
       "\t<tr><th></th><th scope=col>survival</th><th scope=col>Time</th><th scope=col>X5033.Urea</th><th scope=col>X5083.Uric.Acid..Urine</th><th scope=col>X5099.Hemoglobin</th><th scope=col>X5252.Oxygen.Saturation</th><th scope=col>X6473.Lipase</th></tr>\n",
       "\t<tr><th></th><th scope=col>&lt;int&gt;</th><th scope=col>&lt;int&gt;</th><th scope=col>&lt;dbl&gt;</th><th scope=col>&lt;dbl&gt;</th><th scope=col>&lt;int&gt;</th><th scope=col>&lt;dbl&gt;</th><th scope=col>&lt;int&gt;</th></tr>\n",
       "</thead>\n",
       "<tbody>\n",
       "\t<tr><th scope=row>1</th><td>0</td><td>15</td><td>5.13</td><td>460</td><td>91</td><td>81.6</td><td> 8</td></tr>\n",
       "\t<tr><th scope=row>2</th><td>0</td><td>17</td><td>  NA</td><td> NA</td><td>NA</td><td>90.9</td><td>NA</td></tr>\n",
       "</tbody>\n",
       "</table>\n"
      ],
      "text/latex": [
       "A data.frame: 2 × 7\n",
       "\\begin{tabular}{r|lllllll}\n",
       "  & survival & Time & X5033.Urea & X5083.Uric.Acid..Urine & X5099.Hemoglobin & X5252.Oxygen.Saturation & X6473.Lipase\\\\\n",
       "  & <int> & <int> & <dbl> & <dbl> & <int> & <dbl> & <int>\\\\\n",
       "\\hline\n",
       "\t1 & 0 & 15 & 5.13 & 460 & 91 & 81.6 &  8\\\\\n",
       "\t2 & 0 & 17 &   NA &  NA & NA & 90.9 & NA\\\\\n",
       "\\end{tabular}\n"
      ],
      "text/markdown": [
       "\n",
       "A data.frame: 2 × 7\n",
       "\n",
       "| <!--/--> | survival &lt;int&gt; | Time &lt;int&gt; | X5033.Urea &lt;dbl&gt; | X5083.Uric.Acid..Urine &lt;dbl&gt; | X5099.Hemoglobin &lt;int&gt; | X5252.Oxygen.Saturation &lt;dbl&gt; | X6473.Lipase &lt;int&gt; |\n",
       "|---|---|---|---|---|---|---|---|\n",
       "| 1 | 0 | 15 | 5.13 | 460 | 91 | 81.6 |  8 |\n",
       "| 2 | 0 | 17 |   NA |  NA | NA | 90.9 | NA |\n",
       "\n"
      ],
      "text/plain": [
       "  survival Time X5033.Urea X5083.Uric.Acid..Urine X5099.Hemoglobin\n",
       "1 0        15   5.13       460                    91              \n",
       "2 0        17     NA        NA                    NA              \n",
       "  X5252.Oxygen.Saturation X6473.Lipase\n",
       "1 81.6                     8          \n",
       "2 90.9                    NA          "
      ]
     },
     "metadata": {},
     "output_type": "display_data"
    }
   ],
   "source": [
    "data <- read.csv(\"./Results/2.model_data.csv\",stringsAsFactors = F)\n",
    "head(data,2)"
   ]
  },
  {
   "cell_type": "code",
   "execution_count": 3,
   "id": "25f46096",
   "metadata": {},
   "outputs": [
    {
     "data": {
      "text/plain": [
       "Call:\n",
       "coxph(formula = Surv(Time, survival) ~ score, data = coxData)\n",
       "\n",
       "  n= 614, number of events= 87 \n",
       "   (17 observations deleted due to missingness)\n",
       "\n",
       "        coef exp(coef) se(coef)     z Pr(>|z|)    \n",
       "score 1.0000    2.7183   0.1173 8.528   <2e-16 ***\n",
       "---\n",
       "Signif. codes:  0 '***' 0.001 '**' 0.01 '*' 0.05 '.' 0.1 ' ' 1\n",
       "\n",
       "      exp(coef) exp(-coef) lower .95 upper .95\n",
       "score     2.718     0.3679      2.16     3.421\n",
       "\n",
       "Concordance= 0.701  (se = 0.039 )\n",
       "Likelihood ratio test= 55.88  on 1 df,   p=8e-14\n",
       "Wald test            = 72.73  on 1 df,   p=<2e-16\n",
       "Score (logrank) test = 78.1  on 1 df,   p=<2e-16\n"
      ]
     },
     "metadata": {},
     "output_type": "display_data"
    }
   ],
   "source": [
    "coxData<-data\n",
    "res.cox <- coxph(Surv(Time, survival)~., data = coxData)\n",
    "mucox<-summary(res.cox)\n",
    "A<-as.matrix(res.cox$coefficients,ncol=1) \n",
    "B=as.matrix(data[,3:7])\n",
    "score<-B%*%A\n",
    "coxData$score=score[,1]\n",
    "\n",
    "score.cox<-coxph(Surv(Time, survival)~score,data = coxData)\n",
    "summary(score.cox)"
   ]
  },
  {
   "cell_type": "code",
   "execution_count": 4,
   "id": "60120e9d",
   "metadata": {},
   "outputs": [
    {
     "data": {
      "text/html": [
       "<table class=\"dataframe\">\n",
       "<caption>A data.frame: 1 × 2</caption>\n",
       "<thead>\n",
       "\t<tr><th></th><th scope=col>cutpoint</th><th scope=col>statistic</th></tr>\n",
       "\t<tr><th></th><th scope=col>&lt;dbl&gt;</th><th scope=col>&lt;dbl&gt;</th></tr>\n",
       "</thead>\n",
       "<tbody>\n",
       "\t<tr><th scope=row>score</th><td>-1.52074</td><td>7.233743</td></tr>\n",
       "</tbody>\n",
       "</table>\n"
      ],
      "text/latex": [
       "A data.frame: 1 × 2\n",
       "\\begin{tabular}{r|ll}\n",
       "  & cutpoint & statistic\\\\\n",
       "  & <dbl> & <dbl>\\\\\n",
       "\\hline\n",
       "\tscore & -1.52074 & 7.233743\\\\\n",
       "\\end{tabular}\n"
      ],
      "text/markdown": [
       "\n",
       "A data.frame: 1 × 2\n",
       "\n",
       "| <!--/--> | cutpoint &lt;dbl&gt; | statistic &lt;dbl&gt; |\n",
       "|---|---|---|\n",
       "| score | -1.52074 | 7.233743 |\n",
       "\n"
      ],
      "text/plain": [
       "      cutpoint statistic\n",
       "score -1.52074 7.233743 "
      ]
     },
     "metadata": {},
     "output_type": "display_data"
    }
   ],
   "source": [
    "res.cut <- surv_cutpoint(coxData, \n",
    "                         time = \"Time\", \n",
    "                         event = \"survival\",\n",
    "                         variables = \"score\")\n",
    "\n",
    "summary(res.cut) "
   ]
  },
  {
   "cell_type": "code",
   "execution_count": 5,
   "id": "389f29d5",
   "metadata": {},
   "outputs": [],
   "source": [
    "coxData$fenzu<-\"Low\"\n",
    "coxData$fenzu[which(coxData$score>(-1.521))]<-\"High\"\n",
    "coxData$score<-coxData$score+1.521"
   ]
  },
  {
   "cell_type": "code",
   "execution_count": 6,
   "id": "a221e350",
   "metadata": {
    "scrolled": false
   },
   "outputs": [
    {
     "name": "stderr",
     "output_type": "stream",
     "text": [
      "Warning message:\n",
      "\"Removed 17 rows containing missing values (position_stack).\"\n",
      "Warning message:\n",
      "\"Removed 1 rows containing missing values (geom_point).\"\n"
     ]
    },
    {
     "data": {
      "image/png": "[encoded data removed]",
      "text/plain": [
       "plot without title"
      ]
     },
     "metadata": {
      "image/png": {
       "height": 420,
       "width": 420
      }
     },
     "output_type": "display_data"
    }
   ],
   "source": [
    "tcolor=c(\"#f1ac9d\",\"#1c96a6\")\n",
    "z1<-ggplot(coxData, aes(x = reorder(rownames(coxData),score), y = score)) +\n",
    "  geom_col(aes(fill = as.factor(fenzu)))+\n",
    "  scale_fill_manual(values =tcolor)+\n",
    "  xlab(\"\")+ylab(\"Score\")+\n",
    "  theme_bw() + theme(panel.grid=element_blank(),\n",
    "                     axis.text.x = element_blank(),\n",
    "                     axis.ticks.x=element_blank())\n",
    "sdf<-data.frame(id=reorder(rownames(coxData),score),time=coxData$Time,survival=as.factor(coxData$survival),fenzu=coxData$fenzu)\n",
    "scolor<-c(\"#ffa200\",\"#128fce\")\n",
    "z2<-ggscatter(sdf, x = \"id\", y = \"time\", color = \"survival\",shape = 21,\n",
    "              palette = scolor)+\n",
    "  ylim(0,100)+\n",
    "  xlab(\"\")+ylab(\"Time (day)\")+\n",
    "  theme_bw() + theme(panel.grid=element_blank(),\n",
    "                     axis.text.x = element_blank(),\n",
    "                     axis.ticks.x=element_blank())\n",
    "\n",
    "z3 <- plot_grid(z1,z2, ncol = 1, align = \"v\")\n",
    "z3"
   ]
  },
  {
   "cell_type": "code",
   "execution_count": 7,
   "id": "2bc148b1",
   "metadata": {},
   "outputs": [
    {
     "data": {
      "text/plain": [
       "Call:\n",
       "coxph(formula = Surv(Time, survival) ~ fenzu, data = coxData)\n",
       "\n",
       "  n= 631, number of events= 95 \n",
       "\n",
       "            coef exp(coef) se(coef)      z Pr(>|z|)    \n",
       "fenzuLow -1.5143    0.2200   0.2206 -6.866 6.61e-12 ***\n",
       "---\n",
       "Signif. codes:  0 '***' 0.001 '**' 0.01 '*' 0.05 '.' 0.1 ' ' 1\n",
       "\n",
       "         exp(coef) exp(-coef) lower .95 upper .95\n",
       "fenzuLow      0.22      4.546    0.1428    0.3389\n",
       "\n",
       "Concordance= 0.647  (se = 0.028 )\n",
       "Likelihood ratio test= 37.73  on 1 df,   p=8e-10\n",
       "Wald test            = 47.14  on 1 df,   p=7e-12\n",
       "Score (logrank) test = 56.72  on 1 df,   p=5e-14\n"
      ]
     },
     "metadata": {},
     "output_type": "display_data"
    },
    {
     "data": {
      "image/png": "[encoded data removed]",
      "text/plain": [
       "plot without title"
      ]
     },
     "metadata": {
      "image/png": {
       "height": 420,
       "width": 420
      }
     },
     "output_type": "display_data"
    }
   ],
   "source": [
    "fit <- survfit(Surv(Time,survival)~fenzu,data = coxData)\n",
    "summary(coxph(Surv(Time,survival)~fenzu,data = coxData))\n",
    "\n",
    "p<-ggsurvplot(fit,\n",
    "           pval = TRUE,#P-value\n",
    "           risk.table = TRUE, # Add risk table\n",
    "           risk.table.col = \"strata\", # Change risk table color by groups\n",
    "           palette = tcolor,\n",
    "           conf.int = T,\n",
    "           conf.int.alpha=0.1, #显示置信区间\n",
    "           surv.median.line = \"hv\", # 增加中位生存时间\n",
    "           xlim=c(0,80),\n",
    "           break.x.by = 10,\n",
    "           legend.labs=c(\"HighRisk\",\"LowRisk\"))\n",
    "p"
   ]
  }
 ],
 "metadata": {
  "kernelspec": {
   "display_name": "R",
   "language": "R",
   "name": "ir"
  },
  "language_info": {
   "codemirror_mode": "r",
   "file_extension": ".r",
   "mimetype": "text/x-r-source",
   "name": "R",
   "pygments_lexer": "r",
   "version": "4.2.1"
  }
 },
 "nbformat": 4,
 "nbformat_minor": 5
}
