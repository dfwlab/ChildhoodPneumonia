{
 "cells": [
  {
   "cell_type": "code",
   "execution_count": 1,
   "id": "d226dcd8",
   "metadata": {
    "collapsed": true
   },
   "outputs": [
    {
     "name": "stderr",
     "output_type": "stream",
     "text": [
      "\n",
      "Attaching package: 'dplyr'\n",
      "\n",
      "\n",
      "The following objects are masked from 'package:stats':\n",
      "\n",
      "    filter, lag\n",
      "\n",
      "\n",
      "The following objects are masked from 'package:base':\n",
      "\n",
      "    intersect, setdiff, setequal, union\n",
      "\n",
      "\n",
      "\n",
      "Attaching package: 'data.table'\n",
      "\n",
      "\n",
      "The following objects are masked from 'package:dplyr':\n",
      "\n",
      "    between, first, last\n",
      "\n",
      "\n",
      "\n",
      "Attaching package: 'reshape2'\n",
      "\n",
      "\n",
      "The following objects are masked from 'package:data.table':\n",
      "\n",
      "    dcast, melt\n",
      "\n",
      "\n",
      "── \u001b[1mAttaching packages\u001b[22m ─────────────────────────────────────── tidyverse 1.3.2 ──\n",
      "\u001b[32m✔\u001b[39m \u001b[34mtibble \u001b[39m 3.1.8     \u001b[32m✔\u001b[39m \u001b[34mpurrr  \u001b[39m 0.3.4\n",
      "\u001b[32m✔\u001b[39m \u001b[34mtidyr  \u001b[39m 1.2.1     \u001b[32m✔\u001b[39m \u001b[34mstringr\u001b[39m 1.4.1\n",
      "\u001b[32m✔\u001b[39m \u001b[34mreadr  \u001b[39m 2.1.2     \u001b[32m✔\u001b[39m \u001b[34mforcats\u001b[39m 0.5.2\n",
      "── \u001b[1mConflicts\u001b[22m ────────────────────────────────────────── tidyverse_conflicts() ──\n",
      "\u001b[31m✖\u001b[39m \u001b[34mdata.table\u001b[39m::\u001b[32mbetween()\u001b[39m masks \u001b[34mdplyr\u001b[39m::between()\n",
      "\u001b[31m✖\u001b[39m \u001b[34mdplyr\u001b[39m::\u001b[32mfilter()\u001b[39m       masks \u001b[34mstats\u001b[39m::filter()\n",
      "\u001b[31m✖\u001b[39m \u001b[34mdata.table\u001b[39m::\u001b[32mfirst()\u001b[39m   masks \u001b[34mdplyr\u001b[39m::first()\n",
      "\u001b[31m✖\u001b[39m \u001b[34mdplyr\u001b[39m::\u001b[32mlag()\u001b[39m          masks \u001b[34mstats\u001b[39m::lag()\n",
      "\u001b[31m✖\u001b[39m \u001b[34mdata.table\u001b[39m::\u001b[32mlast()\u001b[39m    masks \u001b[34mdplyr\u001b[39m::last()\n",
      "\u001b[31m✖\u001b[39m \u001b[34mpurrr\u001b[39m::\u001b[32mtranspose()\u001b[39m    masks \u001b[34mdata.table\u001b[39m::transpose()\n",
      "------------------------------------------------------------------------------\n",
      "\n",
      "You have loaded plyr after dplyr - this is likely to cause problems.\n",
      "If you need functions from both plyr and dplyr, please load plyr first, then dplyr:\n",
      "library(plyr); library(dplyr)\n",
      "\n",
      "------------------------------------------------------------------------------\n",
      "\n",
      "\n",
      "Attaching package: 'plyr'\n",
      "\n",
      "\n",
      "The following object is masked from 'package:purrr':\n",
      "\n",
      "    compact\n",
      "\n",
      "\n",
      "The following object is masked from 'package:ggpubr':\n",
      "\n",
      "    mutate\n",
      "\n",
      "\n",
      "The following objects are masked from 'package:dplyr':\n",
      "\n",
      "    arrange, count, desc, failwith, id, mutate, rename, summarise,\n",
      "    summarize\n",
      "\n",
      "\n"
     ]
    }
   ],
   "source": [
    "setwd(\"E:/notebook/childhood_pneumonia\")\n",
    "library(dplyr)\n",
    "library(data.table)\n",
    "library(ggplot2)\n",
    "library(ggpubr)\n",
    "library(reshape2)\n",
    "library(tidyverse)\n",
    "library(plyr)"
   ]
  },
  {
   "cell_type": "code",
   "execution_count": 2,
   "id": "8ecf2e26",
   "metadata": {},
   "outputs": [
    {
     "data": {
      "text/html": [
       "878"
      ],
      "text/latex": [
       "878"
      ],
      "text/markdown": [
       "878"
      ],
      "text/plain": [
       "[1] 878"
      ]
     },
     "metadata": {},
     "output_type": "display_data"
    },
    {
     "data": {
      "text/plain": [
       "\n",
       "  childhood     Infancy Preschooler       Teens     Toddler \n",
       "         62         616          50          17         133 "
      ]
     },
     "metadata": {},
     "output_type": "display_data"
    }
   ],
   "source": [
    "patients<-read.csv(\"./Data/Pneu_patients.csv\")\n",
    "length(unique(patients$SUBJECT_ID))\n",
    "table(patients$AGE_TYPE)"
   ]
  },
  {
   "cell_type": "markdown",
   "id": "b8e8c3c4",
   "metadata": {},
   "source": [
    "## lab data filter"
   ]
  },
  {
   "cell_type": "code",
   "execution_count": 3,
   "id": "5bc0a117",
   "metadata": {},
   "outputs": [],
   "source": [
    "Lab<-read.csv(\"./Data/LABEVENTS.csv\")\n",
    "Lab_item<-read.csv(\"./Data/D_LABITEMS.csv\")\n",
    "#----24h data--#\n",
    "#patient Lab data\n",
    "Lab_pneu_patient<-Lab%>% filter(Lab$SUBJECT_ID %in% patients$SUBJECT_ID)\n",
    "# order\n",
    "Lab_pneu_patient<-Lab_pneu_patient[order(Lab_pneu_patient$SUBJECT_ID,\n",
    "                                         Lab_pneu_patient$ITEMID,\n",
    "                                         Lab_pneu_patient$CHARTTIME),]\n",
    "#24h selected\n",
    "setDT(Lab_pneu_patient)\n",
    "index<-duplicated(Lab_pneu_patient,by=c(\"SUBJECT_ID\",\"ITEMID\"))"
   ]
  },
  {
   "cell_type": "code",
   "execution_count": 4,
   "id": "31e1206a",
   "metadata": {},
   "outputs": [
    {
     "data": {
      "text/html": [
       "743"
      ],
      "text/latex": [
       "743"
      ],
      "text/markdown": [
       "743"
      ],
      "text/plain": [
       "[1] 743"
      ]
     },
     "metadata": {},
     "output_type": "display_data"
    },
    {
     "data": {
      "text/html": [
       "514"
      ],
      "text/latex": [
       "514"
      ],
      "text/markdown": [
       "514"
      ],
      "text/plain": [
       "[1] 514"
      ]
     },
     "metadata": {},
     "output_type": "display_data"
    }
   ],
   "source": [
    "first_lab<-Lab_pneu_patient[which(index==F),]\n",
    "first_lab<-na.omit(first_lab)\n",
    "length(unique(first_lab$SUBJECT_ID)) #patients num 743  have lab marker\n",
    "length(unique(first_lab$ITEMID)) #lab marker num  514"
   ]
  },
  {
   "cell_type": "code",
   "execution_count": 5,
   "id": "31217e6f",
   "metadata": {},
   "outputs": [
    {
     "data": {
      "text/html": [
       "<table class=\"dataframe\">\n",
       "<caption>A data.frame: 6 × 6</caption>\n",
       "<thead>\n",
       "\t<tr><th></th><th scope=col>SUBJECT_ID</th><th scope=col>HADM_ID</th><th scope=col>ADMI_AGE</th><th scope=col>GENDER</th><th scope=col>Time</th><th scope=col>EXPIRE_FLAG</th></tr>\n",
       "\t<tr><th></th><th scope=col>&lt;int&gt;</th><th scope=col>&lt;int&gt;</th><th scope=col>&lt;int&gt;</th><th scope=col>&lt;chr&gt;</th><th scope=col>&lt;int&gt;</th><th scope=col>&lt;int&gt;</th></tr>\n",
       "</thead>\n",
       "<tbody>\n",
       "\t<tr><th scope=row>1</th><td>628</td><td>100693</td><td> 198</td><td>F</td><td>15</td><td>0</td></tr>\n",
       "\t<tr><th scope=row>2</th><td>643</td><td>100659</td><td>  48</td><td>F</td><td>17</td><td>0</td></tr>\n",
       "\t<tr><th scope=row>3</th><td>666</td><td>100651</td><td>1838</td><td>F</td><td>40</td><td>0</td></tr>\n",
       "\t<tr><th scope=row>4</th><td>670</td><td>100791</td><td> 156</td><td>F</td><td>11</td><td>0</td></tr>\n",
       "\t<tr><th scope=row>5</th><td>673</td><td>100832</td><td> 212</td><td>F</td><td>13</td><td>0</td></tr>\n",
       "\t<tr><th scope=row>6</th><td>676</td><td>100662</td><td>1129</td><td>M</td><td>12</td><td>0</td></tr>\n",
       "</tbody>\n",
       "</table>\n"
      ],
      "text/latex": [
       "A data.frame: 6 × 6\n",
       "\\begin{tabular}{r|llllll}\n",
       "  & SUBJECT\\_ID & HADM\\_ID & ADMI\\_AGE & GENDER & Time & EXPIRE\\_FLAG\\\\\n",
       "  & <int> & <int> & <int> & <chr> & <int> & <int>\\\\\n",
       "\\hline\n",
       "\t1 & 628 & 100693 &  198 & F & 15 & 0\\\\\n",
       "\t2 & 643 & 100659 &   48 & F & 17 & 0\\\\\n",
       "\t3 & 666 & 100651 & 1838 & F & 40 & 0\\\\\n",
       "\t4 & 670 & 100791 &  156 & F & 11 & 0\\\\\n",
       "\t5 & 673 & 100832 &  212 & F & 13 & 0\\\\\n",
       "\t6 & 676 & 100662 & 1129 & M & 12 & 0\\\\\n",
       "\\end{tabular}\n"
      ],
      "text/markdown": [
       "\n",
       "A data.frame: 6 × 6\n",
       "\n",
       "| <!--/--> | SUBJECT_ID &lt;int&gt; | HADM_ID &lt;int&gt; | ADMI_AGE &lt;int&gt; | GENDER &lt;chr&gt; | Time &lt;int&gt; | EXPIRE_FLAG &lt;int&gt; |\n",
       "|---|---|---|---|---|---|---|\n",
       "| 1 | 628 | 100693 |  198 | F | 15 | 0 |\n",
       "| 2 | 643 | 100659 |   48 | F | 17 | 0 |\n",
       "| 3 | 666 | 100651 | 1838 | F | 40 | 0 |\n",
       "| 4 | 670 | 100791 |  156 | F | 11 | 0 |\n",
       "| 5 | 673 | 100832 |  212 | F | 13 | 0 |\n",
       "| 6 | 676 | 100662 | 1129 | M | 12 | 0 |\n",
       "\n"
      ],
      "text/plain": [
       "  SUBJECT_ID HADM_ID ADMI_AGE GENDER Time EXPIRE_FLAG\n",
       "1 628        100693   198     F      15   0          \n",
       "2 643        100659    48     F      17   0          \n",
       "3 666        100651  1838     F      40   0          \n",
       "4 670        100791   156     F      11   0          \n",
       "5 673        100832   212     F      13   0          \n",
       "6 676        100662  1129     M      12   0          "
      ]
     },
     "metadata": {},
     "output_type": "display_data"
    }
   ],
   "source": [
    "#--data cleaning------#\n",
    "lab_index<-unique(first_lab$ITEMID)\n",
    "lab_px<-table(first_lab$ITEMID)\n",
    "lab_px<-lab_px[order(lab_px,decreasing = T)]\n",
    "\n",
    "#matrix patients\n",
    "fData<-patients%>%select(SUBJECT_ID,HADM_ID,ADMI_AGE,GENDER,Time,EXPIRE_FLAG)\n",
    "fData<-fData[order(fData$SUBJECT_ID),]\n",
    "fData<-fData %>% filter(fData$SUBJECT_ID %in% unique(first_lab$SUBJECT_ID))\n",
    "head(fData)"
   ]
  },
  {
   "cell_type": "code",
   "execution_count": 7,
   "id": "a2c0babb",
   "metadata": {},
   "outputs": [
    {
     "data": {
      "image/png": "[encoded data removed]",
      "text/plain": [
       "plot without title"
      ]
     },
     "metadata": {
      "image/png": {
       "height": 420,
       "width": 420
      }
     },
     "output_type": "display_data"
    }
   ],
   "source": [
    "#Under 5 AGE&flag distribution\n",
    "sdf<-data.frame(Age=fData$ADMI_AGE,time=fData$Time/30,survival=as.factor(fData$EXPIRE_FLAG))\n",
    "sdf<-sdf[which(sdf$Age/365 <5),]#under 5 years old\n",
    "scolor<-c(\"#00b9f1\",\"#f9320c\")\n",
    "p=ggscatter(sdf, x = \"Age\", y = \"time\",color = \"survival\",shape = 21,\n",
    "          palette = scolor)+\n",
    "  xlab(\"Age\")+ylab(\"Time (month)\")+\n",
    "  scale_x_continuous(breaks=seq(0, 365*5, 365))+\n",
    "  theme_bw() + theme(panel.grid=element_blank())\n",
    "p  "
   ]
  },
  {
   "cell_type": "code",
   "execution_count": 13,
   "id": "84462170",
   "metadata": {},
   "outputs": [
    {
     "data": {
      "text/html": [
       "<strong>png:</strong> 2"
      ],
      "text/latex": [
       "\\textbf{png:} 2"
      ],
      "text/markdown": [
       "**png:** 2"
      ],
      "text/plain": [
       "png \n",
       "  2 "
      ]
     },
     "metadata": {},
     "output_type": "display_data"
    }
   ],
   "source": [
    "pdf(\"./Figs/s. age-time.pdf\",width=10, height=6)\n",
    "p\n",
    "dev.off()"
   ]
  },
  {
   "cell_type": "markdown",
   "id": "e16fb789",
   "metadata": {},
   "source": [
    "#### just 1 Preschooler (3-5 year old) dead beacuse of sever pnuemonia\n",
    "·selected Infancy and Toddler"
   ]
  },
  {
   "cell_type": "code",
   "execution_count": 8,
   "id": "6180570a",
   "metadata": {},
   "outputs": [
    {
     "data": {
      "text/html": [
       "749"
      ],
      "text/latex": [
       "749"
      ],
      "text/markdown": [
       "749"
      ],
      "text/plain": [
       "[1] 749"
      ]
     },
     "metadata": {},
     "output_type": "display_data"
    },
    {
     "data": {
      "text/html": [
       "<table class=\"dataframe\">\n",
       "<caption>A data.frame: 6 × 18</caption>\n",
       "<thead>\n",
       "\t<tr><th></th><th scope=col>ROW_ID</th><th scope=col>SUBJECT_ID</th><th scope=col>GENDER</th><th scope=col>DOB</th><th scope=col>DOD</th><th scope=col>EXPIRE_FLAG</th><th scope=col>HADM_ID</th><th scope=col>SEQ_NUM</th><th scope=col>ICD10_CODE_CN</th><th scope=col>ICD10_CODE</th><th scope=col>TITLE_CN</th><th scope=col>TITLE</th><th scope=col>ADMITTIME</th><th scope=col>DISCHTIME</th><th scope=col>DEATHTIME</th><th scope=col>ADMI_AGE</th><th scope=col>Time</th><th scope=col>AGE_TYPE</th></tr>\n",
       "\t<tr><th></th><th scope=col>&lt;int&gt;</th><th scope=col>&lt;int&gt;</th><th scope=col>&lt;chr&gt;</th><th scope=col>&lt;chr&gt;</th><th scope=col>&lt;chr&gt;</th><th scope=col>&lt;int&gt;</th><th scope=col>&lt;int&gt;</th><th scope=col>&lt;int&gt;</th><th scope=col>&lt;chr&gt;</th><th scope=col>&lt;chr&gt;</th><th scope=col>&lt;chr&gt;</th><th scope=col>&lt;chr&gt;</th><th scope=col>&lt;chr&gt;</th><th scope=col>&lt;chr&gt;</th><th scope=col>&lt;chr&gt;</th><th scope=col>&lt;int&gt;</th><th scope=col>&lt;int&gt;</th><th scope=col>&lt;chr&gt;</th></tr>\n",
       "</thead>\n",
       "<tbody>\n",
       "\t<tr><th scope=row>353</th><td>3453</td><td>15</td><td>F</td><td>2107-03-02 00:00:00</td><td>                   </td><td>0</td><td>100062</td><td>1</td><td>J18.008</td><td>J18.0</td><td>支气管肺炎</td><td>Bronchopneumonia, unspecified</td><td>2108-01-05 10:36:36</td><td>2108-01-07 11:53:00</td><td>                   </td><td>309</td><td> 2</td><td>Infancy</td></tr>\n",
       "\t<tr><th scope=row>113</th><td> 770</td><td>17</td><td>M</td><td>2072-04-27 00:00:00</td><td>2073-05-26 13:32:00</td><td>1</td><td>100120</td><td>1</td><td>J18.901</td><td>J18.9</td><td>喘憋性肺炎</td><td>Pneumonia, unspecified       </td><td>2073-05-18 09:31:04</td><td>2073-05-26 13:32:00</td><td>2073-05-26 13:32:00</td><td>386</td><td> 8</td><td>Toddler</td></tr>\n",
       "\t<tr><th scope=row>372</th><td>3576</td><td>23</td><td>M</td><td>2108-04-15 05:21:00</td><td>                   </td><td>0</td><td>100006</td><td>1</td><td>J18.008</td><td>J18.0</td><td>支气管肺炎</td><td>Bronchopneumonia, unspecified</td><td>2108-09-29 18:35:01</td><td>2108-10-10 11:24:00</td><td>                   </td><td>167</td><td>11</td><td>Infancy</td></tr>\n",
       "\t<tr><th scope=row>36</th><td> 260</td><td>25</td><td>F</td><td>2062-02-27 09:52:00</td><td>                   </td><td>0</td><td>100012</td><td>1</td><td>J18.008</td><td>J18.0</td><td>支气管肺炎</td><td>Bronchopneumonia, unspecified</td><td>2063-01-26 09:51:56</td><td>2063-02-08 13:07:00</td><td>                   </td><td>333</td><td>13</td><td>Infancy</td></tr>\n",
       "\t<tr><th scope=row>114</th><td> 771</td><td>33</td><td>M</td><td>2076-10-26 07:38:00</td><td>                   </td><td>0</td><td>100070</td><td>1</td><td>J18.901</td><td>J18.9</td><td>喘憋性肺炎</td><td>Pneumonia, unspecified       </td><td>2077-02-11 09:27:19</td><td>2077-02-25 16:28:00</td><td>                   </td><td>108</td><td>14</td><td>Infancy</td></tr>\n",
       "\t<tr><th scope=row>432</th><td>4447</td><td>38</td><td>M</td><td>2064-11-20 00:00:00</td><td>                   </td><td>0</td><td>100009</td><td>1</td><td>J18.901</td><td>J18.9</td><td>喘憋性肺炎</td><td>Pneumonia, unspecified       </td><td>2065-12-16 20:14:39</td><td>2066-01-26 16:45:00</td><td>                   </td><td>391</td><td>41</td><td>Toddler</td></tr>\n",
       "</tbody>\n",
       "</table>\n"
      ],
      "text/latex": [
       "A data.frame: 6 × 18\n",
       "\\begin{tabular}{r|llllllllllllllllll}\n",
       "  & ROW\\_ID & SUBJECT\\_ID & GENDER & DOB & DOD & EXPIRE\\_FLAG & HADM\\_ID & SEQ\\_NUM & ICD10\\_CODE\\_CN & ICD10\\_CODE & TITLE\\_CN & TITLE & ADMITTIME & DISCHTIME & DEATHTIME & ADMI\\_AGE & Time & AGE\\_TYPE\\\\\n",
       "  & <int> & <int> & <chr> & <chr> & <chr> & <int> & <int> & <int> & <chr> & <chr> & <chr> & <chr> & <chr> & <chr> & <chr> & <int> & <int> & <chr>\\\\\n",
       "\\hline\n",
       "\t353 & 3453 & 15 & F & 2107-03-02 00:00:00 &                     & 0 & 100062 & 1 & J18.008 & J18.0 & 支气管肺炎 & Bronchopneumonia, unspecified & 2108-01-05 10:36:36 & 2108-01-07 11:53:00 &                     & 309 &  2 & Infancy\\\\\n",
       "\t113 &  770 & 17 & M & 2072-04-27 00:00:00 & 2073-05-26 13:32:00 & 1 & 100120 & 1 & J18.901 & J18.9 & 喘憋性肺炎 & Pneumonia, unspecified        & 2073-05-18 09:31:04 & 2073-05-26 13:32:00 & 2073-05-26 13:32:00 & 386 &  8 & Toddler\\\\\n",
       "\t372 & 3576 & 23 & M & 2108-04-15 05:21:00 &                     & 0 & 100006 & 1 & J18.008 & J18.0 & 支气管肺炎 & Bronchopneumonia, unspecified & 2108-09-29 18:35:01 & 2108-10-10 11:24:00 &                     & 167 & 11 & Infancy\\\\\n",
       "\t36 &  260 & 25 & F & 2062-02-27 09:52:00 &                     & 0 & 100012 & 1 & J18.008 & J18.0 & 支气管肺炎 & Bronchopneumonia, unspecified & 2063-01-26 09:51:56 & 2063-02-08 13:07:00 &                     & 333 & 13 & Infancy\\\\\n",
       "\t114 &  771 & 33 & M & 2076-10-26 07:38:00 &                     & 0 & 100070 & 1 & J18.901 & J18.9 & 喘憋性肺炎 & Pneumonia, unspecified        & 2077-02-11 09:27:19 & 2077-02-25 16:28:00 &                     & 108 & 14 & Infancy\\\\\n",
       "\t432 & 4447 & 38 & M & 2064-11-20 00:00:00 &                     & 0 & 100009 & 1 & J18.901 & J18.9 & 喘憋性肺炎 & Pneumonia, unspecified        & 2065-12-16 20:14:39 & 2066-01-26 16:45:00 &                     & 391 & 41 & Toddler\\\\\n",
       "\\end{tabular}\n"
      ],
      "text/markdown": [
       "\n",
       "A data.frame: 6 × 18\n",
       "\n",
       "| <!--/--> | ROW_ID &lt;int&gt; | SUBJECT_ID &lt;int&gt; | GENDER &lt;chr&gt; | DOB &lt;chr&gt; | DOD &lt;chr&gt; | EXPIRE_FLAG &lt;int&gt; | HADM_ID &lt;int&gt; | SEQ_NUM &lt;int&gt; | ICD10_CODE_CN &lt;chr&gt; | ICD10_CODE &lt;chr&gt; | TITLE_CN &lt;chr&gt; | TITLE &lt;chr&gt; | ADMITTIME &lt;chr&gt; | DISCHTIME &lt;chr&gt; | DEATHTIME &lt;chr&gt; | ADMI_AGE &lt;int&gt; | Time &lt;int&gt; | AGE_TYPE &lt;chr&gt; |\n",
       "|---|---|---|---|---|---|---|---|---|---|---|---|---|---|---|---|---|---|---|\n",
       "| 353 | 3453 | 15 | F | 2107-03-02 00:00:00 | <!----> | 0 | 100062 | 1 | J18.008 | J18.0 | 支气管肺炎 | Bronchopneumonia, unspecified | 2108-01-05 10:36:36 | 2108-01-07 11:53:00 | <!----> | 309 |  2 | Infancy |\n",
       "| 113 |  770 | 17 | M | 2072-04-27 00:00:00 | 2073-05-26 13:32:00 | 1 | 100120 | 1 | J18.901 | J18.9 | 喘憋性肺炎 | Pneumonia, unspecified        | 2073-05-18 09:31:04 | 2073-05-26 13:32:00 | 2073-05-26 13:32:00 | 386 |  8 | Toddler |\n",
       "| 372 | 3576 | 23 | M | 2108-04-15 05:21:00 | <!----> | 0 | 100006 | 1 | J18.008 | J18.0 | 支气管肺炎 | Bronchopneumonia, unspecified | 2108-09-29 18:35:01 | 2108-10-10 11:24:00 | <!----> | 167 | 11 | Infancy |\n",
       "| 36 |  260 | 25 | F | 2062-02-27 09:52:00 | <!----> | 0 | 100012 | 1 | J18.008 | J18.0 | 支气管肺炎 | Bronchopneumonia, unspecified | 2063-01-26 09:51:56 | 2063-02-08 13:07:00 | <!----> | 333 | 13 | Infancy |\n",
       "| 114 |  771 | 33 | M | 2076-10-26 07:38:00 | <!----> | 0 | 100070 | 1 | J18.901 | J18.9 | 喘憋性肺炎 | Pneumonia, unspecified        | 2077-02-11 09:27:19 | 2077-02-25 16:28:00 | <!----> | 108 | 14 | Infancy |\n",
       "| 432 | 4447 | 38 | M | 2064-11-20 00:00:00 | <!----> | 0 | 100009 | 1 | J18.901 | J18.9 | 喘憋性肺炎 | Pneumonia, unspecified        | 2065-12-16 20:14:39 | 2066-01-26 16:45:00 | <!----> | 391 | 41 | Toddler |\n",
       "\n"
      ],
      "text/plain": [
       "    ROW_ID SUBJECT_ID GENDER DOB                 DOD                \n",
       "353 3453   15         F      2107-03-02 00:00:00                    \n",
       "113  770   17         M      2072-04-27 00:00:00 2073-05-26 13:32:00\n",
       "372 3576   23         M      2108-04-15 05:21:00                    \n",
       "36   260   25         F      2062-02-27 09:52:00                    \n",
       "114  771   33         M      2076-10-26 07:38:00                    \n",
       "432 4447   38         M      2064-11-20 00:00:00                    \n",
       "    EXPIRE_FLAG HADM_ID SEQ_NUM ICD10_CODE_CN ICD10_CODE TITLE_CN  \n",
       "353 0           100062  1       J18.008       J18.0      支气管肺炎\n",
       "113 1           100120  1       J18.901       J18.9      喘憋性肺炎\n",
       "372 0           100006  1       J18.008       J18.0      支气管肺炎\n",
       "36  0           100012  1       J18.008       J18.0      支气管肺炎\n",
       "114 0           100070  1       J18.901       J18.9      喘憋性肺炎\n",
       "432 0           100009  1       J18.901       J18.9      喘憋性肺炎\n",
       "    TITLE                         ADMITTIME           DISCHTIME          \n",
       "353 Bronchopneumonia, unspecified 2108-01-05 10:36:36 2108-01-07 11:53:00\n",
       "113 Pneumonia, unspecified        2073-05-18 09:31:04 2073-05-26 13:32:00\n",
       "372 Bronchopneumonia, unspecified 2108-09-29 18:35:01 2108-10-10 11:24:00\n",
       "36  Bronchopneumonia, unspecified 2063-01-26 09:51:56 2063-02-08 13:07:00\n",
       "114 Pneumonia, unspecified        2077-02-11 09:27:19 2077-02-25 16:28:00\n",
       "432 Pneumonia, unspecified        2065-12-16 20:14:39 2066-01-26 16:45:00\n",
       "    DEATHTIME           ADMI_AGE Time AGE_TYPE\n",
       "353                     309       2   Infancy \n",
       "113 2073-05-26 13:32:00 386       8   Toddler \n",
       "372                     167      11   Infancy \n",
       "36                      333      13   Infancy \n",
       "114                     108      14   Infancy \n",
       "432                     391      41   Toddler "
      ]
     },
     "metadata": {},
     "output_type": "display_data"
    }
   ],
   "source": [
    "patient<-patients[which(patients$AGE_TYPE==\"Infancy\"|patients$AGE_TYPE==\"Toddler\"),] #749 patients\n",
    "patient<-patient[order(patient$SUBJECT_ID),]\n",
    "length(patient$SUBJECT_ID)\n",
    "head(patient)\n",
    "#write.csv(patient[,2:17],\"./Temps/1.PatientsData.csv\",row.names = F)"
   ]
  },
  {
   "cell_type": "code",
   "execution_count": 9,
   "id": "5d7f4818",
   "metadata": {},
   "outputs": [
    {
     "data": {
      "text/html": [
       "633"
      ],
      "text/latex": [
       "633"
      ],
      "text/markdown": [
       "633"
      ],
      "text/plain": [
       "[1] 633"
      ]
     },
     "metadata": {},
     "output_type": "display_data"
    },
    {
     "data": {
      "text/html": [
       "656"
      ],
      "text/latex": [
       "656"
      ],
      "text/markdown": [
       "656"
      ],
      "text/plain": [
       "[1] 656"
      ]
     },
     "metadata": {},
     "output_type": "display_data"
    },
    {
     "data": {
      "text/html": [
       "<table class=\"dataframe\">\n",
       "<caption>A data.table: 6 × 9</caption>\n",
       "<thead>\n",
       "\t<tr><th scope=col>ROW_ID</th><th scope=col>SUBJECT_ID</th><th scope=col>HADM_ID</th><th scope=col>ITEMID</th><th scope=col>CHARTTIME</th><th scope=col>VALUE</th><th scope=col>VALUENUM</th><th scope=col>VALUEUOM</th><th scope=col>FLAG</th></tr>\n",
       "\t<tr><th scope=col>&lt;int&gt;</th><th scope=col>&lt;int&gt;</th><th scope=col>&lt;int&gt;</th><th scope=col>&lt;int&gt;</th><th scope=col>&lt;chr&gt;</th><th scope=col>&lt;chr&gt;</th><th scope=col>&lt;dbl&gt;</th><th scope=col>&lt;chr&gt;</th><th scope=col>&lt;chr&gt;</th></tr>\n",
       "</thead>\n",
       "<tbody>\n",
       "\t<tr><td>3070840</td><td>628</td><td>100693</td><td>5002</td><td>2106-12-28 14:32:24</td><td>0.1     </td><td> 0.10</td><td>%  </td><td>l</td></tr>\n",
       "\t<tr><td>3069038</td><td>628</td><td>100693</td><td>5013</td><td>2106-12-29 08:42:48</td><td>Negative</td><td>   NA</td><td>   </td><td>z</td></tr>\n",
       "\t<tr><td>3069037</td><td>628</td><td>100693</td><td>5015</td><td>2106-12-29 08:42:48</td><td>Negative</td><td>   NA</td><td>   </td><td>z</td></tr>\n",
       "\t<tr><td>3070809</td><td>628</td><td>100693</td><td>5021</td><td>2106-12-29 13:59:29</td><td>2.02    </td><td> 2.02</td><td>   </td><td>z</td></tr>\n",
       "\t<tr><td>3070808</td><td>628</td><td>100693</td><td>5022</td><td>2106-12-29 13:59:29</td><td>52.0    </td><td>52.00</td><td>U/L</td><td>h</td></tr>\n",
       "\t<tr><td>3070807</td><td>628</td><td>100693</td><td>5024</td><td>2106-12-29 13:59:29</td><td>36.1    </td><td>36.10</td><td>g/L</td><td>z</td></tr>\n",
       "</tbody>\n",
       "</table>\n"
      ],
      "text/latex": [
       "A data.table: 6 × 9\n",
       "\\begin{tabular}{lllllllll}\n",
       " ROW\\_ID & SUBJECT\\_ID & HADM\\_ID & ITEMID & CHARTTIME & VALUE & VALUENUM & VALUEUOM & FLAG\\\\\n",
       " <int> & <int> & <int> & <int> & <chr> & <chr> & <dbl> & <chr> & <chr>\\\\\n",
       "\\hline\n",
       "\t 3070840 & 628 & 100693 & 5002 & 2106-12-28 14:32:24 & 0.1      &  0.10 & \\%   & l\\\\\n",
       "\t 3069038 & 628 & 100693 & 5013 & 2106-12-29 08:42:48 & Negative &    NA &     & z\\\\\n",
       "\t 3069037 & 628 & 100693 & 5015 & 2106-12-29 08:42:48 & Negative &    NA &     & z\\\\\n",
       "\t 3070809 & 628 & 100693 & 5021 & 2106-12-29 13:59:29 & 2.02     &  2.02 &     & z\\\\\n",
       "\t 3070808 & 628 & 100693 & 5022 & 2106-12-29 13:59:29 & 52.0     & 52.00 & U/L & h\\\\\n",
       "\t 3070807 & 628 & 100693 & 5024 & 2106-12-29 13:59:29 & 36.1     & 36.10 & g/L & z\\\\\n",
       "\\end{tabular}\n"
      ],
      "text/markdown": [
       "\n",
       "A data.table: 6 × 9\n",
       "\n",
       "| ROW_ID &lt;int&gt; | SUBJECT_ID &lt;int&gt; | HADM_ID &lt;int&gt; | ITEMID &lt;int&gt; | CHARTTIME &lt;chr&gt; | VALUE &lt;chr&gt; | VALUENUM &lt;dbl&gt; | VALUEUOM &lt;chr&gt; | FLAG &lt;chr&gt; |\n",
       "|---|---|---|---|---|---|---|---|---|\n",
       "| 3070840 | 628 | 100693 | 5002 | 2106-12-28 14:32:24 | 0.1      |  0.10 | %   | l |\n",
       "| 3069038 | 628 | 100693 | 5013 | 2106-12-29 08:42:48 | Negative |    NA | <!----> | z |\n",
       "| 3069037 | 628 | 100693 | 5015 | 2106-12-29 08:42:48 | Negative |    NA | <!----> | z |\n",
       "| 3070809 | 628 | 100693 | 5021 | 2106-12-29 13:59:29 | 2.02     |  2.02 | <!----> | z |\n",
       "| 3070808 | 628 | 100693 | 5022 | 2106-12-29 13:59:29 | 52.0     | 52.00 | U/L | h |\n",
       "| 3070807 | 628 | 100693 | 5024 | 2106-12-29 13:59:29 | 36.1     | 36.10 | g/L | z |\n",
       "\n"
      ],
      "text/plain": [
       "  ROW_ID  SUBJECT_ID HADM_ID ITEMID CHARTTIME           VALUE    VALUENUM\n",
       "1 3070840 628        100693  5002   2106-12-28 14:32:24 0.1       0.10   \n",
       "2 3069038 628        100693  5013   2106-12-29 08:42:48 Negative    NA   \n",
       "3 3069037 628        100693  5015   2106-12-29 08:42:48 Negative    NA   \n",
       "4 3070809 628        100693  5021   2106-12-29 13:59:29 2.02      2.02   \n",
       "5 3070808 628        100693  5022   2106-12-29 13:59:29 52.0     52.00   \n",
       "6 3070807 628        100693  5024   2106-12-29 13:59:29 36.1     36.10   \n",
       "  VALUEUOM FLAG\n",
       "1 %        l   \n",
       "2          z   \n",
       "3          z   \n",
       "4          z   \n",
       "5 U/L      h   \n",
       "6 g/L      z   "
      ]
     },
     "metadata": {},
     "output_type": "display_data"
    }
   ],
   "source": [
    "Lab_pneu_patient<-Lab%>% filter(Lab$SUBJECT_ID %in% patient$SUBJECT_ID)\n",
    "Lab_pneu_patient<-Lab_pneu_patient[order(Lab_pneu_patient$SUBJECT_ID,\n",
    "                                         Lab_pneu_patient$ITEMID,\n",
    "                                         Lab_pneu_patient$CHARTTIME),]\n",
    "setDT(Lab_pneu_patient)\n",
    "index<-duplicated(Lab_pneu_patient,by=c(\"SUBJECT_ID\",\"ITEMID\"))\n",
    "first_lab<-Lab_pneu_patient[which(index==F),]\n",
    "length(unique(first_lab$SUBJECT_ID)) #patients num 633  have lab marker\n",
    "length(unique(first_lab$ITEMID)) #lab marker num  656\n",
    "head(first_lab)"
   ]
  },
  {
   "cell_type": "code",
   "execution_count": 10,
   "id": "397c0ae2",
   "metadata": {},
   "outputs": [
    {
     "data": {
      "text/html": [
       "85"
      ],
      "text/latex": [
       "85"
      ],
      "text/markdown": [
       "85"
      ],
      "text/plain": [
       "[1] 85"
      ]
     },
     "metadata": {},
     "output_type": "display_data"
    },
    {
     "data": {
      "text/html": [
       "<table class=\"dataframe\">\n",
       "<caption>A data.frame: 6 × 7</caption>\n",
       "<thead>\n",
       "\t<tr><th></th><th scope=col>ROW_ID</th><th scope=col>ITEMID</th><th scope=col>LABEL_CN</th><th scope=col>LABEL</th><th scope=col>FLUID</th><th scope=col>CATEGORY</th><th scope=col>LOINC_CODE</th></tr>\n",
       "\t<tr><th></th><th scope=col>&lt;int&gt;</th><th scope=col>&lt;int&gt;</th><th scope=col>&lt;chr&gt;</th><th scope=col>&lt;chr&gt;</th><th scope=col>&lt;chr&gt;</th><th scope=col>&lt;chr&gt;</th><th scope=col>&lt;chr&gt;</th></tr>\n",
       "</thead>\n",
       "<tbody>\n",
       "\t<tr><th scope=row>1</th><td> 1</td><td>5002</td><td>嗜酸性粒细胞  </td><td>Eosinophils               </td><td>Blood</td><td>Hematology</td><td>711-2 </td></tr>\n",
       "\t<tr><th scope=row>6</th><td> 6</td><td>5013</td><td>副流感II病毒  </td><td>PARAINFLUENZA VIRUS TYPE 2</td><td>Blood</td><td>Chemistry </td><td>      </td></tr>\n",
       "\t<tr><th scope=row>7</th><td> 7</td><td>5015</td><td>呼吸道合胞病毒</td><td>RSV                       </td><td>Blood</td><td>Chemistry </td><td>      </td></tr>\n",
       "\t<tr><th scope=row>12</th><td>12</td><td>5021</td><td>白球比例      </td><td>ALB/GLB                   </td><td>Blood</td><td>Hematology</td><td>      </td></tr>\n",
       "\t<tr><th scope=row>13</th><td>13</td><td>5022</td><td>腺苷脱氨酶    </td><td>adenosine deaminase       </td><td>Blood</td><td>Chemistry </td><td>      </td></tr>\n",
       "\t<tr><th scope=row>14</th><td>14</td><td>5024</td><td>白蛋白        </td><td>Albumin                   </td><td>Blood</td><td>Chemistry </td><td>1751-7</td></tr>\n",
       "</tbody>\n",
       "</table>\n"
      ],
      "text/latex": [
       "A data.frame: 6 × 7\n",
       "\\begin{tabular}{r|lllllll}\n",
       "  & ROW\\_ID & ITEMID & LABEL\\_CN & LABEL & FLUID & CATEGORY & LOINC\\_CODE\\\\\n",
       "  & <int> & <int> & <chr> & <chr> & <chr> & <chr> & <chr>\\\\\n",
       "\\hline\n",
       "\t1 &  1 & 5002 & 嗜酸性粒细胞   & Eosinophils                & Blood & Hematology & 711-2 \\\\\n",
       "\t6 &  6 & 5013 & 副流感II病毒   & PARAINFLUENZA VIRUS TYPE 2 & Blood & Chemistry  &       \\\\\n",
       "\t7 &  7 & 5015 & 呼吸道合胞病毒 & RSV                        & Blood & Chemistry  &       \\\\\n",
       "\t12 & 12 & 5021 & 白球比例       & ALB/GLB                    & Blood & Hematology &       \\\\\n",
       "\t13 & 13 & 5022 & 腺苷脱氨酶     & adenosine deaminase        & Blood & Chemistry  &       \\\\\n",
       "\t14 & 14 & 5024 & 白蛋白         & Albumin                    & Blood & Chemistry  & 1751-7\\\\\n",
       "\\end{tabular}\n"
      ],
      "text/markdown": [
       "\n",
       "A data.frame: 6 × 7\n",
       "\n",
       "| <!--/--> | ROW_ID &lt;int&gt; | ITEMID &lt;int&gt; | LABEL_CN &lt;chr&gt; | LABEL &lt;chr&gt; | FLUID &lt;chr&gt; | CATEGORY &lt;chr&gt; | LOINC_CODE &lt;chr&gt; |\n",
       "|---|---|---|---|---|---|---|---|\n",
       "| 1 |  1 | 5002 | 嗜酸性粒细胞   | Eosinophils                | Blood | Hematology | 711-2  |\n",
       "| 6 |  6 | 5013 | 副流感II病毒   | PARAINFLUENZA VIRUS TYPE 2 | Blood | Chemistry  | <!----> |\n",
       "| 7 |  7 | 5015 | 呼吸道合胞病毒 | RSV                        | Blood | Chemistry  | <!----> |\n",
       "| 12 | 12 | 5021 | 白球比例       | ALB/GLB                    | Blood | Hematology | <!----> |\n",
       "| 13 | 13 | 5022 | 腺苷脱氨酶     | adenosine deaminase        | Blood | Chemistry  | <!----> |\n",
       "| 14 | 14 | 5024 | 白蛋白         | Albumin                    | Blood | Chemistry  | 1751-7 |\n",
       "\n"
      ],
      "text/plain": [
       "   ROW_ID ITEMID LABEL_CN       LABEL                      FLUID CATEGORY  \n",
       "1   1     5002   嗜酸性粒细胞   Eosinophils                Blood Hematology\n",
       "6   6     5013   副流感II病毒   PARAINFLUENZA VIRUS TYPE 2 Blood Chemistry \n",
       "7   7     5015   呼吸道合胞病毒 RSV                        Blood Chemistry \n",
       "12 12     5021   白球比例       ALB/GLB                    Blood Hematology\n",
       "13 13     5022   腺苷脱氨酶     adenosine deaminase        Blood Chemistry \n",
       "14 14     5024   白蛋白         Albumin                    Blood Chemistry \n",
       "   LOINC_CODE\n",
       "1  711-2     \n",
       "6            \n",
       "7            \n",
       "12           \n",
       "13           \n",
       "14 1751-7    "
      ]
     },
     "metadata": {},
     "output_type": "display_data"
    }
   ],
   "source": [
    "lab_index<-unique(first_lab$ITEMID)\n",
    "lab_px<-table(first_lab$ITEMID)\n",
    "lab_px<-lab_px[order(lab_px,decreasing = T)]\n",
    "lab_useful<-as.data.frame(lab_px[which(lab_px/633>=0.8)])# delete lab marker which <80%\n",
    "Lab_select<-lab_useful$Var1 \n",
    "#delete wrong data (for a given feature, unite not same)\n",
    "funits<-as.data.frame(table(first_lab$ITEMID,first_lab$VALUEUOM)) \n",
    "funits<-funits[-which(funits$Freq==0),]\n",
    "funits<-funits[-which(funits$Var2==\"\"),]\n",
    "a<-as.data.frame(table(funits$Var1))\n",
    "wunits<-a$Var1[which(a$Freq>1)] \n",
    "Lab_select<-Lab_select[-which(Lab_select%in%wunits)]\n",
    "fName<-Lab_item[which(Lab_item$ITEMID%in%Lab_select),]\n",
    "length(fName$ITEMID)# 85 features\n",
    "head(fName)\n",
    "#write.csv(fName[,2:7],\"./Temps/1.featureName.csv\",row.names = F)"
   ]
  },
  {
   "cell_type": "code",
   "execution_count": 11,
   "id": "72121e5e",
   "metadata": {},
   "outputs": [
    {
     "name": "stderr",
     "output_type": "stream",
     "text": [
      "Using VALUE as value column: use value.var to override.\n",
      "\n",
      "Joining by: SUBJECT_ID\n",
      "\n"
     ]
    },
    {
     "data": {
      "text/html": [
       "<style>\n",
       ".list-inline {list-style: none; margin:0; padding: 0}\n",
       ".list-inline>li {display: inline-block}\n",
       ".list-inline>li:not(:last-child)::after {content: \"\\00b7\"; padding: 0 .5ex}\n",
       "</style>\n",
       "<ol class=list-inline><li>633</li><li>91</li></ol>\n"
      ],
      "text/latex": [
       "\\begin{enumerate*}\n",
       "\\item 633\n",
       "\\item 91\n",
       "\\end{enumerate*}\n"
      ],
      "text/markdown": [
       "1. 633\n",
       "2. 91\n",
       "\n",
       "\n"
      ],
      "text/plain": [
       "[1] 633  91"
      ]
     },
     "metadata": {},
     "output_type": "display_data"
    },
    {
     "data": {
      "text/html": [
       "<table class=\"dataframe\">\n",
       "<caption>A data.frame: 6 × 91</caption>\n",
       "<thead>\n",
       "\t<tr><th></th><th scope=col>SUBJECT_ID</th><th scope=col>HADM_ID</th><th scope=col>ADMI_AGE</th><th scope=col>GENDER</th><th scope=col>Time</th><th scope=col>EXPIRE_FLAG</th><th scope=col>5002</th><th scope=col>5013</th><th scope=col>5015</th><th scope=col>5021</th><th scope=col>⋯</th><th scope=col>5867</th><th scope=col>6236</th><th scope=col>6261</th><th scope=col>6316</th><th scope=col>6317</th><th scope=col>6318</th><th scope=col>6471</th><th scope=col>6472</th><th scope=col>6473</th><th scope=col>6514</th></tr>\n",
       "\t<tr><th></th><th scope=col>&lt;int&gt;</th><th scope=col>&lt;int&gt;</th><th scope=col>&lt;int&gt;</th><th scope=col>&lt;chr&gt;</th><th scope=col>&lt;int&gt;</th><th scope=col>&lt;int&gt;</th><th scope=col>&lt;chr&gt;</th><th scope=col>&lt;chr&gt;</th><th scope=col>&lt;chr&gt;</th><th scope=col>&lt;chr&gt;</th><th scope=col>⋯</th><th scope=col>&lt;chr&gt;</th><th scope=col>&lt;chr&gt;</th><th scope=col>&lt;chr&gt;</th><th scope=col>&lt;chr&gt;</th><th scope=col>&lt;chr&gt;</th><th scope=col>&lt;chr&gt;</th><th scope=col>&lt;chr&gt;</th><th scope=col>&lt;chr&gt;</th><th scope=col>&lt;chr&gt;</th><th scope=col>&lt;chr&gt;</th></tr>\n",
       "</thead>\n",
       "<tbody>\n",
       "\t<tr><th scope=row>1</th><td>628</td><td>100693</td><td>198</td><td>F</td><td>15</td><td>0</td><td>0.1</td><td>Negative</td><td>Negative</td><td>2.02</td><td>⋯</td><td>Negative</td><td>5381</td><td>0.62</td><td>0.14</td><td>1.9 </td><td>0.01</td><td>19 </td><td>1 </td><td>8 </td><td>Negative</td></tr>\n",
       "\t<tr><th scope=row>2</th><td>643</td><td>100659</td><td> 48</td><td>F</td><td>17</td><td>0</td><td>0.6</td><td>Negative</td><td>Positive</td><td>NA  </td><td>⋯</td><td>NA      </td><td>NA  </td><td>NA  </td><td>0.12</td><td>2.0 </td><td>0.03</td><td>NA </td><td>NA</td><td>NA</td><td>NA      </td></tr>\n",
       "\t<tr><th scope=row>3</th><td>670</td><td>100791</td><td>156</td><td>F</td><td>11</td><td>0</td><td>1.1</td><td>Negative</td><td>Negative</td><td>3.71</td><td>⋯</td><td>Negative</td><td>7402</td><td>1.57</td><td>0.15</td><td>3.5 </td><td>0.04</td><td>7  </td><td>1 </td><td>10</td><td>Negative</td></tr>\n",
       "\t<tr><th scope=row>4</th><td>673</td><td>100832</td><td>212</td><td>F</td><td>13</td><td>0</td><td>1.0</td><td>Negative</td><td>Negative</td><td>2.30</td><td>⋯</td><td>Negative</td><td>4628</td><td>0.99</td><td>2.10</td><td>14.9</td><td>0.15</td><td>319</td><td>1 </td><td>47</td><td>Negative</td></tr>\n",
       "\t<tr><th scope=row>5</th><td>677</td><td>100672</td><td> 73</td><td>M</td><td> 9</td><td>1</td><td>1.8</td><td>Negative</td><td>Positive</td><td>1.18</td><td>⋯</td><td>Negative</td><td>4276</td><td>2.88</td><td>1.33</td><td>19.3</td><td>0.12</td><td>43 </td><td>0 </td><td>17</td><td>Negative</td></tr>\n",
       "\t<tr><th scope=row>6</th><td>679</td><td>100691</td><td> 88</td><td>F</td><td>21</td><td>1</td><td>1.1</td><td>NA      </td><td>NA      </td><td>1.77</td><td>⋯</td><td>Negative</td><td>6557</td><td>0.61</td><td>0.04</td><td>1.9 </td><td>0.02</td><td>10 </td><td>2 </td><td>6 </td><td>Negative</td></tr>\n",
       "</tbody>\n",
       "</table>\n"
      ],
      "text/latex": [
       "A data.frame: 6 × 91\n",
       "\\begin{tabular}{r|lllllllllllllllllllll}\n",
       "  & SUBJECT\\_ID & HADM\\_ID & ADMI\\_AGE & GENDER & Time & EXPIRE\\_FLAG & 5002 & 5013 & 5015 & 5021 & ⋯ & 5867 & 6236 & 6261 & 6316 & 6317 & 6318 & 6471 & 6472 & 6473 & 6514\\\\\n",
       "  & <int> & <int> & <int> & <chr> & <int> & <int> & <chr> & <chr> & <chr> & <chr> & ⋯ & <chr> & <chr> & <chr> & <chr> & <chr> & <chr> & <chr> & <chr> & <chr> & <chr>\\\\\n",
       "\\hline\n",
       "\t1 & 628 & 100693 & 198 & F & 15 & 0 & 0.1 & Negative & Negative & 2.02 & ⋯ & Negative & 5381 & 0.62 & 0.14 & 1.9  & 0.01 & 19  & 1  & 8  & Negative\\\\\n",
       "\t2 & 643 & 100659 &  48 & F & 17 & 0 & 0.6 & Negative & Positive & NA   & ⋯ & NA       & NA   & NA   & 0.12 & 2.0  & 0.03 & NA  & NA & NA & NA      \\\\\n",
       "\t3 & 670 & 100791 & 156 & F & 11 & 0 & 1.1 & Negative & Negative & 3.71 & ⋯ & Negative & 7402 & 1.57 & 0.15 & 3.5  & 0.04 & 7   & 1  & 10 & Negative\\\\\n",
       "\t4 & 673 & 100832 & 212 & F & 13 & 0 & 1.0 & Negative & Negative & 2.30 & ⋯ & Negative & 4628 & 0.99 & 2.10 & 14.9 & 0.15 & 319 & 1  & 47 & Negative\\\\\n",
       "\t5 & 677 & 100672 &  73 & M &  9 & 1 & 1.8 & Negative & Positive & 1.18 & ⋯ & Negative & 4276 & 2.88 & 1.33 & 19.3 & 0.12 & 43  & 0  & 17 & Negative\\\\\n",
       "\t6 & 679 & 100691 &  88 & F & 21 & 1 & 1.1 & NA       & NA       & 1.77 & ⋯ & Negative & 6557 & 0.61 & 0.04 & 1.9  & 0.02 & 10  & 2  & 6  & Negative\\\\\n",
       "\\end{tabular}\n"
      ],
      "text/markdown": [
       "\n",
       "A data.frame: 6 × 91\n",
       "\n",
       "| <!--/--> | SUBJECT_ID &lt;int&gt; | HADM_ID &lt;int&gt; | ADMI_AGE &lt;int&gt; | GENDER &lt;chr&gt; | Time &lt;int&gt; | EXPIRE_FLAG &lt;int&gt; | 5002 &lt;chr&gt; | 5013 &lt;chr&gt; | 5015 &lt;chr&gt; | 5021 &lt;chr&gt; | ⋯ ⋯ | 5867 &lt;chr&gt; | 6236 &lt;chr&gt; | 6261 &lt;chr&gt; | 6316 &lt;chr&gt; | 6317 &lt;chr&gt; | 6318 &lt;chr&gt; | 6471 &lt;chr&gt; | 6472 &lt;chr&gt; | 6473 &lt;chr&gt; | 6514 &lt;chr&gt; |\n",
       "|---|---|---|---|---|---|---|---|---|---|---|---|---|---|---|---|---|---|---|---|---|---|\n",
       "| 1 | 628 | 100693 | 198 | F | 15 | 0 | 0.1 | Negative | Negative | 2.02 | ⋯ | Negative | 5381 | 0.62 | 0.14 | 1.9  | 0.01 | 19  | 1  | 8  | Negative |\n",
       "| 2 | 643 | 100659 |  48 | F | 17 | 0 | 0.6 | Negative | Positive | NA   | ⋯ | NA       | NA   | NA   | 0.12 | 2.0  | 0.03 | NA  | NA | NA | NA       |\n",
       "| 3 | 670 | 100791 | 156 | F | 11 | 0 | 1.1 | Negative | Negative | 3.71 | ⋯ | Negative | 7402 | 1.57 | 0.15 | 3.5  | 0.04 | 7   | 1  | 10 | Negative |\n",
       "| 4 | 673 | 100832 | 212 | F | 13 | 0 | 1.0 | Negative | Negative | 2.30 | ⋯ | Negative | 4628 | 0.99 | 2.10 | 14.9 | 0.15 | 319 | 1  | 47 | Negative |\n",
       "| 5 | 677 | 100672 |  73 | M |  9 | 1 | 1.8 | Negative | Positive | 1.18 | ⋯ | Negative | 4276 | 2.88 | 1.33 | 19.3 | 0.12 | 43  | 0  | 17 | Negative |\n",
       "| 6 | 679 | 100691 |  88 | F | 21 | 1 | 1.1 | NA       | NA       | 1.77 | ⋯ | Negative | 6557 | 0.61 | 0.04 | 1.9  | 0.02 | 10  | 2  | 6  | Negative |\n",
       "\n"
      ],
      "text/plain": [
       "  SUBJECT_ID HADM_ID ADMI_AGE GENDER Time EXPIRE_FLAG 5002 5013     5015    \n",
       "1 628        100693  198      F      15   0           0.1  Negative Negative\n",
       "2 643        100659   48      F      17   0           0.6  Negative Positive\n",
       "3 670        100791  156      F      11   0           1.1  Negative Negative\n",
       "4 673        100832  212      F      13   0           1.0  Negative Negative\n",
       "5 677        100672   73      M       9   1           1.8  Negative Positive\n",
       "6 679        100691   88      F      21   1           1.1  NA       NA      \n",
       "  5021 ⋯ 5867     6236 6261 6316 6317 6318 6471 6472 6473 6514    \n",
       "1 2.02 ⋯ Negative 5381 0.62 0.14 1.9  0.01 19   1    8    Negative\n",
       "2 NA   ⋯ NA       NA   NA   0.12 2.0  0.03 NA   NA   NA   NA      \n",
       "3 3.71 ⋯ Negative 7402 1.57 0.15 3.5  0.04 7    1    10   Negative\n",
       "4 2.30 ⋯ Negative 4628 0.99 2.10 14.9 0.15 319  1    47   Negative\n",
       "5 1.18 ⋯ Negative 4276 2.88 1.33 19.3 0.12 43   0    17   Negative\n",
       "6 1.77 ⋯ Negative 6557 0.61 0.04 1.9  0.02 10   2    6    Negative"
      ]
     },
     "metadata": {},
     "output_type": "display_data"
    }
   ],
   "source": [
    "#final lab data<-\n",
    "finalData<-patient%>%select(SUBJECT_ID,HADM_ID,ADMI_AGE,GENDER,Time,EXPIRE_FLAG)\n",
    "finalData<-finalData[order(finalData$SUBJECT_ID),]\n",
    "finalData<-finalData %>% filter(finalData$SUBJECT_ID %in% unique(first_lab$SUBJECT_ID))\n",
    "pipei<-first_lab[which(first_lab$SUBJECT_ID%in%patient$SUBJECT_ID),c(2,4,6)]\n",
    "pipei<-pipei[which(pipei$ITEMID%in%Lab_select),]\n",
    "data<-dcast(pipei,SUBJECT_ID~ITEMID)\n",
    "finalData<-join(finalData,data,match=\"first\")\n",
    "dim(finalData)\n",
    "head(finalData)"
   ]
  },
  {
   "cell_type": "code",
   "execution_count": 12,
   "id": "fa64d8e3",
   "metadata": {},
   "outputs": [
    {
     "data": {
      "text/html": [
       "<table class=\"dataframe\">\n",
       "<caption>A data.frame: 6 × 91</caption>\n",
       "<thead>\n",
       "\t<tr><th></th><th scope=col>SUBJECT_ID</th><th scope=col>HADM_ID</th><th scope=col>ADMI_AGE</th><th scope=col>GENDER</th><th scope=col>Time</th><th scope=col>EXPIRE_FLAG</th><th scope=col>5002.Eosinophils</th><th scope=col>5013.PARAINFLUENZA VIRUS TYPE 2</th><th scope=col>5015.RSV</th><th scope=col>5021.ALB/GLB</th><th scope=col>⋯</th><th scope=col>5867.Hepatitis C Virus Antibody</th><th scope=col>6236.Cholinesterase</th><th scope=col>6261.Cystatin C</th><th scope=col>6316.Monocyte Count</th><th scope=col>6317.Monocytes</th><th scope=col>6318.Eosinophil Count</th><th scope=col>6471.Serum hemolytic index</th><th scope=col>6472.Serum  icteric index</th><th scope=col>6473.Lipase</th><th scope=col>6514.treponema pallidum antibody(ELISA)</th></tr>\n",
       "\t<tr><th></th><th scope=col>&lt;int&gt;</th><th scope=col>&lt;int&gt;</th><th scope=col>&lt;int&gt;</th><th scope=col>&lt;chr&gt;</th><th scope=col>&lt;int&gt;</th><th scope=col>&lt;int&gt;</th><th scope=col>&lt;chr&gt;</th><th scope=col>&lt;chr&gt;</th><th scope=col>&lt;chr&gt;</th><th scope=col>&lt;chr&gt;</th><th scope=col>⋯</th><th scope=col>&lt;chr&gt;</th><th scope=col>&lt;chr&gt;</th><th scope=col>&lt;chr&gt;</th><th scope=col>&lt;chr&gt;</th><th scope=col>&lt;chr&gt;</th><th scope=col>&lt;chr&gt;</th><th scope=col>&lt;chr&gt;</th><th scope=col>&lt;chr&gt;</th><th scope=col>&lt;chr&gt;</th><th scope=col>&lt;chr&gt;</th></tr>\n",
       "</thead>\n",
       "<tbody>\n",
       "\t<tr><th scope=row>1</th><td>628</td><td>100693</td><td>198</td><td>F</td><td>15</td><td>0</td><td>0.1</td><td>Negative</td><td>Negative</td><td>2.02</td><td>⋯</td><td>Negative</td><td>5381</td><td>0.62</td><td>0.14</td><td>1.9 </td><td>0.01</td><td>19 </td><td>1 </td><td>8 </td><td>Negative</td></tr>\n",
       "\t<tr><th scope=row>2</th><td>643</td><td>100659</td><td> 48</td><td>F</td><td>17</td><td>0</td><td>0.6</td><td>Negative</td><td>Positive</td><td>NA  </td><td>⋯</td><td>NA      </td><td>NA  </td><td>NA  </td><td>0.12</td><td>2.0 </td><td>0.03</td><td>NA </td><td>NA</td><td>NA</td><td>NA      </td></tr>\n",
       "\t<tr><th scope=row>3</th><td>670</td><td>100791</td><td>156</td><td>F</td><td>11</td><td>0</td><td>1.1</td><td>Negative</td><td>Negative</td><td>3.71</td><td>⋯</td><td>Negative</td><td>7402</td><td>1.57</td><td>0.15</td><td>3.5 </td><td>0.04</td><td>7  </td><td>1 </td><td>10</td><td>Negative</td></tr>\n",
       "\t<tr><th scope=row>4</th><td>673</td><td>100832</td><td>212</td><td>F</td><td>13</td><td>0</td><td>1.0</td><td>Negative</td><td>Negative</td><td>2.30</td><td>⋯</td><td>Negative</td><td>4628</td><td>0.99</td><td>2.10</td><td>14.9</td><td>0.15</td><td>319</td><td>1 </td><td>47</td><td>Negative</td></tr>\n",
       "\t<tr><th scope=row>5</th><td>677</td><td>100672</td><td> 73</td><td>M</td><td> 9</td><td>1</td><td>1.8</td><td>Negative</td><td>Positive</td><td>1.18</td><td>⋯</td><td>Negative</td><td>4276</td><td>2.88</td><td>1.33</td><td>19.3</td><td>0.12</td><td>43 </td><td>0 </td><td>17</td><td>Negative</td></tr>\n",
       "\t<tr><th scope=row>6</th><td>679</td><td>100691</td><td> 88</td><td>F</td><td>21</td><td>1</td><td>1.1</td><td>NA      </td><td>NA      </td><td>1.77</td><td>⋯</td><td>Negative</td><td>6557</td><td>0.61</td><td>0.04</td><td>1.9 </td><td>0.02</td><td>10 </td><td>2 </td><td>6 </td><td>Negative</td></tr>\n",
       "</tbody>\n",
       "</table>\n"
      ],
      "text/latex": [
       "A data.frame: 6 × 91\n",
       "\\begin{tabular}{r|lllllllllllllllllllll}\n",
       "  & SUBJECT\\_ID & HADM\\_ID & ADMI\\_AGE & GENDER & Time & EXPIRE\\_FLAG & 5002.Eosinophils & 5013.PARAINFLUENZA VIRUS TYPE 2 & 5015.RSV & 5021.ALB/GLB & ⋯ & 5867.Hepatitis C Virus Antibody & 6236.Cholinesterase & 6261.Cystatin C & 6316.Monocyte Count & 6317.Monocytes & 6318.Eosinophil Count & 6471.Serum hemolytic index & 6472.Serum  icteric index & 6473.Lipase & 6514.treponema pallidum antibody(ELISA)\\\\\n",
       "  & <int> & <int> & <int> & <chr> & <int> & <int> & <chr> & <chr> & <chr> & <chr> & ⋯ & <chr> & <chr> & <chr> & <chr> & <chr> & <chr> & <chr> & <chr> & <chr> & <chr>\\\\\n",
       "\\hline\n",
       "\t1 & 628 & 100693 & 198 & F & 15 & 0 & 0.1 & Negative & Negative & 2.02 & ⋯ & Negative & 5381 & 0.62 & 0.14 & 1.9  & 0.01 & 19  & 1  & 8  & Negative\\\\\n",
       "\t2 & 643 & 100659 &  48 & F & 17 & 0 & 0.6 & Negative & Positive & NA   & ⋯ & NA       & NA   & NA   & 0.12 & 2.0  & 0.03 & NA  & NA & NA & NA      \\\\\n",
       "\t3 & 670 & 100791 & 156 & F & 11 & 0 & 1.1 & Negative & Negative & 3.71 & ⋯ & Negative & 7402 & 1.57 & 0.15 & 3.5  & 0.04 & 7   & 1  & 10 & Negative\\\\\n",
       "\t4 & 673 & 100832 & 212 & F & 13 & 0 & 1.0 & Negative & Negative & 2.30 & ⋯ & Negative & 4628 & 0.99 & 2.10 & 14.9 & 0.15 & 319 & 1  & 47 & Negative\\\\\n",
       "\t5 & 677 & 100672 &  73 & M &  9 & 1 & 1.8 & Negative & Positive & 1.18 & ⋯ & Negative & 4276 & 2.88 & 1.33 & 19.3 & 0.12 & 43  & 0  & 17 & Negative\\\\\n",
       "\t6 & 679 & 100691 &  88 & F & 21 & 1 & 1.1 & NA       & NA       & 1.77 & ⋯ & Negative & 6557 & 0.61 & 0.04 & 1.9  & 0.02 & 10  & 2  & 6  & Negative\\\\\n",
       "\\end{tabular}\n"
      ],
      "text/markdown": [
       "\n",
       "A data.frame: 6 × 91\n",
       "\n",
       "| <!--/--> | SUBJECT_ID &lt;int&gt; | HADM_ID &lt;int&gt; | ADMI_AGE &lt;int&gt; | GENDER &lt;chr&gt; | Time &lt;int&gt; | EXPIRE_FLAG &lt;int&gt; | 5002.Eosinophils &lt;chr&gt; | 5013.PARAINFLUENZA VIRUS TYPE 2 &lt;chr&gt; | 5015.RSV &lt;chr&gt; | 5021.ALB/GLB &lt;chr&gt; | ⋯ ⋯ | 5867.Hepatitis C Virus Antibody &lt;chr&gt; | 6236.Cholinesterase &lt;chr&gt; | 6261.Cystatin C &lt;chr&gt; | 6316.Monocyte Count &lt;chr&gt; | 6317.Monocytes &lt;chr&gt; | 6318.Eosinophil Count &lt;chr&gt; | 6471.Serum hemolytic index &lt;chr&gt; | 6472.Serum  icteric index &lt;chr&gt; | 6473.Lipase &lt;chr&gt; | 6514.treponema pallidum antibody(ELISA) &lt;chr&gt; |\n",
       "|---|---|---|---|---|---|---|---|---|---|---|---|---|---|---|---|---|---|---|---|---|---|\n",
       "| 1 | 628 | 100693 | 198 | F | 15 | 0 | 0.1 | Negative | Negative | 2.02 | ⋯ | Negative | 5381 | 0.62 | 0.14 | 1.9  | 0.01 | 19  | 1  | 8  | Negative |\n",
       "| 2 | 643 | 100659 |  48 | F | 17 | 0 | 0.6 | Negative | Positive | NA   | ⋯ | NA       | NA   | NA   | 0.12 | 2.0  | 0.03 | NA  | NA | NA | NA       |\n",
       "| 3 | 670 | 100791 | 156 | F | 11 | 0 | 1.1 | Negative | Negative | 3.71 | ⋯ | Negative | 7402 | 1.57 | 0.15 | 3.5  | 0.04 | 7   | 1  | 10 | Negative |\n",
       "| 4 | 673 | 100832 | 212 | F | 13 | 0 | 1.0 | Negative | Negative | 2.30 | ⋯ | Negative | 4628 | 0.99 | 2.10 | 14.9 | 0.15 | 319 | 1  | 47 | Negative |\n",
       "| 5 | 677 | 100672 |  73 | M |  9 | 1 | 1.8 | Negative | Positive | 1.18 | ⋯ | Negative | 4276 | 2.88 | 1.33 | 19.3 | 0.12 | 43  | 0  | 17 | Negative |\n",
       "| 6 | 679 | 100691 |  88 | F | 21 | 1 | 1.1 | NA       | NA       | 1.77 | ⋯ | Negative | 6557 | 0.61 | 0.04 | 1.9  | 0.02 | 10  | 2  | 6  | Negative |\n",
       "\n"
      ],
      "text/plain": [
       "  SUBJECT_ID HADM_ID ADMI_AGE GENDER Time EXPIRE_FLAG 5002.Eosinophils\n",
       "1 628        100693  198      F      15   0           0.1             \n",
       "2 643        100659   48      F      17   0           0.6             \n",
       "3 670        100791  156      F      11   0           1.1             \n",
       "4 673        100832  212      F      13   0           1.0             \n",
       "5 677        100672   73      M       9   1           1.8             \n",
       "6 679        100691   88      F      21   1           1.1             \n",
       "  5013.PARAINFLUENZA VIRUS TYPE 2 5015.RSV 5021.ALB/GLB ⋯\n",
       "1 Negative                        Negative 2.02         ⋯\n",
       "2 Negative                        Positive NA           ⋯\n",
       "3 Negative                        Negative 3.71         ⋯\n",
       "4 Negative                        Negative 2.30         ⋯\n",
       "5 Negative                        Positive 1.18         ⋯\n",
       "6 NA                              NA       1.77         ⋯\n",
       "  5867.Hepatitis C Virus Antibody 6236.Cholinesterase 6261.Cystatin C\n",
       "1 Negative                        5381                0.62           \n",
       "2 NA                              NA                  NA             \n",
       "3 Negative                        7402                1.57           \n",
       "4 Negative                        4628                0.99           \n",
       "5 Negative                        4276                2.88           \n",
       "6 Negative                        6557                0.61           \n",
       "  6316.Monocyte Count 6317.Monocytes 6318.Eosinophil Count\n",
       "1 0.14                1.9            0.01                 \n",
       "2 0.12                2.0            0.03                 \n",
       "3 0.15                3.5            0.04                 \n",
       "4 2.10                14.9           0.15                 \n",
       "5 1.33                19.3           0.12                 \n",
       "6 0.04                1.9            0.02                 \n",
       "  6471.Serum hemolytic index 6472.Serum  icteric index 6473.Lipase\n",
       "1 19                         1                         8          \n",
       "2 NA                         NA                        NA         \n",
       "3 7                          1                         10         \n",
       "4 319                        1                         47         \n",
       "5 43                         0                         17         \n",
       "6 10                         2                         6          \n",
       "  6514.treponema pallidum antibody(ELISA)\n",
       "1 Negative                               \n",
       "2 NA                                     \n",
       "3 Negative                               \n",
       "4 Negative                               \n",
       "5 Negative                               \n",
       "6 Negative                               "
      ]
     },
     "metadata": {},
     "output_type": "display_data"
    }
   ],
   "source": [
    "colnames(finalData)[7:ncol(finalData)]<-paste(fName$ITEMID,fName$LABEL,sep = \".\")\n",
    "head(finalData)\n",
    "#write.csv(finalData,\n",
    "#         file = \"./Temps/1.labDataSelected.csv\",\n",
    "#         row.names = F,fileEncoding = \"UTF-8\")"
   ]
  },
  {
   "cell_type": "markdown",
   "id": "a4fc6086",
   "metadata": {},
   "source": [
    "## data distribution"
   ]
  },
  {
   "cell_type": "code",
   "execution_count": 3,
   "id": "52b701e1",
   "metadata": {},
   "outputs": [],
   "source": [
    "labdata<-read.csv(\"./Temps/1.labDataSelected.csv\") "
   ]
  },
  {
   "cell_type": "code",
   "execution_count": 4,
   "id": "77d91d2a",
   "metadata": {
    "scrolled": true
   },
   "outputs": [],
   "source": [
    "#factor cols\n",
    "factor_item<-Filter(function(u) any(c('Negative','Positive','Clear','Pasty','Soft','Yellow','type O') %in% u), labdata) #选择包含negative的列\n",
    "factor_item$GENDER <-labdata$GENDER\n",
    "#ransform chrs\n",
    "which.nonnum <- function(x) {\n",
    "  which(is.na(suppressWarnings(as.numeric(as.character(x)))))\n",
    "}\n",
    "colIndex_fac<-which(colnames(labdata) %in% colnames(factor_item))\n",
    "colIndex_num<- which(!colnames(labdata) %in% colnames(factor_item))\n",
    "for (i in colIndex_num) {  #num col but have chr value\n",
    "  labdata[which.nonnum(labdata[,i]),i]<-NA\n",
    "}\n",
    "\n",
    "labdata[,colIndex_num]<-as.data.frame(lapply(labdata[,colIndex_num],as.numeric))\n",
    "labdata[,colIndex_fac]<-as.data.frame(lapply(labdata[,colIndex_fac],as.factor))\n",
    "fac_data<-as.data.frame(lapply(labdata[,colIndex_fac],as.factor))\n",
    "test1<-fac_data %>% select_if(is.numeric)\n",
    "test2<-fac_data %>% select_if(is.character)\n",
    "labdata[,which(colnames(labdata) %in% colnames(test1))]<-test1\n",
    "labdata[,which(colnames(labdata) %in% colnames(test2))]<-test2\n",
    "#write.csv(labdata,\n",
    "#          file = \"./Temps/1.finalData.csv\",\n",
    "#          row.names = F,fileEncoding = \"UTF-8\")#then check by hand"
   ]
  },
  {
   "cell_type": "code",
   "execution_count": 5,
   "id": "0315d300",
   "metadata": {},
   "outputs": [
    {
     "data": {
      "text/html": [
       "<table class=\"dataframe\">\n",
       "<caption>A data.frame: 2 × 91</caption>\n",
       "<thead>\n",
       "\t<tr><th></th><th scope=col>SUBJECT_ID</th><th scope=col>HADM_ID</th><th scope=col>ADMI_AGE</th><th scope=col>GENDER</th><th scope=col>Time</th><th scope=col>EXPIRE_FLAG</th><th scope=col>X5002.Eosinophils</th><th scope=col>X5013.PARAINFLUENZA.VIRUS.TYPE.2</th><th scope=col>X5015.RSV</th><th scope=col>X5021.ALB.GLB</th><th scope=col>⋯</th><th scope=col>X5867.Hepatitis.C.Virus.Antibody</th><th scope=col>X6236.Cholinesterase</th><th scope=col>X6261.Cystatin.C</th><th scope=col>X6316.Monocyte.Count</th><th scope=col>X6317.Monocytes</th><th scope=col>X6318.Eosinophil.Count</th><th scope=col>X6471.Serum.hemolytic.index</th><th scope=col>X6472.Serum..icteric.index</th><th scope=col>X6473.Lipase</th><th scope=col>X6514.treponema.pallidum.antibody.ELISA.</th></tr>\n",
       "\t<tr><th></th><th scope=col>&lt;int&gt;</th><th scope=col>&lt;int&gt;</th><th scope=col>&lt;int&gt;</th><th scope=col>&lt;chr&gt;</th><th scope=col>&lt;int&gt;</th><th scope=col>&lt;int&gt;</th><th scope=col>&lt;dbl&gt;</th><th scope=col>&lt;chr&gt;</th><th scope=col>&lt;chr&gt;</th><th scope=col>&lt;dbl&gt;</th><th scope=col>⋯</th><th scope=col>&lt;chr&gt;</th><th scope=col>&lt;int&gt;</th><th scope=col>&lt;dbl&gt;</th><th scope=col>&lt;dbl&gt;</th><th scope=col>&lt;dbl&gt;</th><th scope=col>&lt;dbl&gt;</th><th scope=col>&lt;int&gt;</th><th scope=col>&lt;int&gt;</th><th scope=col>&lt;int&gt;</th><th scope=col>&lt;chr&gt;</th></tr>\n",
       "</thead>\n",
       "<tbody>\n",
       "\t<tr><th scope=row>1</th><td>628</td><td>100693</td><td>198</td><td>F</td><td>15</td><td>0</td><td>0.1</td><td>Negative</td><td>Negative</td><td>2.02</td><td>⋯</td><td>Negative</td><td>5381</td><td>0.62</td><td>0.14</td><td>1.9</td><td>0.01</td><td>19</td><td> 1</td><td> 8</td><td>Negative</td></tr>\n",
       "\t<tr><th scope=row>2</th><td>643</td><td>100659</td><td> 48</td><td>F</td><td>17</td><td>0</td><td>0.6</td><td>Negative</td><td>Positive</td><td>  NA</td><td>⋯</td><td>NA      </td><td>  NA</td><td>  NA</td><td>0.12</td><td>2.0</td><td>0.03</td><td>NA</td><td>NA</td><td>NA</td><td>NA      </td></tr>\n",
       "</tbody>\n",
       "</table>\n"
      ],
      "text/latex": [
       "A data.frame: 2 × 91\n",
       "\\begin{tabular}{r|lllllllllllllllllllll}\n",
       "  & SUBJECT\\_ID & HADM\\_ID & ADMI\\_AGE & GENDER & Time & EXPIRE\\_FLAG & X5002.Eosinophils & X5013.PARAINFLUENZA.VIRUS.TYPE.2 & X5015.RSV & X5021.ALB.GLB & ⋯ & X5867.Hepatitis.C.Virus.Antibody & X6236.Cholinesterase & X6261.Cystatin.C & X6316.Monocyte.Count & X6317.Monocytes & X6318.Eosinophil.Count & X6471.Serum.hemolytic.index & X6472.Serum..icteric.index & X6473.Lipase & X6514.treponema.pallidum.antibody.ELISA.\\\\\n",
       "  & <int> & <int> & <int> & <chr> & <int> & <int> & <dbl> & <chr> & <chr> & <dbl> & ⋯ & <chr> & <int> & <dbl> & <dbl> & <dbl> & <dbl> & <int> & <int> & <int> & <chr>\\\\\n",
       "\\hline\n",
       "\t1 & 628 & 100693 & 198 & F & 15 & 0 & 0.1 & Negative & Negative & 2.02 & ⋯ & Negative & 5381 & 0.62 & 0.14 & 1.9 & 0.01 & 19 &  1 &  8 & Negative\\\\\n",
       "\t2 & 643 & 100659 &  48 & F & 17 & 0 & 0.6 & Negative & Positive &   NA & ⋯ & NA       &   NA &   NA & 0.12 & 2.0 & 0.03 & NA & NA & NA & NA      \\\\\n",
       "\\end{tabular}\n"
      ],
      "text/markdown": [
       "\n",
       "A data.frame: 2 × 91\n",
       "\n",
       "| <!--/--> | SUBJECT_ID &lt;int&gt; | HADM_ID &lt;int&gt; | ADMI_AGE &lt;int&gt; | GENDER &lt;chr&gt; | Time &lt;int&gt; | EXPIRE_FLAG &lt;int&gt; | X5002.Eosinophils &lt;dbl&gt; | X5013.PARAINFLUENZA.VIRUS.TYPE.2 &lt;chr&gt; | X5015.RSV &lt;chr&gt; | X5021.ALB.GLB &lt;dbl&gt; | ⋯ ⋯ | X5867.Hepatitis.C.Virus.Antibody &lt;chr&gt; | X6236.Cholinesterase &lt;int&gt; | X6261.Cystatin.C &lt;dbl&gt; | X6316.Monocyte.Count &lt;dbl&gt; | X6317.Monocytes &lt;dbl&gt; | X6318.Eosinophil.Count &lt;dbl&gt; | X6471.Serum.hemolytic.index &lt;int&gt; | X6472.Serum..icteric.index &lt;int&gt; | X6473.Lipase &lt;int&gt; | X6514.treponema.pallidum.antibody.ELISA. &lt;chr&gt; |\n",
       "|---|---|---|---|---|---|---|---|---|---|---|---|---|---|---|---|---|---|---|---|---|---|\n",
       "| 1 | 628 | 100693 | 198 | F | 15 | 0 | 0.1 | Negative | Negative | 2.02 | ⋯ | Negative | 5381 | 0.62 | 0.14 | 1.9 | 0.01 | 19 |  1 |  8 | Negative |\n",
       "| 2 | 643 | 100659 |  48 | F | 17 | 0 | 0.6 | Negative | Positive |   NA | ⋯ | NA       |   NA |   NA | 0.12 | 2.0 | 0.03 | NA | NA | NA | NA       |\n",
       "\n"
      ],
      "text/plain": [
       "  SUBJECT_ID HADM_ID ADMI_AGE GENDER Time EXPIRE_FLAG X5002.Eosinophils\n",
       "1 628        100693  198      F      15   0           0.1              \n",
       "2 643        100659   48      F      17   0           0.6              \n",
       "  X5013.PARAINFLUENZA.VIRUS.TYPE.2 X5015.RSV X5021.ALB.GLB ⋯\n",
       "1 Negative                         Negative  2.02          ⋯\n",
       "2 Negative                         Positive    NA          ⋯\n",
       "  X5867.Hepatitis.C.Virus.Antibody X6236.Cholinesterase X6261.Cystatin.C\n",
       "1 Negative                         5381                 0.62            \n",
       "2 NA                                 NA                   NA            \n",
       "  X6316.Monocyte.Count X6317.Monocytes X6318.Eosinophil.Count\n",
       "1 0.14                 1.9             0.01                  \n",
       "2 0.12                 2.0             0.03                  \n",
       "  X6471.Serum.hemolytic.index X6472.Serum..icteric.index X6473.Lipase\n",
       "1 19                           1                          8          \n",
       "2 NA                          NA                         NA          \n",
       "  X6514.treponema.pallidum.antibody.ELISA.\n",
       "1 Negative                                \n",
       "2 NA                                      "
      ]
     },
     "metadata": {},
     "output_type": "display_data"
    }
   ],
   "source": [
    "data<-read.csv(\"./Temps/1.finalData.csv\") \n",
    "head(data,2)"
   ]
  },
  {
   "cell_type": "code",
   "execution_count": 6,
   "id": "dd310a3d",
   "metadata": {},
   "outputs": [
    {
     "data": {
      "text/html": [
       "15"
      ],
      "text/latex": [
       "15"
      ],
      "text/markdown": [
       "15"
      ],
      "text/plain": [
       "[1] 15"
      ]
     },
     "metadata": {},
     "output_type": "display_data"
    },
    {
     "data": {
      "text/html": [
       "70"
      ],
      "text/latex": [
       "70"
      ],
      "text/markdown": [
       "70"
      ],
      "text/plain": [
       "[1] 70"
      ]
     },
     "metadata": {},
     "output_type": "display_data"
    }
   ],
   "source": [
    "test<-data %>% select_if(is.character)\n",
    "colIndex_fac<-which(colnames(data) %in% colnames(test))\n",
    "fac_data<-as.data.frame(lapply(data[,colIndex_fac],as.factor))\n",
    "fac_data<-fac_data[,-1]\n",
    "num_data<-data[,-colIndex_fac]\n",
    "num_data<-num_data[,-(1:5)]\n",
    "length(fac_data)\n",
    "length(num_data)\n",
    "Cox_sx<-cbind(SUBJECT_ID=data$SUBJECT_ID,ADMI_AGE=data$ADMI_AGE,\n",
    "              GENDER=data$GENDER,Time=data$Time,EXPIRE_FLAG=data$EXPIRE_FLAG,\n",
    "              fac_data,num_data)\n",
    "#write.csv(Cox_sx,\"./Results/1.dataBeforeCox.csv\",row.names = F)"
   ]
  },
  {
   "cell_type": "code",
   "execution_count": 12,
   "id": "4142b5f4",
   "metadata": {},
   "outputs": [
    {
     "data": {
      "text/plain": [
       " GENDER  X5013.PARAINFLUENZA.VIRUS.TYPE.2                 X5015.RSV  \n",
       " F:228   Negative:463                     Mycoplasma pneumoniae:  1  \n",
       " M:310   NA's    : 75                     Negative             :393  \n",
       "                                          Positive             : 72  \n",
       "                                          NA's                 : 72  \n",
       "                                                                     \n",
       "                                                                     \n",
       "                                                                     \n",
       " X5205.HIV.Antibody X5333.starch.granules X5370.WBC.pus.cell   X5371.mucus \n",
       " Negative:453       Few     :  0          0-1     :  1       Negative:451  \n",
       " NA's    : 85       Negative:453          0-2     :  1       Positive:  2  \n",
       "                    NA's    : 85          2-4     :  1       NA's    : 85  \n",
       "                                          6-8     :  0                     \n",
       "                                          Negative:450                     \n",
       "                                          NA's    : 85                     \n",
       "                                                                           \n",
       " X5378.Other.cells    X5379.RBC     X5407.Blood  X5409.Hardness\n",
       " Negative:462      Negative:453   Negative:453   Pasty:389     \n",
       " Normal  :  1      NA's    : 85   NA's    : 85   Soft : 61     \n",
       " NA's    : 75                                    Thin :  3     \n",
       "                                                 NA's : 85     \n",
       "                                                               \n",
       "                                                               \n",
       "                                                               \n",
       "       X5412.Color    X5416.fat.drop X5866.HBV.pre.S1.antigen\n",
       " Yellow      :399   Few      :  3    Negative:468            \n",
       " Colorless   : 40   Negative :449    NA's    : 70            \n",
       " Yellow-green: 11   Positive+:  1                            \n",
       " Red         :  7   NA's     : 85                            \n",
       " Brown       :  3                                            \n",
       " (Other)     :  3                                            \n",
       " NA's        : 75                                            \n",
       " X5867.Hepatitis.C.Virus.Antibody X6514.treponema.pallidum.antibody.ELISA.\n",
       " Negative:457                     Negative     :449                       \n",
       " Positive:  2                     Positive     :  5                       \n",
       " NA's    : 79                     Weak Positive:  3                       \n",
       "                                  NA's         : 81                       \n",
       "                                                                          \n",
       "                                                                          \n",
       "                                                                          \n",
       "  EXPIRE_FLAG\n",
       " Min.   :0   \n",
       " 1st Qu.:0   \n",
       " Median :0   \n",
       " Mean   :0   \n",
       " 3rd Qu.:0   \n",
       " Max.   :0   \n",
       "             "
      ]
     },
     "metadata": {},
     "output_type": "display_data"
    }
   ],
   "source": [
    "labdata[,colIndex_num]<-as.data.frame(lapply(labdata[,colIndex_num],as.numeric))\n",
    "labdata[,colIndex_fac]<-as.data.frame(lapply(labdata[,colIndex_fac],as.factor))\n",
    "fac_data<-as.data.frame(lapply(labdata[,colIndex_fac],as.factor))\n",
    "test1<-labdata %>% select_if(is.numeric)\n",
    "test2<-labdata %>% select_if(is.factor)\n",
    "test2$EXPIRE_FLAG<-labdata$EXPIRE_FLAG\n",
    "##alive data\n",
    "a<-summary(test1[which(test1$EXPIRE_FLAG==0),])\n",
    "a<-as.matrix.data.frame(a,nrow=7,ncol=75)\n",
    "colnames(a)<-colnames(test1)\n",
    "rownames(a)<-c(\"Min\", \"1st Qu\", \"Median\", \"Mean\", \"3rd Qu\", \"Max\",\"NA\")\n",
    "a<-t(a)\n",
    "summary(test2[which(test1$EXPIRE_FLAG==0),])\n",
    "write.csv(a,\"./Results/1.1NumFeatureDistribution0.csv\")"
   ]
  },
  {
   "cell_type": "code",
   "execution_count": 13,
   "id": "f8a69f82",
   "metadata": {},
   "outputs": [
    {
     "data": {
      "text/plain": [
       " GENDER X5013.PARAINFLUENZA.VIRUS.TYPE.2                 X5015.RSV \n",
       " F:38   Negative:79                      Mycoplasma pneumoniae: 0  \n",
       " M:57   NA's    :16                      Negative             :70  \n",
       "                                         Positive             : 9  \n",
       "                                         NA's                 :16  \n",
       "                                                                   \n",
       "                                                                   \n",
       "                                                                   \n",
       " X5205.HIV.Antibody X5333.starch.granules X5370.WBC.pus.cell   X5371.mucus\n",
       " Negative:73        Few     : 1           0-1     : 0        Negative:71  \n",
       " NA's    :22        Negative:70           0-2     : 0        Positive: 0  \n",
       "                    NA's    :24           2-4     : 0        NA's    :24  \n",
       "                                          6-8     : 1                     \n",
       "                                          Negative:70                     \n",
       "                                          NA's    :24                     \n",
       "                                                                          \n",
       " X5378.Other.cells    X5379.RBC    X5407.Blood X5409.Hardness       X5412.Color\n",
       " Negative:73       Negative:71   Negative:71   Pasty:51       Yellow      :65  \n",
       " Normal  : 1       NA's    :24   NA's    :24   Soft :20       Red         : 4  \n",
       " NA's    :21                                   Thin : 0       Colorless   : 3  \n",
       "                                               NA's :24       Green       : 1  \n",
       "                                                              Yellow-green: 1  \n",
       "                                                              (Other)     : 0  \n",
       "                                                              NA's        :21  \n",
       "   X5416.fat.drop X5866.HBV.pre.S1.antigen X5867.Hepatitis.C.Virus.Antibody\n",
       " Few      : 1     Negative:74              Negative:73                     \n",
       " Negative :70     NA's    :21              Positive: 0                     \n",
       " Positive+: 0                              NA's    :22                     \n",
       " NA's     :24                                                              \n",
       "                                                                           \n",
       "                                                                           \n",
       "                                                                           \n",
       " X6514.treponema.pallidum.antibody.ELISA.  EXPIRE_FLAG\n",
       " Negative     :72                         Min.   :1   \n",
       " Positive     : 1                         1st Qu.:1   \n",
       " Weak Positive: 0                         Median :1   \n",
       " NA's         :22                         Mean   :1   \n",
       "                                          3rd Qu.:1   \n",
       "                                          Max.   :1   \n",
       "                                                      "
      ]
     },
     "metadata": {},
     "output_type": "display_data"
    }
   ],
   "source": [
    "##death data\n",
    "b<-summary(test1[which(test1$EXPIRE_FLAG==1),])\n",
    "b<-as.matrix.data.frame(b,nrow=7)\n",
    "colnames(b)<-colnames(test1)\n",
    "rownames(b)<-c(\"Min\", \"1st Qu\", \"Median\", \"Mean\", \"3rd Qu\", \"Max\",\"NA\")\n",
    "b<-t(b)\n",
    "summary(test2[which(test1$EXPIRE_FLAG==1),])\n",
    "write.csv(b,\"./Results/1.1NumFeatureDistribution1.csv\")"
   ]
  },
  {
   "cell_type": "code",
   "execution_count": null,
   "id": "8a54f231",
   "metadata": {},
   "outputs": [],
   "source": []
  },
  {
   "cell_type": "code",
   "execution_count": null,
   "id": "0f2fb252",
   "metadata": {},
   "outputs": [],
   "source": []
  }
 ],
 "metadata": {
  "kernelspec": {
   "display_name": "R",
   "language": "R",
   "name": "ir"
  },
  "language_info": {
   "codemirror_mode": "r",
   "file_extension": ".r",
   "mimetype": "text/x-r-source",
   "name": "R",
   "pygments_lexer": "r",
   "version": "4.2.1"
  }
 },
 "nbformat": 4,
 "nbformat_minor": 5
}
