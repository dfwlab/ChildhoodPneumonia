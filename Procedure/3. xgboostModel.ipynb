{
 "cells": [
  {
   "cell_type": "code",
   "execution_count": 1,
   "id": "bce00173",
   "metadata": {
    "collapsed": true
   },
   "outputs": [
    {
     "name": "stderr",
     "output_type": "stream",
     "text": [
      "Loading required package: fields\n",
      "\n",
      "Loading required package: spam\n",
      "\n",
      "Spam version 2.9-1 (2022-08-07) is loaded.\n",
      "Type 'help( Spam)' or 'demo( spam)' for a short introduction \n",
      "and overview of this package.\n",
      "Help for individual functions is also obtained by adding the\n",
      "suffix '.spam' to the function name, e.g. 'help( chol.spam)'.\n",
      "\n",
      "\n",
      "Attaching package: 'spam'\n",
      "\n",
      "\n",
      "The following object is masked from 'package:Matrix':\n",
      "\n",
      "    det\n",
      "\n",
      "\n",
      "The following objects are masked from 'package:base':\n",
      "\n",
      "    backsolve, forwardsolve\n",
      "\n",
      "\n",
      "Loading required package: viridis\n",
      "\n",
      "Loading required package: viridisLite\n",
      "\n",
      "\n",
      "Try help(fields) to get started.\n",
      "\n",
      "Loading required package: boot\n",
      "\n",
      "Loading required package: CircStats\n",
      "\n",
      "Loading required package: MASS\n",
      "\n",
      "Loading required package: dtw\n",
      "\n",
      "Loading required package: proxy\n",
      "\n",
      "\n",
      "Attaching package: 'proxy'\n",
      "\n",
      "\n",
      "The following object is masked from 'package:spam':\n",
      "\n",
      "    as.matrix\n",
      "\n",
      "\n",
      "The following object is masked from 'package:Matrix':\n",
      "\n",
      "    as.matrix\n",
      "\n",
      "\n",
      "The following objects are masked from 'package:stats':\n",
      "\n",
      "    as.dist, dist\n",
      "\n",
      "\n",
      "The following object is masked from 'package:base':\n",
      "\n",
      "    as.matrix\n",
      "\n",
      "\n",
      "Loaded dtw v1.23-1. See ?dtw for help, citation(\"dtw\") for use in publication.\n",
      "\n",
      "\n",
      "Registered S3 method overwritten by 'pROC':\n",
      "  method    from        \n",
      "  lines.roc verification\n",
      "\n",
      "Type 'citation(\"pROC\")' for a citation.\n",
      "\n",
      "\n",
      "Attaching package: 'pROC'\n",
      "\n",
      "\n",
      "The following object is masked from 'package:verification':\n",
      "\n",
      "    lines.roc\n",
      "\n",
      "\n",
      "The following objects are masked from 'package:stats':\n",
      "\n",
      "    cov, smooth, var\n",
      "\n",
      "\n",
      "Loading required package: lattice\n",
      "\n",
      "\n",
      "Attaching package: 'lattice'\n",
      "\n",
      "\n",
      "The following object is masked from 'package:boot':\n",
      "\n",
      "    melanoma\n",
      "\n",
      "\n",
      "── \u001b[1mAttaching packages\u001b[22m ─────────────────────────────────────── tidyverse 1.3.2 ──\n",
      "\u001b[32m✔\u001b[39m \u001b[34mtibble \u001b[39m 3.1.8      \u001b[32m✔\u001b[39m \u001b[34mdplyr  \u001b[39m 1.0.10\n",
      "\u001b[32m✔\u001b[39m \u001b[34mtidyr  \u001b[39m 1.2.1      \u001b[32m✔\u001b[39m \u001b[34mstringr\u001b[39m 1.4.1 \n",
      "\u001b[32m✔\u001b[39m \u001b[34mreadr  \u001b[39m 2.1.2      \u001b[32m✔\u001b[39m \u001b[34mforcats\u001b[39m 0.5.2 \n",
      "\u001b[32m✔\u001b[39m \u001b[34mpurrr  \u001b[39m 0.3.4      \n",
      "── \u001b[1mConflicts\u001b[22m ────────────────────────────────────────── tidyverse_conflicts() ──\n",
      "\u001b[31m✖\u001b[39m \u001b[34mtidyr\u001b[39m::\u001b[32mexpand()\u001b[39m masks \u001b[34mMatrix\u001b[39m::expand()\n",
      "\u001b[31m✖\u001b[39m \u001b[34mdplyr\u001b[39m::\u001b[32mfilter()\u001b[39m masks \u001b[34mstats\u001b[39m::filter()\n",
      "\u001b[31m✖\u001b[39m \u001b[34mdplyr\u001b[39m::\u001b[32mlag()\u001b[39m    masks \u001b[34mstats\u001b[39m::lag()\n",
      "\u001b[31m✖\u001b[39m \u001b[34mpurrr\u001b[39m::\u001b[32mlift()\u001b[39m   masks \u001b[34mcaret\u001b[39m::lift()\n",
      "\u001b[31m✖\u001b[39m \u001b[34mtidyr\u001b[39m::\u001b[32mpack()\u001b[39m   masks \u001b[34mMatrix\u001b[39m::pack()\n",
      "\u001b[31m✖\u001b[39m \u001b[34mdplyr\u001b[39m::\u001b[32mselect()\u001b[39m masks \u001b[34mMASS\u001b[39m::select()\n",
      "\u001b[31m✖\u001b[39m \u001b[34mdplyr\u001b[39m::\u001b[32mslice()\u001b[39m  masks \u001b[34mxgboost\u001b[39m::slice()\n",
      "\u001b[31m✖\u001b[39m \u001b[34mtidyr\u001b[39m::\u001b[32munpack()\u001b[39m masks \u001b[34mMatrix\u001b[39m::unpack()\n",
      "Warning message:\n",
      "\"package 'pacman' was built under R version 4.2.2\"\n"
     ]
    }
   ],
   "source": [
    "setwd(\"E:/notebook/childhood_pneumonia\")\n",
    "library(xgboost)\n",
    "library(Matrix)\n",
    "library(verification)\n",
    "library(pROC)\n",
    "library(ggplot2)\n",
    "library(ggpubr)\n",
    "library(caret)\n",
    "library(DiagrammeR)\n",
    "library(tidyverse)\n",
    "library(pacman)"
   ]
  },
  {
   "cell_type": "code",
   "execution_count": 2,
   "id": "9bdc1ef3",
   "metadata": {},
   "outputs": [],
   "source": [
    "data <- read.csv(\"./Results/2.model_data.csv\",stringsAsFactors = F)\n",
    "dead <- data[which(data$survival  == 1),]\n",
    "alive <- data[which(data$survival  == 0),]"
   ]
  },
  {
   "cell_type": "markdown",
   "id": "c2b92817",
   "metadata": {},
   "source": [
    "## split train & test"
   ]
  },
  {
   "cell_type": "code",
   "execution_count": 3,
   "id": "2e97f355",
   "metadata": {},
   "outputs": [],
   "source": [
    "set.seed(1)\n",
    "dead_random <-sample(1:95,76)\n",
    "alive_random <-sample(1:536,429)\n",
    "\n",
    "train <- rbind(dead[dead_random,],alive[alive_random,])\n",
    "test <- rbind(dead[-dead_random,],alive[-alive_random,])"
   ]
  },
  {
   "cell_type": "code",
   "execution_count": 4,
   "id": "89d04875",
   "metadata": {},
   "outputs": [],
   "source": [
    "train_data <- as.matrix(train[,-(1:2)]) \n",
    "test_data <- as.matrix(test[,-(1:2)])## Xgboost training\n",
    "train_label <- train$survival  ### sample clinical information\n",
    "traindata1 <- data.matrix(train[,-(1:2)]) \n",
    "traindata2 <- Matrix(traindata1,sparse=T)  ## \n",
    "traindata3 <- factor(train_label,levels = c(0,1))   ### \n",
    "traindata4 <- list(data=traindata2,label=train_label)  ### candidate training data\n",
    "\n",
    "dtrain <- xgb.DMatrix(data = traindata4$data, label = traindata4$label)"
   ]
  },
  {
   "cell_type": "markdown",
   "id": "a1397e52",
   "metadata": {},
   "source": [
    "## best param"
   ]
  },
  {
   "cell_type": "code",
   "execution_count": 5,
   "id": "b4a8c895",
   "metadata": {},
   "outputs": [
    {
     "data": {
      "text/html": [
       "<style>\n",
       ".list-inline {list-style: none; margin:0; padding: 0}\n",
       ".list-inline>li {display: inline-block}\n",
       ".list-inline>li:not(:last-child)::after {content: \"\\00b7\"; padding: 0 .5ex}\n",
       "</style>\n",
       "<ol class=list-inline><li>540</li><li>5</li></ol>\n"
      ],
      "text/latex": [
       "\\begin{enumerate*}\n",
       "\\item 540\n",
       "\\item 5\n",
       "\\end{enumerate*}\n"
      ],
      "text/markdown": [
       "1. 540\n",
       "2. 5\n",
       "\n",
       "\n"
      ],
      "text/plain": [
       "[1] 540   5"
      ]
     },
     "metadata": {},
     "output_type": "display_data"
    }
   ],
   "source": [
    "grd <- expand.grid(\n",
    "  eta = seq(0.001, 0.2, length.out = 5),\n",
    "  max_depth = seq(2L, 5L, by = 1),\n",
    "  min_child_weight = seq(1, 25, length.out = 3),\n",
    "  subsample = c(0.2,0.6,0.8),\n",
    "  colsample_bytree=c(0.25, 0.5, 1))\n",
    "\n",
    "dim(grd)"
   ]
  },
  {
   "cell_type": "code",
   "execution_count": 6,
   "id": "19cc0054",
   "metadata": {},
   "outputs": [],
   "source": [
    "grd_out <- apply(grd, 1, function(par){\n",
    "  \n",
    "  par <- append(par, list(objective = \"binary:logistic\",eval_metric = \"logloss\"))\n",
    "  mdl <- xgboost(data = dtrain, params = par, nrounds = 100, early_stopping_rounds = 5, maximize = F, verbose = 0)\n",
    "  lst <- data.frame(par, score = mdl$best_score)\n",
    "  \n",
    "  return(lst)\n",
    "})\n"
   ]
  },
  {
   "cell_type": "code",
   "execution_count": 7,
   "id": "a661df0a",
   "metadata": {},
   "outputs": [
    {
     "data": {
      "text/html": [
       "<table class=\"dataframe\">\n",
       "<caption>A data.frame: 1 × 8</caption>\n",
       "<thead>\n",
       "\t<tr><th></th><th scope=col>eta</th><th scope=col>max_depth</th><th scope=col>min_child_weight</th><th scope=col>subsample</th><th scope=col>colsample_bytree</th><th scope=col>objective</th><th scope=col>eval_metric</th><th scope=col>score</th></tr>\n",
       "\t<tr><th></th><th scope=col>&lt;dbl&gt;</th><th scope=col>&lt;dbl&gt;</th><th scope=col>&lt;dbl&gt;</th><th scope=col>&lt;dbl&gt;</th><th scope=col>&lt;dbl&gt;</th><th scope=col>&lt;chr&gt;</th><th scope=col>&lt;chr&gt;</th><th scope=col>&lt;dbl&gt;</th></tr>\n",
       "</thead>\n",
       "<tbody>\n",
       "\t<tr><th scope=row>1</th><td>0.2</td><td>5</td><td>1</td><td>0.8</td><td>1</td><td>binary:logistic</td><td>logloss</td><td>0.06350403</td></tr>\n",
       "</tbody>\n",
       "</table>\n"
      ],
      "text/latex": [
       "A data.frame: 1 × 8\n",
       "\\begin{tabular}{r|llllllll}\n",
       "  & eta & max\\_depth & min\\_child\\_weight & subsample & colsample\\_bytree & objective & eval\\_metric & score\\\\\n",
       "  & <dbl> & <dbl> & <dbl> & <dbl> & <dbl> & <chr> & <chr> & <dbl>\\\\\n",
       "\\hline\n",
       "\t1 & 0.2 & 5 & 1 & 0.8 & 1 & binary:logistic & logloss & 0.06350403\\\\\n",
       "\\end{tabular}\n"
      ],
      "text/markdown": [
       "\n",
       "A data.frame: 1 × 8\n",
       "\n",
       "| <!--/--> | eta &lt;dbl&gt; | max_depth &lt;dbl&gt; | min_child_weight &lt;dbl&gt; | subsample &lt;dbl&gt; | colsample_bytree &lt;dbl&gt; | objective &lt;chr&gt; | eval_metric &lt;chr&gt; | score &lt;dbl&gt; |\n",
       "|---|---|---|---|---|---|---|---|---|\n",
       "| 1 | 0.2 | 5 | 1 | 0.8 | 1 | binary:logistic | logloss | 0.06350403 |\n",
       "\n"
      ],
      "text/plain": [
       "  eta max_depth min_child_weight subsample colsample_bytree objective      \n",
       "1 0.2 5         1                0.8       1                binary:logistic\n",
       "  eval_metric score     \n",
       "1 logloss     0.06350403"
      ]
     },
     "metadata": {},
     "output_type": "display_data"
    }
   ],
   "source": [
    "grd_out <- do.call(rbind, grd_out)\n",
    "\n",
    "best_par <- grd_out %>%\n",
    "  data.frame() %>%\n",
    "  arrange(score) %>%\n",
    "  .[1,]\n",
    "best_par"
   ]
  },
  {
   "cell_type": "code",
   "execution_count": 5,
   "id": "41946770",
   "metadata": {},
   "outputs": [],
   "source": [
    "best_params<-as.list(c(eta=0.2,max_depth=5,min_child_weight=1,\n",
    "                subsample=0.8,colsample_bytree=1,\n",
    "                objective=\"binary:logistic\",eval_metric=\"logloss\"))"
   ]
  },
  {
   "cell_type": "code",
   "execution_count": 6,
   "id": "ce48ce16",
   "metadata": {},
   "outputs": [
    {
     "data": {
      "text/html": [
       "14"
      ],
      "text/latex": [
       "14"
      ],
      "text/markdown": [
       "14"
      ],
      "text/plain": [
       "[1] 14"
      ]
     },
     "metadata": {},
     "output_type": "display_data"
    }
   ],
   "source": [
    "set.seed(978)\n",
    "xgbcv <- xgb.cv(params = best_params,\n",
    "                data = dtrain,\n",
    "                nround = 100,\n",
    "                nfold = 5,\n",
    "                prediction = TRUE,\n",
    "                early_stopping_rounds = 5,\n",
    "                verbose = 0,\n",
    "                maximize = F)\n",
    "\n",
    "nround = xgbcv$best_iteration\n",
    "nround"
   ]
  },
  {
   "cell_type": "markdown",
   "id": "007b7caf",
   "metadata": {},
   "source": [
    "## Final model"
   ]
  },
  {
   "cell_type": "code",
   "execution_count": 7,
   "id": "a8776b73",
   "metadata": {},
   "outputs": [],
   "source": [
    "#final model\n",
    "set.seed(978)\n",
    "mxgb5m <- xgboost(data = dtrain, \n",
    "               params = best_params, \n",
    "               maximize = F, \n",
    "               nrounds = nround,\n",
    "               early_stopping_rounds = 5, \n",
    "               verbose = 0)"
   ]
  },
  {
   "cell_type": "code",
   "execution_count": 8,
   "id": "2a0c8cf2",
   "metadata": {},
   "outputs": [
    {
     "data": {
      "image/png": "[encoded data removed]",
      "text/plain": [
       "plot without title"
      ]
     },
     "metadata": {
      "image/png": {
       "height": 420,
       "width": 420
      }
     },
     "output_type": "display_data"
    }
   ],
   "source": [
    "#importance\n",
    "importance_matrix <- xgb.importance(colnames(dtrain), model = mxgb5m)\n",
    "xgb.plot.importance(importance_matrix, rel_to_first = TRUE, xlab = \"Importance\")"
   ]
  },
  {
   "cell_type": "code",
   "execution_count": 9,
   "id": "218b6c1b",
   "metadata": {},
   "outputs": [
    {
     "name": "stderr",
     "output_type": "stream",
     "text": [
      "Setting levels: control = 0, case = 1\n",
      "\n",
      "Setting direction: controls < cases\n",
      "\n"
     ]
    },
    {
     "data": {
      "text/plain": [
       "\n",
       "Call:\n",
       "roc.default(response = train_label, predictor = train_pred)\n",
       "\n",
       "Data: train_pred in 429 controls (train_label 0) < 76 cases (train_label 1).\n",
       "Area under the curve: 0.9425"
      ]
     },
     "metadata": {},
     "output_type": "display_data"
    },
    {
     "name": "stderr",
     "output_type": "stream",
     "text": [
      "Setting levels: control = 0, case = 1\n",
      "\n",
      "Setting direction: controls < cases\n",
      "\n"
     ]
    },
    {
     "data": {
      "text/plain": [
       "\n",
       "Call:\n",
       "roc.default(response = test$survival, predictor = test_pred)\n",
       "\n",
       "Data: test_pred in 107 controls (test$survival 0) < 19 cases (test$survival 1).\n",
       "Area under the curve: 0.8763"
      ]
     },
     "metadata": {},
     "output_type": "display_data"
    }
   ],
   "source": [
    "train_pred <- predict(mxgb5m,train_data,type = \"response\")\n",
    "roc(train_label,train_pred)\n",
    "test_pred <- predict(mxgb5m,test_data,type = \"response\")\n",
    "roc(test$survival,test_pred)"
   ]
  },
  {
   "cell_type": "code",
   "execution_count": 10,
   "id": "84a8e529",
   "metadata": {},
   "outputs": [
    {
     "name": "stderr",
     "output_type": "stream",
     "text": [
      "Setting levels: control = 0, case = 1\n",
      "\n",
      "Setting direction: controls < cases\n",
      "\n"
     ]
    },
    {
     "data": {
      "image/png": "[encoded data removed]",
      "text/plain": [
       "plot without title"
      ]
     },
     "metadata": {
      "image/png": {
       "height": 420,
       "width": 420
      }
     },
     "output_type": "display_data"
    }
   ],
   "source": [
    "aa<-roc(train_label,train_pred, plot=TRUE, print.thres=TRUE, ci=TRUE,\n",
    "        print.auc=TRUE,legacy.axes = TRUE,col = \"#1687A7\")#cutoff=0.206"
   ]
  },
  {
   "cell_type": "code",
   "execution_count": 12,
   "id": "358a184d",
   "metadata": {},
   "outputs": [
    {
     "name": "stderr",
     "output_type": "stream",
     "text": [
      "Setting levels: control = 0, case = 1\n",
      "\n",
      "Setting direction: controls < cases\n",
      "\n"
     ]
    },
    {
     "data": {
      "image/png": "[encoded data removed]",
      "text/plain": [
       "plot without title"
      ]
     },
     "metadata": {
      "image/png": {
       "height": 420,
       "width": 420
      }
     },
     "output_type": "display_data"
    }
   ],
   "source": [
    "bb<-roc(test$survival,test_pred, plot=TRUE, print.thres=TRUE, ci=TRUE,\n",
    "        print.auc=TRUE,legacy.axes = TRUE,col = \"#1687A7\")\n",
    "sp.obj <- ci.sp(bb, sensitivities=seq(0, 1, .01), boot.n=100) \n",
    "plot(sp.obj, type=\"shape\", col=\"gray60\") "
   ]
  },
  {
   "cell_type": "markdown",
   "id": "a5cf6e04",
   "metadata": {},
   "source": [
    "## Train cohort"
   ]
  },
  {
   "cell_type": "code",
   "execution_count": 15,
   "id": "77438d92",
   "metadata": {
    "collapsed": true
   },
   "outputs": [
    {
     "name": "stderr",
     "output_type": "stream",
     "text": [
      "\n",
      "Attaching package: 'survival'\n",
      "\n",
      "\n",
      "The following object is masked from 'package:caret':\n",
      "\n",
      "    cluster\n",
      "\n",
      "\n",
      "The following object is masked from 'package:boot':\n",
      "\n",
      "    aml\n",
      "\n",
      "\n",
      "\n",
      "Attaching package: 'survminer'\n",
      "\n",
      "\n",
      "The following object is masked from 'package:survival':\n",
      "\n",
      "    myeloma\n",
      "\n",
      "\n",
      "\n",
      "Attaching package: 'cowplot'\n",
      "\n",
      "\n",
      "The following object is masked from 'package:ggpubr':\n",
      "\n",
      "    get_legend\n",
      "\n",
      "\n"
     ]
    }
   ],
   "source": [
    "library(survival)\n",
    "library(survminer)\n",
    "library(pheatmap)\n",
    "library(grid)\n",
    "library(cowplot)"
   ]
  },
  {
   "cell_type": "markdown",
   "id": "2bd1b0cd",
   "metadata": {},
   "source": [
    "### KM"
   ]
  },
  {
   "cell_type": "code",
   "execution_count": 14,
   "id": "29c3c6a2",
   "metadata": {},
   "outputs": [
    {
     "data": {
      "text/plain": [
       "Call:\n",
       "survdiff(formula = Surv(train$Time, train$survival) ~ train$fenzu, \n",
       "    data = train)\n",
       "\n",
       "                   N Observed Expected (O-E)^2/E (O-E)^2/V\n",
       "train$fenzu=High 126       66     17.4     135.1       179\n",
       "train$fenzu=Low  379       10     58.6      40.3       179\n",
       "\n",
       " Chisq= 179  on 1 degrees of freedom, p= <2e-16 "
      ]
     },
     "metadata": {},
     "output_type": "display_data"
    },
    {
     "data": {
      "image/png": "[encoded data removed]",
      "text/plain": [
       "plot without title"
      ]
     },
     "metadata": {
      "image/png": {
       "height": 420,
       "width": 420
      }
     },
     "output_type": "display_data"
    }
   ],
   "source": [
    "train$fenzu<-NA\n",
    "train$fenzu[which(train_pred>0.206)]<-\"High\"\n",
    "train$fenzu[which(train_pred<=0.206)]<-\"Low\"\n",
    "blue <- \"#003399\"\n",
    "red <- \"#BC3C28\"\n",
    "train_surv <- survfit(Surv(train$Time,train$survival)~train$fenzu,data = train)\n",
    "survdiff(Surv(train$Time,train$survival)~train$fenzu,data = train)\n",
    "ggsurvplot(train_surv,\n",
    "           pval = TRUE,#P-value\n",
    "           risk.table = TRUE, # Add risk table\n",
    "           risk.table.col = \"strata\", # Change risk table color by groups\n",
    "           palette = c(red,blue),\n",
    "           conf.int = T,\n",
    "           conf.int.alpha=0.1, #CI\n",
    "           surv.median.line = \"hv\", # median survival time\n",
    "           xlim=c(0,100),\n",
    "           break.x.by = 10,\n",
    "           legend.labs=c(\"High\",\"Low\")\n",
    ")"
   ]
  },
  {
   "cell_type": "code",
   "execution_count": 15,
   "id": "c07003cb",
   "metadata": {},
   "outputs": [
    {
     "data": {
      "text/plain": [
       "Call:\n",
       "coxph(formula = Surv(train$Time, train$survival) ~ train_pred)\n",
       "\n",
       "  n= 505, number of events= 76 \n",
       "\n",
       "                coef exp(coef)  se(coef)     z Pr(>|z|)    \n",
       "train_pred    8.3433 4202.0881    0.5495 15.18   <2e-16 ***\n",
       "---\n",
       "Signif. codes:  0 '***' 0.001 '**' 0.01 '*' 0.05 '.' 0.1 ' ' 1\n",
       "\n",
       "           exp(coef) exp(-coef) lower .95 upper .95\n",
       "train_pred      4202   0.000238      1431     12337\n",
       "\n",
       "Concordance= 0.911  (se = 0.02 )\n",
       "Likelihood ratio test= 181.4  on 1 df,   p=<2e-16\n",
       "Wald test            = 230.5  on 1 df,   p=<2e-16\n",
       "Score (logrank) test = 402.1  on 1 df,   p=<2e-16\n"
      ]
     },
     "metadata": {},
     "output_type": "display_data"
    }
   ],
   "source": [
    "# HR\n",
    "summary(coxph(Surv(train$Time,train$survival) ~ train_pred))  #"
   ]
  },
  {
   "cell_type": "markdown",
   "id": "5f8fca6c",
   "metadata": {},
   "source": [
    "### heatmap"
   ]
  },
  {
   "cell_type": "code",
   "execution_count": 16,
   "id": "3b84081b",
   "metadata": {},
   "outputs": [
    {
     "data": {
      "text/plain": [
       "    survival           Time          X5033.Urea     X5083.Uric.Acid..Urine\n",
       " Min.   :0.0000   Min.   :  0.00   Min.   : 0.450   Min.   :  57.0        \n",
       " 1st Qu.:0.0000   1st Qu.:  6.00   1st Qu.: 2.295   1st Qu.: 169.4        \n",
       " Median :0.0000   Median : 12.00   Median : 3.330   Median : 239.0        \n",
       " Mean   :0.1505   Mean   : 17.24   Mean   : 3.882   Mean   : 275.9        \n",
       " 3rd Qu.:0.0000   3rd Qu.: 22.00   3rd Qu.: 4.812   3rd Qu.: 343.5        \n",
       " Max.   :1.0000   Max.   :335.00   Max.   :20.320   Max.   :1129.9        \n",
       "                                   NA's   :9        NA's   :10            \n",
       " X5099.Hemoglobin X5252.Oxygen.Saturation  X6473.Lipase      fenzu          \n",
       " Min.   : 13.0    Min.   : 19.00          Min.   : 0.00   Length:505        \n",
       " 1st Qu.: 95.0    1st Qu.: 84.42          1st Qu.: 0.00   Class :character  \n",
       " Median :107.0    Median : 97.40          Median : 0.00   Mode  :character  \n",
       " Mean   :109.7    Mean   : 89.16          Mean   : 2.96                     \n",
       " 3rd Qu.:120.0    3rd Qu.: 99.40          3rd Qu.: 0.00                     \n",
       " Max.   :244.0    Max.   :100.00          Max.   :90.00                     \n",
       " NA's   :9        NA's   :3               NA's   :10                        "
      ]
     },
     "metadata": {},
     "output_type": "display_data"
    },
    {
     "data": {
      "text/plain": [
       "    fenzu              survival     \n",
       " Length:505         Min.   :0.0000  \n",
       " Class :character   1st Qu.:0.0000  \n",
       " Mode  :character   Median :0.0000  \n",
       "                    Mean   :0.1505  \n",
       "                    3rd Qu.:0.0000  \n",
       "                    Max.   :1.0000  "
      ]
     },
     "metadata": {},
     "output_type": "display_data"
    },
    {
     "data": {
      "text/plain": [
       "   Risk     Survival\n",
       " High:126   0:429   \n",
       " Low :379   1: 76   "
      ]
     },
     "metadata": {},
     "output_type": "display_data"
    },
    {
     "data": {
      "image/png": "[encoded data removed]",
      "text/plain": [
       "Plot with title \"Histogram of linshi\""
      ]
     },
     "metadata": {
      "image/png": {
       "height": 420,
       "width": 420
      }
     },
     "output_type": "display_data"
    }
   ],
   "source": [
    "red <- rgb(255,0,0,maxColorValue = 255)\n",
    "blue <- rgb(0,0,255,maxColorValue = 255)\n",
    "white <- rgb(255,255,255,maxColorValue = 255)\n",
    "summary(train)\n",
    "train$score=train_pred\n",
    "heat_cli=train[,c(8,1)]#risk and sur\n",
    "heat_cli<-heat_cli[order(train$score),]\n",
    "summary(heat_cli)\n",
    "heat_exp=train[,c(3:7)]\n",
    "heat_exp<-heat_exp[order(train$score),]\n",
    "annotation_col = data.frame(Risk=as.factor(heat_cli[,1]),\n",
    "                            Survival=as.factor(heat_cli[,2]))\n",
    "summary(annotation_col)\n",
    "rownames(annotation_col) <- rep(1:nrow(train))\n",
    "ann_colors = list(Risk=c(\"Low\"=\"#003399\",\"High\"=\"#BC3C28\"),\n",
    "                  Survival=c(\"0\"=\"#2E94B9\",\"1\"=\"#de4307\"))\n",
    "\n",
    "linshi <- scale(heat_exp[,1:5])#归一化\n",
    "rownames(linshi) <- rep(1:nrow(train))\n",
    "linshi<-t(linshi)\n",
    "hist(linshi)"
   ]
  },
  {
   "cell_type": "code",
   "execution_count": 17,
   "id": "d5aad427",
   "metadata": {
    "scrolled": true
   },
   "outputs": [
    {
     "data": {
      "image/png": "[encoded data removed]",
      "text/plain": [
       "plot without title"
      ]
     },
     "metadata": {
      "image/png": {
       "height": 420,
       "width": 420
      }
     },
     "output_type": "display_data"
    },
    {
     "data": {
      "text/html": [
       "<strong>png:</strong> 2"
      ],
      "text/latex": [
       "\\textbf{png:} 2"
      ],
      "text/markdown": [
       "**png:** 2"
      ],
      "text/plain": [
       "png \n",
       "  2 "
      ]
     },
     "metadata": {},
     "output_type": "display_data"
    },
    {
     "data": {
      "image/png": "[encoded data removed]",
      "text/plain": [
       "plot without title"
      ]
     },
     "metadata": {
      "image/png": {
       "height": 420,
       "width": 420
      }
     },
     "output_type": "display_data"
    }
   ],
   "source": [
    "linshi[linshi>2] <- 2\n",
    "linshi[linshi<(-2)] <- c(-2)\n",
    "p1<-pheatmap(linshi,fontsize=6,cutree_col = 4,cellheight = 5,cellwidth = 0.5 ,\n",
    "           color  = colorRampPalette(c(blue,white,red))(100),\n",
    "           annotation_col = annotation_col,\n",
    "           annotation_colors = ann_colors,\n",
    "           clustering_method = \"ward.D2\",\n",
    "           border_color = \"grey60\",\n",
    "           cluster_cols = F, cluster_rows = F,\n",
    "           show_rownames = T, show_colnames = F\n",
    "    )\n",
    "p1\n",
    "score=train$score[order(train$score)]\n",
    "score<-t(score)\n",
    "p2<-pheatmap(score,fontsize=6,cutree_col = 4,cellheight = 5,cellwidth = 0.5 ,\n",
    "           color  = colorRampPalette(c(\"#dadada\",\"#0B0B0B\"))(100),\n",
    "           clustering_method = \"ward.D2\",\n",
    "           border_color = \"grey60\",\n",
    "           cluster_cols = F, cluster_rows = F,\n",
    "           show_rownames = T, show_colnames = T\n",
    "    )\n",
    "p2\n",
    "p_train <- plot_grid(p2$gtable,p1$gtable, nrow = 2, align = \"v\")\n",
    "pdf(\"./Figs/3. heatmapTrain.pdf\")\n",
    "p_train\n",
    "dev.off()"
   ]
  },
  {
   "cell_type": "markdown",
   "id": "d35c69e0",
   "metadata": {},
   "source": [
    "### boxplot: compare high and low group"
   ]
  },
  {
   "cell_type": "code",
   "execution_count": 18,
   "id": "cc505bab",
   "metadata": {},
   "outputs": [
    {
     "data": {
      "image/png": "[encoded data removed]",
      "text/plain": [
       "plot without title"
      ]
     },
     "metadata": {
      "image/png": {
       "height": 420,
       "width": 420
      }
     },
     "output_type": "display_data"
    }
   ],
   "source": [
    "##all\n",
    "data2 <- data.frame(score = train_pred, \n",
    "                    cluster = as.factor(train$fenzu)) \n",
    "a2<-ggplot(data = data2, aes(x = cluster , y = score,fill=cluster)) + \n",
    "    stat_compare_means(label.y = 1, label.x = 1)  +  \n",
    "    geom_violin(trim=F,color=\"white\",width = 0.9) +\n",
    "    geom_boxplot(outlier.size=NA, size=0.01, outlier.shape = NA,width = 0.1,fill = \"#FFFFFF\")+ \n",
    "    scale_fill_manual(values = c(\"#BC3C28\",\"#003399\"))+ \n",
    "    theme_bw()+ \n",
    "    theme(axis.text.x=element_text(hjust = 0,colour=\"black\",size=10), \n",
    "          axis.text.y=element_text(size=10,colour=\"black\"), \n",
    "          axis.title.y=element_text(size = 10,colour=\"black\"), \n",
    "          legend.text=element_text(colour=\"black\",  \n",
    "                                   size=10),\n",
    "          legend.title=element_text(colour=\"black\", \n",
    "                                    size=10),\n",
    "          panel.grid.major = element_blank(),   \n",
    "          panel.grid.minor = element_blank())+ \n",
    "    ylab(\"Predict score\")\n",
    "a2"
   ]
  },
  {
   "cell_type": "code",
   "execution_count": 19,
   "id": "3de8eab6",
   "metadata": {},
   "outputs": [
    {
     "data": {
      "text/plain": [
       "    marker              value          cluster    \n",
       " Length:2525        Min.   :   0.000   High: 630  \n",
       " Class :character   1st Qu.:   3.158   Low :1895  \n",
       " Mode  :character   Median :  90.000              \n",
       "                    Mean   :  96.279              \n",
       "                    3rd Qu.: 116.000              \n",
       "                    Max.   :1129.900              \n",
       "                    NA's   :41                    "
      ]
     },
     "metadata": {},
     "output_type": "display_data"
    },
    {
     "name": "stderr",
     "output_type": "stream",
     "text": [
      "Warning message:\n",
      "\"Removed 41 rows containing non-finite values (stat_compare_means).\"\n",
      "Warning message:\n",
      "\"Removed 41 rows containing non-finite values (stat_boxplot).\"\n"
     ]
    },
    {
     "data": {
      "image/png": "[encoded data removed]",
      "text/plain": [
       "plot without title"
      ]
     },
     "metadata": {
      "image/png": {
       "height": 420,
       "width": 420
      }
     },
     "output_type": "display_data"
    }
   ],
   "source": [
    "# 5 markers\n",
    "marker_traindata<-data.frame(marker=rep(c(\"Uric Acid\",\"Urea\",\"Oxygen Saturation\",\"Hemoglobin\",\"Lipase\"),each=nrow(train)),\n",
    "                             value=c(train$X5083.Uric.Acid..Urine,train$X5033.Urea,train$X5252.Oxygen.Saturation,\n",
    "                                     train$X5099.Hemoglobin,train$X6473.Lipase),\n",
    "                             cluster=as.factor(rep(train$fenzu,5))) \n",
    "summary(marker_traindata)\n",
    "a3<-ggplot(marker_traindata, aes(x=marker, y=value, fill=cluster)) + \n",
    "    stat_compare_means(label = \"p.format\",method = \"wilcox.test\")+\n",
    "    geom_boxplot(outlier.shape = NA) +\n",
    "    scale_fill_manual(values = c(\"#BC3C28\",\"#003399\"))+\n",
    "    xlab(\"\")+ylab(\"\")+\n",
    "    facet_wrap(~marker, scale=\"free\",nrow=1)+\n",
    "    theme_bw() + theme(panel.grid=element_blank())\n",
    "a3"
   ]
  },
  {
   "cell_type": "markdown",
   "id": "f763c977",
   "metadata": {},
   "source": [
    "## Test cohort\n",
    "### KM"
   ]
  },
  {
   "cell_type": "code",
   "execution_count": 20,
   "id": "b8de95a7",
   "metadata": {},
   "outputs": [
    {
     "data": {
      "text/plain": [
       "Call:\n",
       "survdiff(formula = Surv(test$Time, test$survival) ~ test$fenzu, \n",
       "    data = test)\n",
       "\n",
       "                 N Observed Expected (O-E)^2/E (O-E)^2/V\n",
       "test$fenzu=High 32       16     4.45     29.96      39.6\n",
       "test$fenzu=Low  94        3    14.55      9.17      39.6\n",
       "\n",
       " Chisq= 39.6  on 1 degrees of freedom, p= 3e-10 "
      ]
     },
     "metadata": {},
     "output_type": "display_data"
    },
    {
     "data": {
      "image/png": "[encoded data removed]",
      "text/plain": [
       "plot without title"
      ]
     },
     "metadata": {
      "image/png": {
       "height": 420,
       "width": 420
      }
     },
     "output_type": "display_data"
    }
   ],
   "source": [
    "test$fenzu<-NA\n",
    "test$fenzu[which(test_pred>0.206)]<-\"High\"\n",
    "test$fenzu[which(test_pred<=0.206)]<-\"Low\"\n",
    "test_surv <- survfit(Surv(test$Time,test$survival)~test$fenzu,data = test)\n",
    "survdiff(Surv(test$Time,test$survival)~test$fenzu,data = test)\n",
    "blue <- \"#003399\"\n",
    "red <- \"#BC3C28\"\n",
    "ggsurvplot(test_surv,\n",
    "           pval = TRUE,#P-value\n",
    "           risk.table = TRUE, # Add risk table\n",
    "           risk.table.col = \"strata\", # Change risk table color by groups\n",
    "           palette = c(red,blue),\n",
    "           conf.int = T,\n",
    "           conf.int.alpha=0.1, \n",
    "           surv.median.line = \"hv\", \n",
    "           xlim=c(0,100),\n",
    "           break.x.by = 10,\n",
    "           legend.labs=c(\"High\",\"Low\")\n",
    ")"
   ]
  },
  {
   "cell_type": "code",
   "execution_count": 21,
   "id": "fd31d9e7",
   "metadata": {},
   "outputs": [
    {
     "data": {
      "text/plain": [
       "Call:\n",
       "coxph(formula = Surv(test$Time, test$survival) ~ test_pred)\n",
       "\n",
       "  n= 126, number of events= 19 \n",
       "\n",
       "             coef exp(coef) se(coef)     z Pr(>|z|)    \n",
       "test_pred   4.871   130.403    1.029 4.733 2.21e-06 ***\n",
       "---\n",
       "Signif. codes:  0 '***' 0.001 '**' 0.01 '*' 0.05 '.' 0.1 ' ' 1\n",
       "\n",
       "          exp(coef) exp(-coef) lower .95 upper .95\n",
       "test_pred     130.4   0.007669     17.35     979.9\n",
       "\n",
       "Concordance= 0.87  (se = 0.028 )\n",
       "Likelihood ratio test= 18.09  on 1 df,   p=2e-05\n",
       "Wald test            = 22.4  on 1 df,   p=2e-06\n",
       "Score (logrank) test = 30.26  on 1 df,   p=4e-08\n"
      ]
     },
     "metadata": {},
     "output_type": "display_data"
    }
   ],
   "source": [
    "# HR\n",
    "summary(coxph(Surv(test$Time,test$survival) ~ test_pred)) #130.4[17.35,979.9]"
   ]
  },
  {
   "cell_type": "markdown",
   "id": "8f4aa4b2",
   "metadata": {},
   "source": [
    "### heatmap"
   ]
  },
  {
   "cell_type": "code",
   "execution_count": 22,
   "id": "c42a5a5b",
   "metadata": {},
   "outputs": [
    {
     "data": {
      "text/plain": [
       "   Risk    Survival\n",
       " High:32   0:107   \n",
       " Low :94   1: 19   "
      ]
     },
     "metadata": {},
     "output_type": "display_data"
    },
    {
     "data": {
      "image/png": "[encoded data removed]",
      "text/plain": [
       "Plot with title \"Histogram of linshi\""
      ]
     },
     "metadata": {
      "image/png": {
       "height": 420,
       "width": 420
      }
     },
     "output_type": "display_data"
    }
   ],
   "source": [
    "test$score=test_pred\n",
    "heat_cli=test[,c(8,1)]#risk and sur\n",
    "heat_cli<-heat_cli[order(test$score),]\n",
    "heat_exp=test[,c(3:7)]\n",
    "heat_exp<-heat_exp[order(test$score),]\n",
    "annotation_col = data.frame(Risk=as.factor(heat_cli[,1]),\n",
    "                            Survival=as.factor(heat_cli[,2]))\n",
    "summary(annotation_col)\n",
    "rownames(annotation_col) <- rep(1:nrow(test))\n",
    "\n",
    "linshi <- scale(heat_exp[,1:5])#归一化\n",
    "rownames(linshi) <- rep(1:nrow(test))\n",
    "linshi<-t(linshi)\n",
    "hist(linshi)"
   ]
  },
  {
   "cell_type": "code",
   "execution_count": 23,
   "id": "4a69b92d",
   "metadata": {
    "scrolled": true
   },
   "outputs": [
    {
     "data": {
      "image/png": "[encoded data removed]",
      "text/plain": [
       "plot without title"
      ]
     },
     "metadata": {
      "image/png": {
       "height": 420,
       "width": 420
      }
     },
     "output_type": "display_data"
    },
    {
     "data": {
      "text/html": [
       "<strong>png:</strong> 2"
      ],
      "text/latex": [
       "\\textbf{png:} 2"
      ],
      "text/markdown": [
       "**png:** 2"
      ],
      "text/plain": [
       "png \n",
       "  2 "
      ]
     },
     "metadata": {},
     "output_type": "display_data"
    },
    {
     "data": {
      "image/png": "[encoded data removed]",
      "text/plain": [
       "plot without title"
      ]
     },
     "metadata": {
      "image/png": {
       "height": 420,
       "width": 420
      }
     },
     "output_type": "display_data"
    }
   ],
   "source": [
    "linshi[linshi>2] <- 2\n",
    "linshi[linshi<(-2)] <- c(-2)\n",
    "p3<-pheatmap(linshi,fontsize=6,cutree_col = 4,cellheight = 5,cellwidth = 0.5,\n",
    "             color  = colorRampPalette(c(blue,white,red))(100),\n",
    "             annotation_col = annotation_col,\n",
    "             annotation_colors = ann_colors,\n",
    "             clustering_method = \"ward.D2\",\n",
    "             border_color = \"grey60\",\n",
    "             cluster_cols = F, cluster_rows = F,\n",
    "             show_rownames = T, show_colnames = F\n",
    ")\n",
    "p3\n",
    "score=test$score[order(test$score)]\n",
    "score<-t(score)\n",
    "p4<-pheatmap(score,fontsize=6,cutree_col = 4,cellheight = 5,cellwidth =0.5,\n",
    "             color  = colorRampPalette(c(\"#dadada\",\"#0B0B0B\"))(100),\n",
    "             clustering_method = \"ward.D2\",\n",
    "             border_color = \"grey60\",\n",
    "             cluster_cols = F, cluster_rows = F,\n",
    "             show_rownames = T, show_colnames = T\n",
    ")\n",
    "p4\n",
    "p_test<- plot_grid(p4$gtable,p3$gtable, nrow = 2, align = \"v\")\n",
    "pdf(\"./Figs/3. heatmapTest.pdf\")\n",
    "p_test\n",
    "dev.off()"
   ]
  },
  {
   "cell_type": "markdown",
   "id": "15158182",
   "metadata": {},
   "source": [
    "### boxplot: compare high and low group"
   ]
  },
  {
   "cell_type": "code",
   "execution_count": 24,
   "id": "50b6c7f8",
   "metadata": {},
   "outputs": [
    {
     "data": {
      "image/png": "[encoded data removed]",
      "text/plain": [
       "plot without title"
      ]
     },
     "metadata": {
      "image/png": {
       "height": 420,
       "width": 420
      }
     },
     "output_type": "display_data"
    }
   ],
   "source": [
    "# all\n",
    "data3 <- data.frame(score = test_pred, \n",
    "                    cluster = as.factor(test$fenzu)) \n",
    "a4<-ggplot(data = data3, aes(x = cluster , y = score,fill=cluster)) + \n",
    "  stat_compare_means(label.y = 1, label.x = 1)  +  \n",
    "  geom_violin(trim=F,color=\"white\",width = 0.9) +\n",
    "  geom_boxplot(outlier.size=NA, size=0.01, outlier.shape = NA,width = 0.1,fill = \"#FFFFFF\")+ \n",
    "  scale_fill_manual(values = c(\"#BC3C28\",\"#003399\"))+ \n",
    "  theme_bw()+ \n",
    "  theme(axis.text.x=element_text(hjust = 0,colour=\"black\",size=10), \n",
    "        axis.text.y=element_text(size=10,colour=\"black\"), \n",
    "        axis.title.y=element_text(size = 10,colour=\"black\"), \n",
    "        legend.text=element_text(colour=\"black\",  \n",
    "                                 size=10),\n",
    "        legend.title=element_text(colour=\"black\", \n",
    "                                  size=10),\n",
    "        panel.grid.major = element_blank(),   \n",
    "        panel.grid.minor = element_blank())+ \n",
    "  ylab(\"Predict score\")\n",
    "a4"
   ]
  },
  {
   "cell_type": "code",
   "execution_count": 25,
   "id": "b3f742ab",
   "metadata": {},
   "outputs": [
    {
     "name": "stderr",
     "output_type": "stream",
     "text": [
      "Warning message:\n",
      "\"Removed 10 rows containing non-finite values (stat_compare_means).\"\n",
      "Warning message:\n",
      "\"Removed 10 rows containing non-finite values (stat_boxplot).\"\n"
     ]
    },
    {
     "data": {
      "image/png": "[encoded data removed]",
      "text/plain": [
       "plot without title"
      ]
     },
     "metadata": {
      "image/png": {
       "height": 420,
       "width": 420
      }
     },
     "output_type": "display_data"
    }
   ],
   "source": [
    "#----boxplot compare High and Low risk 5 markers--#\n",
    "marker_testdata<-data.frame(marker=rep(c(\"Uric Acid\",\"Urea\",\"Oxygen Saturation\",\"Hemoglobin\",\"Lipase\"),each=nrow(test)),\n",
    "                             value=c(test$X5083.Uric.Acid..Urine,test$X5033.Urea,test$X5252.Oxygen.Saturation,\n",
    "                                     test$X5099.Hemoglobin,test$X6473.Lipase),\n",
    "                             cluster=as.factor(rep(test$fenzu,5))) \n",
    "a5<-ggplot(marker_testdata, aes(x=marker, y=value, fill=cluster)) + \n",
    "  stat_compare_means(label = \"p.format\",method = \"wilcox.test\")+\n",
    "  geom_boxplot(outlier.shape = NA) +\n",
    "  scale_fill_manual(values = c(\"#BC3C28\",\"#003399\"))+\n",
    "  xlab(\"\")+ylab(\"\")+\n",
    "  facet_wrap(~marker, scale=\"free\",nrow=1)+\n",
    "  theme_bw() + theme(panel.grid=element_blank())\n",
    "a5"
   ]
  },
  {
   "cell_type": "markdown",
   "id": "1ce28dc8",
   "metadata": {},
   "source": [
    "### s. patients aged 3-5 validata"
   ]
  },
  {
   "cell_type": "code",
   "execution_count": 8,
   "id": "38209e26",
   "metadata": {},
   "outputs": [
    {
     "data": {
      "text/html": [
       "<table class=\"dataframe\">\n",
       "<caption>A data.frame: 2 × 11</caption>\n",
       "<thead>\n",
       "\t<tr><th></th><th scope=col>SUBJECT_ID</th><th scope=col>HADM_ID</th><th scope=col>ADMI_AGE</th><th scope=col>GENDER</th><th scope=col>Time</th><th scope=col>EXPIRE_FLAG</th><th scope=col>X5033.Urea</th><th scope=col>X5083.Uric.Acid..Urine</th><th scope=col>X5099.Hemoglobin</th><th scope=col>X5252.Oxygen.Saturation</th><th scope=col>X6473.Lipase</th></tr>\n",
       "\t<tr><th></th><th scope=col>&lt;int&gt;</th><th scope=col>&lt;int&gt;</th><th scope=col>&lt;int&gt;</th><th scope=col>&lt;chr&gt;</th><th scope=col>&lt;int&gt;</th><th scope=col>&lt;int&gt;</th><th scope=col>&lt;dbl&gt;</th><th scope=col>&lt;dbl&gt;</th><th scope=col>&lt;int&gt;</th><th scope=col>&lt;dbl&gt;</th><th scope=col>&lt;int&gt;</th></tr>\n",
       "</thead>\n",
       "<tbody>\n",
       "\t<tr><th scope=row>1</th><td>676</td><td>100662</td><td>1129</td><td>M</td><td>12</td><td>0</td><td>3.10</td><td>124.0</td><td> 97</td><td> 96.6</td><td>12</td></tr>\n",
       "\t<tr><th scope=row>2</th><td>836</td><td>100816</td><td>1162</td><td>M</td><td> 3</td><td>0</td><td>3.29</td><td>219.5</td><td>137</td><td>100.0</td><td> 5</td></tr>\n",
       "</tbody>\n",
       "</table>\n"
      ],
      "text/latex": [
       "A data.frame: 2 × 11\n",
       "\\begin{tabular}{r|lllllllllll}\n",
       "  & SUBJECT\\_ID & HADM\\_ID & ADMI\\_AGE & GENDER & Time & EXPIRE\\_FLAG & X5033.Urea & X5083.Uric.Acid..Urine & X5099.Hemoglobin & X5252.Oxygen.Saturation & X6473.Lipase\\\\\n",
       "  & <int> & <int> & <int> & <chr> & <int> & <int> & <dbl> & <dbl> & <int> & <dbl> & <int>\\\\\n",
       "\\hline\n",
       "\t1 & 676 & 100662 & 1129 & M & 12 & 0 & 3.10 & 124.0 &  97 &  96.6 & 12\\\\\n",
       "\t2 & 836 & 100816 & 1162 & M &  3 & 0 & 3.29 & 219.5 & 137 & 100.0 &  5\\\\\n",
       "\\end{tabular}\n"
      ],
      "text/markdown": [
       "\n",
       "A data.frame: 2 × 11\n",
       "\n",
       "| <!--/--> | SUBJECT_ID &lt;int&gt; | HADM_ID &lt;int&gt; | ADMI_AGE &lt;int&gt; | GENDER &lt;chr&gt; | Time &lt;int&gt; | EXPIRE_FLAG &lt;int&gt; | X5033.Urea &lt;dbl&gt; | X5083.Uric.Acid..Urine &lt;dbl&gt; | X5099.Hemoglobin &lt;int&gt; | X5252.Oxygen.Saturation &lt;dbl&gt; | X6473.Lipase &lt;int&gt; |\n",
       "|---|---|---|---|---|---|---|---|---|---|---|---|\n",
       "| 1 | 676 | 100662 | 1129 | M | 12 | 0 | 3.10 | 124.0 |  97 |  96.6 | 12 |\n",
       "| 2 | 836 | 100816 | 1162 | M |  3 | 0 | 3.29 | 219.5 | 137 | 100.0 |  5 |\n",
       "\n"
      ],
      "text/plain": [
       "  SUBJECT_ID HADM_ID ADMI_AGE GENDER Time EXPIRE_FLAG X5033.Urea\n",
       "1 676        100662  1129     M      12   0           3.10      \n",
       "2 836        100816  1162     M       3   0           3.29      \n",
       "  X5083.Uric.Acid..Urine X5099.Hemoglobin X5252.Oxygen.Saturation X6473.Lipase\n",
       "1 124.0                   97               96.6                   12          \n",
       "2 219.5                  137              100.0                    5          "
      ]
     },
     "metadata": {},
     "output_type": "display_data"
    }
   ],
   "source": [
    "data5 <- read.csv(\"./Temps/s.model_Data_3_5.csv\",stringsAsFactors = F)\n",
    "head(data5,2)"
   ]
  },
  {
   "cell_type": "code",
   "execution_count": 9,
   "id": "9b6ae048",
   "metadata": {},
   "outputs": [
    {
     "name": "stderr",
     "output_type": "stream",
     "text": [
      "Setting levels: control = 0, case = 1\n",
      "\n",
      "Setting direction: controls < cases\n",
      "\n"
     ]
    },
    {
     "data": {
      "text/plain": [
       "\n",
       "Call:\n",
       "roc.default(response = data5$EXPIRE_FLAG, predictor = pred)\n",
       "\n",
       "Data: pred in 42 controls (data5$EXPIRE_FLAG 0) < 1 cases (data5$EXPIRE_FLAG 1).\n",
       "Area under the curve: 0.881"
      ]
     },
     "metadata": {},
     "output_type": "display_data"
    }
   ],
   "source": [
    "vdata5 <- as.matrix(data5[,7:11])\n",
    "pred <- predict(mxgb5m,vdata5,type = \"response\")\n",
    "roc(data5$EXPIRE_FLAG,pred)"
   ]
  },
  {
   "cell_type": "code",
   "execution_count": 13,
   "id": "ea087fd8",
   "metadata": {},
   "outputs": [
    {
     "data": {
      "text/html": [
       "0.249243229627609"
      ],
      "text/latex": [
       "0.249243229627609"
      ],
      "text/markdown": [
       "0.249243229627609"
      ],
      "text/plain": [
       "[1] 0.2492432"
      ]
     },
     "metadata": {},
     "output_type": "display_data"
    }
   ],
   "source": [
    "pred[which(data5$EXPIRE_FLAG==1)]"
   ]
  },
  {
   "cell_type": "code",
   "execution_count": 16,
   "id": "a7e2912a",
   "metadata": {},
   "outputs": [
    {
     "data": {
      "text/plain": [
       "\n",
       " 0  1 \n",
       "42  1 "
      ]
     },
     "metadata": {},
     "output_type": "display_data"
    },
    {
     "name": "stderr",
     "output_type": "stream",
     "text": [
      "Warning message in .add_surv_median(p, fit, type = surv.median.line, fun = fun, :\n",
      "\"Median survival not reached.\"\n"
     ]
    },
    {
     "data": {
      "image/png": "[encoded data removed]",
      "text/plain": [
       "plot without title"
      ]
     },
     "metadata": {
      "image/png": {
       "height": 420,
       "width": 420
      }
     },
     "output_type": "display_data"
    }
   ],
   "source": [
    "table(data5$EXPIRE_FLAG)\n",
    "data5$fenzu<-NA\n",
    "data5$fenzu[which(pred>0.206)]<-\"High\"\n",
    "data5$fenzu[which(pred<=0.206)]<-\"Low\"\n",
    "blue <- \"#003399\"\n",
    "red <- \"#BC3C28\"\n",
    "data5_surv <- survfit(Surv(data5$Time,data5$EXPIRE_FLAG)~data5$fenzu,data = data5)\n",
    "ggsurvplot(data5_surv,\n",
    "           pval = TRUE,#P-value\n",
    "           risk.table = TRUE, # Add risk table\n",
    "           risk.table.col = \"strata\", # Change risk table color by groups\n",
    "           palette = c(red,blue),\n",
    "           conf.int = T,\n",
    "           conf.int.alpha=0.1, #CI\n",
    "           surv.median.line = \"hv\", # median survival time\n",
    "           xlim=c(0,100),\n",
    "           break.x.by = 10,\n",
    "           legend.labs=c(\"High\",\"Low\")\n",
    ")"
   ]
  }
 ],
 "metadata": {
  "kernelspec": {
   "display_name": "R",
   "language": "R",
   "name": "ir"
  },
  "language_info": {
   "codemirror_mode": "r",
   "file_extension": ".r",
   "mimetype": "text/x-r-source",
   "name": "R",
   "pygments_lexer": "r",
   "version": "4.2.1"
  }
 },
 "nbformat": 4,
 "nbformat_minor": 5
}
